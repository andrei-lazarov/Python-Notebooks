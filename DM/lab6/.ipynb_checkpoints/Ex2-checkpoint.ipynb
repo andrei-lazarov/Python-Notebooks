{
 "cells": [
  {
   "cell_type": "code",
   "execution_count": 4,
   "metadata": {
    "colab": {
     "base_uri": "https://localhost:8080/"
    },
    "id": "4gtJqyt8lE8z",
    "outputId": "f1035832-540a-4481-83ee-05c3117fbafa"
   },
   "outputs": [
    {
     "data": {
      "text/plain": [
       "3.0"
      ]
     },
     "execution_count": 4,
     "metadata": {},
     "output_type": "execute_result"
    }
   ],
   "source": [
    "from afinn import Afinn\n",
    "afinn = Afinn()\n",
    "afinn.score('This is utterly excellent!') # Positive"
   ]
  },
  {
   "cell_type": "markdown",
   "metadata": {
    "id": "st83h6oPpZEy"
   },
   "source": [
    "### NLTK Vader - Smarter lexicon-based analyzer\n",
    "\n",
    "VADER (Valence Aware Dictionary and sEntiment Reasoner) is a lexicon-based sentiment analysis tool specifically designed for social media text. It combines a sentiment lexicon with a set of heuristic rules to analyze the sentiment of a given piece of text. Here's an overview of how VADER works:\n",
    "\n",
    "Sentiment Lexicon: VADER uses a pre-built sentiment lexicon containing over 7,500 words, each assigned a sentiment score ranging from -4 (most negative) to 4 (most positive). These scores were generated through human-annotation and fine-tuned for social media text, taking into account factors like emoticons, acronyms, and slang.\n",
    "\n",
    "**Heuristic Rules**: VADER applies several heuristic rules to account for various linguistic aspects, such as:\n",
    "\n",
    "* **Punctuation**: VADER considers the presence and repetition of exclamation marks, question marks, and other punctuation to emphasize or moderate the sentiment intensity.\n",
    "\n",
    "* **Capitalization**: VADER takes into account the capitalization of words to adjust sentiment intensity. For example, \"GREAT\" is considered more positive than \"great\".\n",
    "\n",
    "* **Booster words**: VADER identifies words that can modify the sentiment intensity of neighboring words, such as \"very\", \"extremely\", or \"absolutely\".\n",
    "\n",
    "* **Negation**: VADER considers negation words like \"not\" or \"but\" to flip or diminish the sentiment intensity of neighboring words.\n",
    "\n",
    "* **Emoticons, emojis, and slang**: VADER's lexicon includes common emoticons, emojis, and slang terms (e.g., \"LOL\", \":-)\", \"😊\") to better capture sentiment in social media text.\n",
    "\n",
    "**Sentiment Scoring**: VADER processes the input text and calculates the sentiment score for each word based on the lexicon and the heuristic rules. It then aggregates the scores to produce three values:\n",
    "\n",
    "1. **Positive sentiment**: The proportion of positive sentiment in the text.\n",
    "2. **Negative sentiment**: The proportion of negative sentiment in the text.\n",
    "3. **Neutral sentiment**: The proportion of neutral sentiment in the text.\n",
    "\n",
    "Compound Score: VADER computes a compound score by normalizing the aggregated sentiment scores. The compound score ranges from -1 (most negative) to 1 (most positive), providing an overall sentiment polarity for the input text."
   ]
  },
  {
   "cell_type": "code",
   "execution_count": 5,
   "metadata": {
    "colab": {
     "base_uri": "https://localhost:8080/"
    },
    "id": "D_QlA0bOgAxD",
    "outputId": "563a7db4-9648-4e80-e6ad-462f679fcb82"
   },
   "outputs": [
    {
     "name": "stdout",
     "output_type": "stream",
     "text": [
      "{'neg': 0.0, 'neu': 0.308, 'pos': 0.692, 'compound': 0.6696}\n"
     ]
    },
    {
     "name": "stderr",
     "output_type": "stream",
     "text": [
      "[nltk_data] Downloading package vader_lexicon to\n",
      "[nltk_data]     /home/andy/nltk_data...\n",
      "[nltk_data]   Package vader_lexicon is already up-to-date!\n"
     ]
    }
   ],
   "source": [
    "import nltk\n",
    "from nltk.sentiment import SentimentIntensityAnalyzer\n",
    "nltk.download('vader_lexicon')\n",
    "\n",
    "sia = SentimentIntensityAnalyzer()\n",
    "text = \"I love this movie!\"\n",
    "sentiment = sia.polarity_scores(text)\n",
    "print(sentiment)"
   ]
  },
  {
   "cell_type": "markdown",
   "metadata": {
    "id": "PWMwdywuu8OH"
   },
   "source": [
    "Let's analyze some song lyrics using our newly discovered vader lexicon."
   ]
  },
  {
   "cell_type": "code",
   "execution_count": 6,
   "metadata": {
    "colab": {
     "base_uri": "https://localhost:8080/"
    },
    "id": "aH1lfH3WsLcu",
    "outputId": "043b7b81-aafe-4c41-e22c-0007b3d4cc77"
   },
   "outputs": [
    {
     "name": "stdout",
     "output_type": "stream",
     "text": [
      "{'neg': 0.101, 'neu': 0.827, 'pos': 0.072, 'compound': -0.3662}\n"
     ]
    },
    {
     "name": "stderr",
     "output_type": "stream",
     "text": [
      "[nltk_data] Downloading package vader_lexicon to\n",
      "[nltk_data]     /home/andy/nltk_data...\n",
      "[nltk_data]   Package vader_lexicon is already up-to-date!\n"
     ]
    }
   ],
   "source": [
    "import nltk\n",
    "from nltk.sentiment import SentimentIntensityAnalyzer\n",
    "\n",
    "nltk.download('vader_lexicon')\n",
    "\n",
    "def analyze_lyrics(lyrics):\n",
    "    sia = SentimentIntensityAnalyzer()\n",
    "    sentiment = sia.polarity_scores(lyrics)\n",
    "    return sentiment\n",
    "\n",
    "# Example song lyrics (replace with the lyrics you want to analyze)\n",
    "lyrics = '''\n",
    "Where is the moment we needed the most?\n",
    "You kick up the leaves, and the magic is lost\n",
    "They tell me your blue sky's faded to gray\n",
    "They tell me your passion's gone away\n",
    "And I don't need no carrying on\n",
    "\n",
    "You stand in the line just to hit a new low\n",
    "You're faking a smile with the coffee to go\n",
    "You tell me your life's been way off line\n",
    "You're falling to pieces every time\n",
    "And I don't need no carrying on\n",
    "'''\n",
    "\n",
    "sentiment = analyze_lyrics(lyrics)\n",
    "print(sentiment)"
   ]
  },
  {
   "cell_type": "markdown",
   "metadata": {
    "id": "eeqdYezcvIck"
   },
   "source": [
    "### Exercise 2 - Analyze your favorite songs\n",
    "\n",
    "Pick 2 songs (or however many you are curious about) and analyze their sentiment both with nltk_vader and afinn.\n",
    "\n",
    "Preferably choose at least one sad and one happy song and see how much the 2 libraries agree with you on the text's sentiment. You can just copy paste the lyrics from the internet.\n",
    "\n",
    "*If the analysis is far from your expectation, keep in mind that the analyzer has access solely to the text of each song, not the melodic line or the (hidden) meaning behind words.*\n"
   ]
  },
  {
   "cell_type": "code",
   "execution_count": 7,
   "metadata": {
    "id": "ODdFrskFwT3r"
   },
   "outputs": [
    {
     "name": "stdout",
     "output_type": "stream",
     "text": [
      "171.0\n",
      "-13.0\n",
      "{'neg': 0.0, 'neu': 0.411, 'pos': 0.589, 'compound': 0.9998}\n",
      "{'neg': 0.111, 'neu': 0.786, 'pos': 0.103, 'compound': -0.7994}\n"
     ]
    }
   ],
   "source": [
    "song1=\"Shine bright like a diamond Shine bright like a diamond Find light in the beautiful sea, I choose to be happy You and I, you and I, we're like diamonds in the sky You're a shooting star I see, a vision of ecstasy When you hold me, I'm alive, we're like diamonds in the sky I knew that we'd become one right away Oh, right away At first sight I felt the energy of sun rays I saw the life inside your eyes So shine bright, tonight, you and I We're beautiful like diamonds in the sky Eye to eye, so alive We're beautiful like diamonds in the sky Shine bright like a diamond (whoa) Shine bright like a diamond (whoa) Shining bright like a diamond We're beautiful like diamonds in the sky Shine bright like a diamond (whoa) Shine bright like a diamond (whoa) Shining bright like a diamond We're beautiful like diamonds in the sky Palms rise to the universe as we moonshine and molly Feel the warmth, we'll never die, we're like diamonds in the sky You're a shooting star I see, a vision of ecstasy When you hold me, I'm alive, we're like diamonds in the sky At first sight I felt the energy of sun rays I saw the life inside your eyes So shine bright, tonight, you and I We're beautiful like diamonds in the sky Eye to eye, so alive We're beautiful like diamonds in the sky Shine bright like a diamond (whoa) Shine bright like a diamond (whoa) Shining bright like a diamond We're beautiful like diamonds in the sky Shine bright like a diamond (whoa) Shine bright like a diamond (whoa) Shining bright like a diamond We're beautiful like diamonds in the sky Shine bright like a diamond Shine bright like a diamond Shine bright like a diamond So shine bright, tonight, you and I We're beautiful like diamonds in the sky Eye to eye, so alive We're beautiful like diamonds in the sky Shine bright like a diamond (whoa) Shine bright like a diamond (whoa) Shine bright like a diamond, oh-oh, yeah Shine bright like a diamond (whoa) Shine bright like a diamond (whoa) Shine bright like a diamond Shine bright like a diamond\"\n",
    "song2=\"Yeah, I know sometimes Things may not always make sense to you right now But hey, what'd daddy always tell you? Straighten up, little soldier Stiffen up that upper lip What you cryin' about? You got me Hailie, I know you miss your mom, and I know you miss your dad When I'm gone, but I'm tryna give you the life that I never had I can see you're sad even when you smile, even when you laugh I can see it in your eyes, deep inside, you wanna cry 'Cause you're scared, I ain't there? Daddy's with you in your prayers No more crying, wipe them tears, daddy's here, no more nightmares We gon' pull together through it, we gon' do it Lainie, uncle's crazy, ain't he? Yeah, but he loves you, girl, and you better know it We're all we got in this world, when it spins, when it swirls When it whirls, when it twirls, two little beautiful girls Lookin' puzzled, in a daze, I know it's confusing you Daddy's always on the move, mama's always on the news I try to keep you sheltered from it, but somehow, it seems The harder that I try to do that, the more it backfires on me All the things growin' up as daddy that he had to see Daddy don't want you to see, but you see just as much as he did We did not plan it to be this way, your mother and me But things have got so bad between us I don't see us ever being together ever again Like we used to be when we was teenagers But then, of course, everything always happens for a reason I guess it was never meant to be But it's just something we have no control over, and that's what destiny is But no more worries, rest your head and go to sleep Maybe one day, we'll wake up, and this will all just be a dream Now hush, little baby, don't you cry Everything's gonna be alright Stiffen that upper lip up, little lady, I told ya Daddy's here to hold ya through the night I know mommy's not here right now, and we don't know why We feel how we feel inside It may seem a little crazy, pretty baby But I promise mama's gon' be alright Huh, it's funny I remember back one year when daddy had no money Mommy wrapped the Christmas presents up and stuck 'em under the tree And said some of 'em were from me, 'cause daddy couldn't buy 'em I'll never forget that Christmas, I sat up the whole night crying 'Cause daddy felt like a bum, see, daddy had a job But his job was to keep the food on the table for you and mom And at the time, every house that we lived in Either kept gettin' broken into and robbed Or shot up on the block And your mom was savin' money for you in a jar Tryna start a piggy bank for you so you could go to college Almost had a thousand dollars 'til someone broke in and stole it And I know it hurt so bad, it broke your mama's heart And it seemed like everything was just startin' to fall apart Mom and dad was arguin' a lot So mama moved back on to Chalmers in a flat one-bedroom apartment And dad moved back to the other side of 8 Mile on Novara And that's when daddy went to California with his CD And met Dr. Dre, and flew you and mama out to see me But daddy had to work, you and mama had to leave me Then you started seeing daddy on the TV, and mama didn't like it And you and Lainie were too young to understand it Papa was a rolling stone, mama developed a habit And it all happened too fast for either one of us to grab it I'm just sorry you were there and had to witness it first-hand 'Cause all I ever wanted to do was just make you proud Now I'm sittin' in this empty house Just reminiscin', lookin' at your baby pictures, it just trips me out To see how much you both have grown, it's almost like you're sisters now Wow, guess you pretty much are, and daddy's still here Lainie, I'm talkin' to you too, daddy's still here I like the sound of that, yeah, it's got a ring to it, don't it? Shh, mama's only gone for the moment Now hush, little baby, don't you cry Everything's gonna be alright Stiffen that upper lip up, little lady, I told ya Daddy's here to hold ya through the night I know mommy's not here right now, and we don't know why We feel how we feel inside It may seem a little crazy, pretty baby But I promise mama's gon' be alright And if you ask me to, daddy's gonna buy you a mockingbird I'ma give you the world I'ma buy a diamond ring for you, I'ma sing for you I'll do anything for you to see you smile And if that mockingbird don't sing, and that ring don't shine I'ma break that birdie's neck I'll go back to the jeweler who sold it to ya And make him eat every carat, don't fuck with dad\"\n",
    "\n",
    "print(afinn.score(song1))\n",
    "print(afinn.score(song2))\n",
    "print(analyze_lyrics(song1))\n",
    "print(analyze_lyrics(song2))\n"
   ]
  }
 ],
 "metadata": {
  "colab": {
   "provenance": []
  },
  "kernelspec": {
   "display_name": "Python 3 (ipykernel)",
   "language": "python",
   "name": "python3"
  },
  "language_info": {
   "codemirror_mode": {
    "name": "ipython",
    "version": 3
   },
   "file_extension": ".py",
   "mimetype": "text/x-python",
   "name": "python",
   "nbconvert_exporter": "python",
   "pygments_lexer": "ipython3",
   "version": "3.9.13"
  }
 },
 "nbformat": 4,
 "nbformat_minor": 1
}
