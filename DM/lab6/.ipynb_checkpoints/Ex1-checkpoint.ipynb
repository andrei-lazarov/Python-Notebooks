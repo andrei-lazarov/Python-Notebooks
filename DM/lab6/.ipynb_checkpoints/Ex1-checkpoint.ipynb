{
 "cells": [
  {
   "cell_type": "markdown",
   "metadata": {
    "id": "9MxRwxEok47v"
   },
   "source": [
    "# Sentiment Analysis\n",
    "Sentiment analysis is the name given to the process of extracting the sentiment from a text (or classifying it into categories such as positive, negative and neutral).\n",
    "It is possible for the classification to also contain extra information regarding how intense this sentiment is (e.g. not just positive/negative, but very positive, positive, negative, very negative) as well as nuanced emotions."
   ]
  },
  {
   "cell_type": "markdown",
   "metadata": {
    "id": "8FN1rVh1k7RJ"
   },
   "source": [
    "### Lexicon-based Sentiment\n",
    "\n",
    "Lexicons are dictionaries that contain a collection of words and their corresponding sentiment value (for example ‘happy’ - positive, ‘sad’ - negative).\n",
    "These lexicons are used for measuring the overall sentiment of a text by usually naively adding up all of these sentiment values. "
   ]
  },
  {
   "cell_type": "markdown",
   "metadata": {
    "id": "YHoUI3skryf2"
   },
   "source": [
    "### Afinn\n",
    "AFINN is a lexicon-based sentiment analysis tool that uses a predefined list of English words, each assigned an integer sentiment score between -5 (most negative) and +5 (most positive). To analyze the sentiment of a given piece of text, AFINN sums up the sentiment scores of individual words found in the text. The resulting score provides an overall measure of the sentiment polarity of the input text."
   ]
  },
  {
   "cell_type": "code",
   "execution_count": 1,
   "metadata": {
    "colab": {
     "base_uri": "https://localhost:8080/"
    },
    "id": "EWAAmfPDk3pT",
    "outputId": "91e04b91-8c4d-46f5-b096-9a62634c52ec",
    "scrolled": true
   },
   "outputs": [
    {
     "name": "stdout",
     "output_type": "stream",
     "text": [
      "Collecting afinn\n",
      "  Downloading afinn-0.1.tar.gz (52 kB)\n",
      "\u001b[2K     \u001b[38;2;114;156;31m━━━━━━━━━━━━━━━━━━━━━━━━━━━━━━━━━━━━━━━\u001b[0m \u001b[32m52.6/52.6 kB\u001b[0m \u001b[31m556.2 kB/s\u001b[0m eta \u001b[36m0:00:00\u001b[0m kB/s\u001b[0m eta \u001b[36m0:00:01\u001b[0m:01\u001b[0m\n",
      "\u001b[?25h  Preparing metadata (setup.py) ... \u001b[?25ldone\n",
      "\u001b[?25hBuilding wheels for collected packages: afinn\n",
      "  Building wheel for afinn (setup.py) ... \u001b[?25ldone\n",
      "\u001b[?25h  Created wheel for afinn: filename=afinn-0.1-py3-none-any.whl size=53431 sha256=3b8a665d3d9889adf9f8324f8bf8c13b5468efcda608d4b9c3f51336e974f11c\n",
      "  Stored in directory: /home/andy/.cache/pip/wheels/79/91/ee/8374d9bc8c6c0896a2db75afdfd63d43653902407a0e76cd94\n",
      "Successfully built afinn\n",
      "Installing collected packages: afinn\n",
      "Successfully installed afinn-0.1\n"
     ]
    }
   ],
   "source": [
    "#!pip install afinn"
   ]
  },
  {
   "cell_type": "code",
   "execution_count": 3,
   "metadata": {
    "colab": {
     "base_uri": "https://localhost:8080/"
    },
    "id": "4gtJqyt8lE8z",
    "outputId": "f1035832-540a-4481-83ee-05c3117fbafa"
   },
   "outputs": [
    {
     "data": {
      "text/plain": [
       "3.0"
      ]
     },
     "execution_count": 3,
     "metadata": {},
     "output_type": "execute_result"
    }
   ],
   "source": [
    "from afinn import Afinn\n",
    "afinn = Afinn()\n",
    "afinn.score('This is utterly excellent!') # Positive"
   ]
  },
  {
   "cell_type": "code",
   "execution_count": 4,
   "metadata": {
    "colab": {
     "base_uri": "https://localhost:8080/"
    },
    "id": "vRcMFlF0l1wf",
    "outputId": "33cb4b0f-86da-4e3f-deea-e54f3f613b88"
   },
   "outputs": [
    {
     "data": {
      "text/plain": [
       "-4.0"
      ]
     },
     "execution_count": 4,
     "metadata": {},
     "output_type": "execute_result"
    }
   ],
   "source": [
    "afinn.score('Things were going pretty bad in there, some got sick and had to return.') # Negative"
   ]
  },
  {
   "cell_type": "code",
   "execution_count": 5,
   "metadata": {
    "colab": {
     "base_uri": "https://localhost:8080/"
    },
    "id": "qN5JXXW9lnH0",
    "outputId": "6fc24272-ffdb-4ad7-dbef-c1e86772c3ca"
   },
   "outputs": [
    {
     "data": {
      "text/plain": [
       "3.0"
      ]
     },
     "execution_count": 5,
     "metadata": {},
     "output_type": "execute_result"
    }
   ],
   "source": [
    "afinn.score('This is not at all excellent!') # Naively believed to be positive"
   ]
  },
  {
   "cell_type": "markdown",
   "metadata": {
    "id": "Qe51Vkd_lklx"
   },
   "source": [
    "AFINN is simple, fast, and effective for sentiment analysis in short, informal text, although it might not be as accurate as more sophisticated machine learning models or lexicon-based approaches that consider linguistic nuances."
   ]
  },
  {
   "cell_type": "markdown",
   "metadata": {
    "id": "FLeUTf2Nmq_N"
   },
   "source": [
    "### Exercise 1 - Build your own Afinn!\n",
    "\n",
    "Let's create our own sentiment analyzer using the AFINN-en-165.txt data.\n",
    "This contains information for 3382 unique English words, each word having a sentiment score between -5 and 5 associated to it.\n",
    "\n",
    "Create a function called get_sentiment_score(text) that takes as input a text and gives as output the sentiment score.\n",
    "\n",
    "The output sentiment score will be the sum of sentiments of each word in the text (use 0 for words not found in Afinn).\n"
   ]
  },
  {
   "cell_type": "code",
   "execution_count": 6,
   "metadata": {
    "colab": {
     "base_uri": "https://localhost:8080/"
    },
    "id": "Eo5xIQdllVI6",
    "outputId": "7655a0bc-3548-433c-e77c-74ff0e86f4a9"
   },
   "outputs": [],
   "source": [
    "import re\n",
    "import nltk\n",
    "from nltk.stem import WordNetLemmatizer\n",
    "#nltk.download('punkt')\n",
    "#nltk.download('wordnet')\n",
    "lemmatizer = WordNetLemmatizer()\n",
    "\n",
    "# Load AFINN lexicon into a dictionary\n",
    "def load_afinn(filepath):\n",
    "    afinn = {}\n",
    "    with open(filepath, \"r\") as file:\n",
    "        for line in file:\n",
    "            word, score = line.strip().split('\\t')\n",
    "            afinn[word] = int(score)\n",
    "    return afinn\n",
    "\n",
    "# Write your code here\n",
    "def get_sentiment_score(text):\n",
    "    words=text.lower().split(' ')\n",
    "    sentiment_score = 0\n",
    "    for word in words:\n",
    "        word = word.strip(\" .,;'?!`~-\")\n",
    "        word = lemmatizer.lemmatize(word, pos=\"v\")\n",
    "        if word in my_afinn:\n",
    "            sentiment_score+=my_afinn[word]\n",
    "    return sentiment_score\n",
    "\n",
    "# Load AFINN lexicon\n",
    "filepath = \"AFINN-en-165.txt\"\n",
    "my_afinn = load_afinn(filepath)"
   ]
  },
  {
   "cell_type": "code",
   "execution_count": 7,
   "metadata": {},
   "outputs": [
    {
     "data": {
      "text/plain": [
       "-2"
      ]
     },
     "execution_count": 7,
     "metadata": {},
     "output_type": "execute_result"
    }
   ],
   "source": [
    "get_sentiment_score(\"The plane crashed.\")"
   ]
  }
 ],
 "metadata": {
  "colab": {
   "provenance": []
  },
  "kernelspec": {
   "display_name": "Python 3 (ipykernel)",
   "language": "python",
   "name": "python3"
  },
  "language_info": {
   "codemirror_mode": {
    "name": "ipython",
    "version": 3
   },
   "file_extension": ".py",
   "mimetype": "text/x-python",
   "name": "python",
   "nbconvert_exporter": "python",
   "pygments_lexer": "ipython3",
   "version": "3.9.13"
  }
 },
 "nbformat": 4,
 "nbformat_minor": 1
}
