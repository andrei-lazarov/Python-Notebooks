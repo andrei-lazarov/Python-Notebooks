{
 "cells": [
  {
   "cell_type": "markdown",
   "metadata": {
    "id": "bvMsJaWg0Z_V"
   },
   "source": [
    "Here's a different model that is able to predict 7 different emotions:\n",
    "* anger 🤬\n",
    "* disgust 🤢\n",
    "* fear 😨\n",
    "* joy 😀\n",
    "* neutral 😐\n",
    "* sadness 😭\n",
    "* surprise 😲\n"
   ]
  },
  {
   "cell_type": "code",
   "execution_count": 52,
   "metadata": {
    "colab": {
     "base_uri": "https://localhost:8080/"
    },
    "id": "QIniqq8YiEfK",
    "outputId": "4e0016fb-cd59-4cb9-f057-46daa7ed56ba"
   },
   "outputs": [
    {
     "data": {
      "text/plain": [
       "[[{'label': 'joy', 'score': 0.9771687984466553},\n",
       "  {'label': 'surprise', 'score': 0.008528688922524452},\n",
       "  {'label': 'neutral', 'score': 0.005764583125710487},\n",
       "  {'label': 'anger', 'score': 0.004419781267642975},\n",
       "  {'label': 'sadness', 'score': 0.002092392183840275},\n",
       "  {'label': 'disgust', 'score': 0.0016119900392368436},\n",
       "  {'label': 'fear', 'score': 0.0004138521908316761}]]"
      ]
     },
     "execution_count": 52,
     "metadata": {},
     "output_type": "execute_result"
    }
   ],
   "source": [
    "from transformers import pipeline\n",
    "classifier = pipeline(\"text-classification\", model=\"j-hartmann/emotion-english-distilroberta-base\", top_k=None) # https://huggingface.co/j-hartmann/emotion-english-distilroberta-base\n",
    "classifier(\"I love this!\")"
   ]
  },
  {
   "cell_type": "code",
   "execution_count": 53,
   "metadata": {
    "colab": {
     "base_uri": "https://localhost:8080/"
    },
    "id": "Ds9YWIJH082w",
    "outputId": "c6d7f801-311c-4207-a3ea-771c8c2f9104"
   },
   "outputs": [
    {
     "data": {
      "text/plain": [
       "[[{'label': 'disgust', 'score': 0.9869235157966614},\n",
       "  {'label': 'anger', 'score': 0.004495014902204275},\n",
       "  {'label': 'fear', 'score': 0.003422108246013522},\n",
       "  {'label': 'neutral', 'score': 0.0023785908706486225},\n",
       "  {'label': 'sadness', 'score': 0.0016001597978174686},\n",
       "  {'label': 'surprise', 'score': 0.0008600382134318352},\n",
       "  {'label': 'joy', 'score': 0.0003206325345672667}]]"
      ]
     },
     "execution_count": 53,
     "metadata": {},
     "output_type": "execute_result"
    }
   ],
   "source": [
    "classifier(\"That was absolutely disgusting\")"
   ]
  },
  {
   "cell_type": "markdown",
   "metadata": {
    "id": "sQBZ-5QG56ad"
   },
   "source": [
    "### Exercise 3. Explore Twitter Sentiment - How was ChatGPT perceived at the start of 2023?\n",
    "\\**Because you'd each need to create individual accounts on twitter to scrape data, we'll instead use an existing dataset of real tweets*\n",
    "\n",
    "\\**Because running these pretrained models takes quite a bit of time on CPU, we'll only look at samples of 100 tweets in our investigations. If you have access to a GPU and want to run the investigation on all data, feel free to do so.*\n",
    "\n",
    "\n",
    "\n",
    "1. Create a dataframe called first_100_en_tweets that will store the first 100 tweets that are in English.\n",
    "2. Create a dataframe called first_100_de_tweets that will store the first 100 tweets that are in German.\n",
    "3. Add the sentiment values for each tweets in these dataframes (in a new \"sentiment\" column).\n",
    "\n",
    " *Head out to https://huggingface.co/models?pipeline_tag=text-classification and find a German language sentiment model for the DE tweets*. For the English ones you can use the model commented below.\n",
    "4. Calculate separately the average sentiment for the 100 EN tweets and for the 100 DE tweets and see which audience seems to like ChatGPT more.\n",
    "5. Find the user with the highest total LikeCount (filter by Language = en), check if his tweets are on average positive or negative. "
   ]
  },
  {
   "cell_type": "code",
   "execution_count": 54,
   "metadata": {
    "id": "3wB9WKke9FOB",
    "scrolled": true
   },
   "outputs": [],
   "source": [
    "from transformers import pipeline\n",
    "# English Tweets Sentiment Model\n",
    "# sentiment_pipeline = pipeline(\"text-classification\", model='ProsusAI/finbert')#, top_k=None)"
   ]
  },
  {
   "cell_type": "code",
   "execution_count": 55,
   "metadata": {},
   "outputs": [],
   "source": [
    "sentiment_pipeline = pipeline(\"text-classification\", model='cardiffnlp/twitter-roberta-base-sentiment')#, top_k=None)"
   ]
  },
  {
   "cell_type": "code",
   "execution_count": 56,
   "metadata": {
    "colab": {
     "base_uri": "https://localhost:8080/",
     "height": 423
    },
    "id": "CJG-mNen1s5z",
    "outputId": "dbee92bf-f042-48e9-c9e6-173def9dc142",
    "scrolled": true
   },
   "outputs": [
    {
     "data": {
      "text/html": [
       "<div>\n",
       "<style scoped>\n",
       "    .dataframe tbody tr th:only-of-type {\n",
       "        vertical-align: middle;\n",
       "    }\n",
       "\n",
       "    .dataframe tbody tr th {\n",
       "        vertical-align: top;\n",
       "    }\n",
       "\n",
       "    .dataframe thead th {\n",
       "        text-align: right;\n",
       "    }\n",
       "</style>\n",
       "<table border=\"1\" class=\"dataframe\">\n",
       "  <thead>\n",
       "    <tr style=\"text-align: right;\">\n",
       "      <th></th>\n",
       "      <th>Datetime</th>\n",
       "      <th>Text</th>\n",
       "      <th>Username</th>\n",
       "      <th>ReplyCount</th>\n",
       "      <th>RetweetCount</th>\n",
       "      <th>LikeCount</th>\n",
       "      <th>Language</th>\n",
       "    </tr>\n",
       "  </thead>\n",
       "  <tbody>\n",
       "    <tr>\n",
       "      <th>0</th>\n",
       "      <td>2023-01-22 13:44:34+00:00</td>\n",
       "      <td>ChatGPTで遊ぶの忘れてた！！\\n書類作るコード書いてみてほしいのと、\\nどこまで思考整...</td>\n",
       "      <td>mochico0123</td>\n",
       "      <td>1</td>\n",
       "      <td>0</td>\n",
       "      <td>5</td>\n",
       "      <td>ja</td>\n",
       "    </tr>\n",
       "    <tr>\n",
       "      <th>1</th>\n",
       "      <td>2023-01-22 13:44:39+00:00</td>\n",
       "      <td>@AlexandrovnaIng Prohibition of ChatGPT has be...</td>\n",
       "      <td>Caput_LupinumSG</td>\n",
       "      <td>1</td>\n",
       "      <td>0</td>\n",
       "      <td>5</td>\n",
       "      <td>en</td>\n",
       "    </tr>\n",
       "    <tr>\n",
       "      <th>2</th>\n",
       "      <td>2023-01-22 13:44:44+00:00</td>\n",
       "      <td>Schaut Euch an, was @fobizz @DianaKnodel alles...</td>\n",
       "      <td>ciffi</td>\n",
       "      <td>0</td>\n",
       "      <td>0</td>\n",
       "      <td>4</td>\n",
       "      <td>de</td>\n",
       "    </tr>\n",
       "    <tr>\n",
       "      <th>3</th>\n",
       "      <td>2023-01-22 13:44:49+00:00</td>\n",
       "      <td>Bow down to chatGPT 🫡..... https://t.co/ENTSzi...</td>\n",
       "      <td>Vishwasrisiri</td>\n",
       "      <td>0</td>\n",
       "      <td>0</td>\n",
       "      <td>2</td>\n",
       "      <td>en</td>\n",
       "    </tr>\n",
       "    <tr>\n",
       "      <th>4</th>\n",
       "      <td>2023-01-22 13:44:52+00:00</td>\n",
       "      <td>Profilinde vatan, Türkiye falan yazan bireyler...</td>\n",
       "      <td>0xGenetikciniz</td>\n",
       "      <td>0</td>\n",
       "      <td>0</td>\n",
       "      <td>4</td>\n",
       "      <td>tr</td>\n",
       "    </tr>\n",
       "    <tr>\n",
       "      <th>...</th>\n",
       "      <td>...</td>\n",
       "      <td>...</td>\n",
       "      <td>...</td>\n",
       "      <td>...</td>\n",
       "      <td>...</td>\n",
       "      <td>...</td>\n",
       "      <td>...</td>\n",
       "    </tr>\n",
       "    <tr>\n",
       "      <th>49996</th>\n",
       "      <td>2023-01-24 06:57:56+00:00</td>\n",
       "      <td>#ChatGPT ist ein #Chatbot, der durch künstlich...</td>\n",
       "      <td>HorstKrieger</td>\n",
       "      <td>0</td>\n",
       "      <td>0</td>\n",
       "      <td>0</td>\n",
       "      <td>de</td>\n",
       "    </tr>\n",
       "    <tr>\n",
       "      <th>49997</th>\n",
       "      <td>2023-01-24 06:57:59+00:00</td>\n",
       "      <td>@r8r Ich hab mal die AI dazu befragt (ChatGPT)...</td>\n",
       "      <td>werpu</td>\n",
       "      <td>0</td>\n",
       "      <td>0</td>\n",
       "      <td>0</td>\n",
       "      <td>de</td>\n",
       "    </tr>\n",
       "    <tr>\n",
       "      <th>49998</th>\n",
       "      <td>2023-01-24 06:58:00+00:00</td>\n",
       "      <td>5 minuti di #chatGPT e ho capito che apprende ...</td>\n",
       "      <td>marcopiccinini</td>\n",
       "      <td>0</td>\n",
       "      <td>0</td>\n",
       "      <td>0</td>\n",
       "      <td>it</td>\n",
       "    </tr>\n",
       "    <tr>\n",
       "      <th>49999</th>\n",
       "      <td>2023-01-24 06:58:01+00:00</td>\n",
       "      <td>Portland Shop Uses ChatGPT To Tell Family Stor...</td>\n",
       "      <td>EuniceNyandat</td>\n",
       "      <td>0</td>\n",
       "      <td>0</td>\n",
       "      <td>0</td>\n",
       "      <td>en</td>\n",
       "    </tr>\n",
       "    <tr>\n",
       "      <th>50000</th>\n",
       "      <td>2023-01-24 06:58:01+00:00</td>\n",
       "      <td>Ahora sueño con el día en que Amazon integre u...</td>\n",
       "      <td>AmericoSD_69</td>\n",
       "      <td>0</td>\n",
       "      <td>0</td>\n",
       "      <td>0</td>\n",
       "      <td>es</td>\n",
       "    </tr>\n",
       "  </tbody>\n",
       "</table>\n",
       "<p>50001 rows × 7 columns</p>\n",
       "</div>"
      ],
      "text/plain": [
       "                        Datetime  \\\n",
       "0      2023-01-22 13:44:34+00:00   \n",
       "1      2023-01-22 13:44:39+00:00   \n",
       "2      2023-01-22 13:44:44+00:00   \n",
       "3      2023-01-22 13:44:49+00:00   \n",
       "4      2023-01-22 13:44:52+00:00   \n",
       "...                          ...   \n",
       "49996  2023-01-24 06:57:56+00:00   \n",
       "49997  2023-01-24 06:57:59+00:00   \n",
       "49998  2023-01-24 06:58:00+00:00   \n",
       "49999  2023-01-24 06:58:01+00:00   \n",
       "50000  2023-01-24 06:58:01+00:00   \n",
       "\n",
       "                                                    Text         Username  \\\n",
       "0      ChatGPTで遊ぶの忘れてた！！\\n書類作るコード書いてみてほしいのと、\\nどこまで思考整...      mochico0123   \n",
       "1      @AlexandrovnaIng Prohibition of ChatGPT has be...  Caput_LupinumSG   \n",
       "2      Schaut Euch an, was @fobizz @DianaKnodel alles...            ciffi   \n",
       "3      Bow down to chatGPT 🫡..... https://t.co/ENTSzi...    Vishwasrisiri   \n",
       "4      Profilinde vatan, Türkiye falan yazan bireyler...   0xGenetikciniz   \n",
       "...                                                  ...              ...   \n",
       "49996  #ChatGPT ist ein #Chatbot, der durch künstlich...     HorstKrieger   \n",
       "49997  @r8r Ich hab mal die AI dazu befragt (ChatGPT)...            werpu   \n",
       "49998  5 minuti di #chatGPT e ho capito che apprende ...   marcopiccinini   \n",
       "49999  Portland Shop Uses ChatGPT To Tell Family Stor...    EuniceNyandat   \n",
       "50000  Ahora sueño con el día en que Amazon integre u...     AmericoSD_69   \n",
       "\n",
       "       ReplyCount  RetweetCount  LikeCount Language  \n",
       "0               1             0          5       ja  \n",
       "1               1             0          5       en  \n",
       "2               0             0          4       de  \n",
       "3               0             0          2       en  \n",
       "4               0             0          4       tr  \n",
       "...           ...           ...        ...      ...  \n",
       "49996           0             0          0       de  \n",
       "49997           0             0          0       de  \n",
       "49998           0             0          0       it  \n",
       "49999           0             0          0       en  \n",
       "50000           0             0          0       es  \n",
       "\n",
       "[50001 rows x 7 columns]"
      ]
     },
     "execution_count": 56,
     "metadata": {},
     "output_type": "execute_result"
    }
   ],
   "source": [
    "import pandas as pd\n",
    "tweets = pd.read_csv('chatgpt_tweets.csv')\n",
    "tweets"
   ]
  },
  {
   "cell_type": "code",
   "execution_count": 57,
   "metadata": {
    "scrolled": true
   },
   "outputs": [],
   "source": [
    "tweets_en = tweets[tweets['Language']=='en'].sort_values(by=['LikeCount'],ascending=False).head(100)\n",
    "tweets_en = tweets_en.reset_index(drop=True)\n",
    "tweets_en.index+=1\n",
    "tweets_en['Sentiment'] = tweets_en['Text'].apply(sentiment_pipeline).str[0]\n",
    "tweets_en['Sentiment'] = tweets_en['Sentiment'].apply(lambda x: x['label'])\n",
    "tweets_en=tweets_en.replace('LABEL_0', 'negative').replace('LABEL_1', 'neutral').replace('LABEL_2', 'positive')\n",
    "tweets_en"
   ]
  },
  {
   "cell_type": "code",
   "execution_count": 58,
   "metadata": {
    "scrolled": true
   },
   "outputs": [
    {
     "data": {
      "text/plain": [
       "neutral     38\n",
       "positive    36\n",
       "negative    26\n",
       "Name: Sentiment, dtype: int64"
      ]
     },
     "execution_count": 58,
     "metadata": {},
     "output_type": "execute_result"
    }
   ],
   "source": [
    "results_en=tweets_en['Sentiment'].value_counts()\n",
    "results_en"
   ]
  },
  {
   "cell_type": "code",
   "execution_count": 91,
   "metadata": {},
   "outputs": [
    {
     "name": "stdout",
     "output_type": "stream",
     "text": [
      "Score: 3.2 / 5.0\n"
     ]
    }
   ],
   "source": [
    "average_en = (results_en['negative']*1 + results_en['neutral']*3 + results_en['positive']*5) / 100\n",
    "print(\"Score: \" + str(average_en)+\" / 5.0\")"
   ]
  },
  {
   "cell_type": "code",
   "execution_count": 60,
   "metadata": {},
   "outputs": [],
   "source": [
    "sentiment_pipeline = pipeline(\"text-classification\", model='JP040/bert-german-sentiment-twitter')#, top_k=None)"
   ]
  },
  {
   "cell_type": "code",
   "execution_count": 61,
   "metadata": {
    "scrolled": true
   },
   "outputs": [
    {
     "data": {
      "text/html": [
       "<div>\n",
       "<style scoped>\n",
       "    .dataframe tbody tr th:only-of-type {\n",
       "        vertical-align: middle;\n",
       "    }\n",
       "\n",
       "    .dataframe tbody tr th {\n",
       "        vertical-align: top;\n",
       "    }\n",
       "\n",
       "    .dataframe thead th {\n",
       "        text-align: right;\n",
       "    }\n",
       "</style>\n",
       "<table border=\"1\" class=\"dataframe\">\n",
       "  <thead>\n",
       "    <tr style=\"text-align: right;\">\n",
       "      <th></th>\n",
       "      <th>Datetime</th>\n",
       "      <th>Text</th>\n",
       "      <th>Username</th>\n",
       "      <th>ReplyCount</th>\n",
       "      <th>RetweetCount</th>\n",
       "      <th>LikeCount</th>\n",
       "      <th>Language</th>\n",
       "      <th>Sentiment</th>\n",
       "    </tr>\n",
       "  </thead>\n",
       "  <tbody>\n",
       "    <tr>\n",
       "      <th>1</th>\n",
       "      <td>2023-01-22 17:37:34+00:00</td>\n",
       "      <td>Lehrer wollen mit Bedenken, dass Schüler ihre ...</td>\n",
       "      <td>hrtgn</td>\n",
       "      <td>374</td>\n",
       "      <td>25</td>\n",
       "      <td>1608</td>\n",
       "      <td>de</td>\n",
       "      <td>neutral</td>\n",
       "    </tr>\n",
       "    <tr>\n",
       "      <th>2</th>\n",
       "      <td>2023-01-22 17:18:00+00:00</td>\n",
       "      <td>Ich habe ChatGPT einen Dialog zwischen Frank T...</td>\n",
       "      <td>janskudlarek</td>\n",
       "      <td>22</td>\n",
       "      <td>49</td>\n",
       "      <td>759</td>\n",
       "      <td>de</td>\n",
       "      <td>neutral</td>\n",
       "    </tr>\n",
       "    <tr>\n",
       "      <th>3</th>\n",
       "      <td>2023-01-22 15:56:39+00:00</td>\n",
       "      <td>Dieser Leitfaden zur Nutzung von #ChatGPT mit ...</td>\n",
       "      <td>an_annago</td>\n",
       "      <td>7</td>\n",
       "      <td>68</td>\n",
       "      <td>273</td>\n",
       "      <td>de</td>\n",
       "      <td>neutral</td>\n",
       "    </tr>\n",
       "    <tr>\n",
       "      <th>4</th>\n",
       "      <td>2023-01-23 17:42:59+00:00</td>\n",
       "      <td>#OpenAI (wichtigste Geldgeber: #ElonMusk &amp;amp;...</td>\n",
       "      <td>wolff_ernst</td>\n",
       "      <td>21</td>\n",
       "      <td>56</td>\n",
       "      <td>203</td>\n",
       "      <td>de</td>\n",
       "      <td>neutral</td>\n",
       "    </tr>\n",
       "    <tr>\n",
       "      <th>5</th>\n",
       "      <td>2023-01-22 18:31:12+00:00</td>\n",
       "      <td>@hrtgn Da würde ich mir als Autor und Satirike...</td>\n",
       "      <td>retrostyle3000</td>\n",
       "      <td>2</td>\n",
       "      <td>3</td>\n",
       "      <td>176</td>\n",
       "      <td>de</td>\n",
       "      <td>neutral</td>\n",
       "    </tr>\n",
       "    <tr>\n",
       "      <th>...</th>\n",
       "      <td>...</td>\n",
       "      <td>...</td>\n",
       "      <td>...</td>\n",
       "      <td>...</td>\n",
       "      <td>...</td>\n",
       "      <td>...</td>\n",
       "      <td>...</td>\n",
       "      <td>...</td>\n",
       "    </tr>\n",
       "    <tr>\n",
       "      <th>96</th>\n",
       "      <td>2023-01-23 13:00:35+00:00</td>\n",
       "      <td>Da hat man mal Zeit und schon ist #ChatGPT dau...</td>\n",
       "      <td>BioSchwan</td>\n",
       "      <td>3</td>\n",
       "      <td>0</td>\n",
       "      <td>13</td>\n",
       "      <td>de</td>\n",
       "      <td>negative</td>\n",
       "    </tr>\n",
       "    <tr>\n",
       "      <th>97</th>\n",
       "      <td>2023-01-22 18:05:02+00:00</td>\n",
       "      <td>Der Gesundheitsminister wurde durch ChatGPT er...</td>\n",
       "      <td>johnny_raccoon</td>\n",
       "      <td>0</td>\n",
       "      <td>0</td>\n",
       "      <td>12</td>\n",
       "      <td>de</td>\n",
       "      <td>neutral</td>\n",
       "    </tr>\n",
       "    <tr>\n",
       "      <th>98</th>\n",
       "      <td>2023-01-23 09:50:51+00:00</td>\n",
       "      <td>Der Ausschuss hat eine Infosammlung zum Thema ...</td>\n",
       "      <td>AusschussG</td>\n",
       "      <td>0</td>\n",
       "      <td>3</td>\n",
       "      <td>12</td>\n",
       "      <td>de</td>\n",
       "      <td>neutral</td>\n",
       "    </tr>\n",
       "    <tr>\n",
       "      <th>99</th>\n",
       "      <td>2023-01-22 15:21:40+00:00</td>\n",
       "      <td>Ich habe #ChatGPT auch nach den Argumenten geg...</td>\n",
       "      <td>multitalentfrey</td>\n",
       "      <td>1</td>\n",
       "      <td>2</td>\n",
       "      <td>12</td>\n",
       "      <td>de</td>\n",
       "      <td>neutral</td>\n",
       "    </tr>\n",
       "    <tr>\n",
       "      <th>100</th>\n",
       "      <td>2023-01-23 14:57:39+00:00</td>\n",
       "      <td>ChatGPT: Microsoft investiert weitere Milliard...</td>\n",
       "      <td>FugmannMarkus</td>\n",
       "      <td>0</td>\n",
       "      <td>3</td>\n",
       "      <td>11</td>\n",
       "      <td>de</td>\n",
       "      <td>neutral</td>\n",
       "    </tr>\n",
       "  </tbody>\n",
       "</table>\n",
       "<p>100 rows × 8 columns</p>\n",
       "</div>"
      ],
      "text/plain": [
       "                      Datetime  \\\n",
       "1    2023-01-22 17:37:34+00:00   \n",
       "2    2023-01-22 17:18:00+00:00   \n",
       "3    2023-01-22 15:56:39+00:00   \n",
       "4    2023-01-23 17:42:59+00:00   \n",
       "5    2023-01-22 18:31:12+00:00   \n",
       "..                         ...   \n",
       "96   2023-01-23 13:00:35+00:00   \n",
       "97   2023-01-22 18:05:02+00:00   \n",
       "98   2023-01-23 09:50:51+00:00   \n",
       "99   2023-01-22 15:21:40+00:00   \n",
       "100  2023-01-23 14:57:39+00:00   \n",
       "\n",
       "                                                  Text         Username  \\\n",
       "1    Lehrer wollen mit Bedenken, dass Schüler ihre ...            hrtgn   \n",
       "2    Ich habe ChatGPT einen Dialog zwischen Frank T...     janskudlarek   \n",
       "3    Dieser Leitfaden zur Nutzung von #ChatGPT mit ...        an_annago   \n",
       "4    #OpenAI (wichtigste Geldgeber: #ElonMusk &amp;...      wolff_ernst   \n",
       "5    @hrtgn Da würde ich mir als Autor und Satirike...   retrostyle3000   \n",
       "..                                                 ...              ...   \n",
       "96   Da hat man mal Zeit und schon ist #ChatGPT dau...        BioSchwan   \n",
       "97   Der Gesundheitsminister wurde durch ChatGPT er...   johnny_raccoon   \n",
       "98   Der Ausschuss hat eine Infosammlung zum Thema ...       AusschussG   \n",
       "99   Ich habe #ChatGPT auch nach den Argumenten geg...  multitalentfrey   \n",
       "100  ChatGPT: Microsoft investiert weitere Milliard...    FugmannMarkus   \n",
       "\n",
       "     ReplyCount  RetweetCount  LikeCount Language Sentiment  \n",
       "1           374            25       1608       de   neutral  \n",
       "2            22            49        759       de   neutral  \n",
       "3             7            68        273       de   neutral  \n",
       "4            21            56        203       de   neutral  \n",
       "5             2             3        176       de   neutral  \n",
       "..          ...           ...        ...      ...       ...  \n",
       "96            3             0         13       de  negative  \n",
       "97            0             0         12       de   neutral  \n",
       "98            0             3         12       de   neutral  \n",
       "99            1             2         12       de   neutral  \n",
       "100           0             3         11       de   neutral  \n",
       "\n",
       "[100 rows x 8 columns]"
      ]
     },
     "execution_count": 61,
     "metadata": {},
     "output_type": "execute_result"
    }
   ],
   "source": [
    "tweets_de = tweets[tweets['Language']=='de'].sort_values(by=['LikeCount'],ascending=False).head(100)\n",
    "tweets_de = tweets_de.reset_index(drop=True)\n",
    "tweets_de.index+=1\n",
    "tweets_de['Sentiment'] = tweets_de['Text'].apply(sentiment_pipeline).str[0]\n",
    "tweets_de['Sentiment'] = tweets_de['Sentiment'].apply(lambda x: x['label'])\n",
    "tweets_de"
   ]
  },
  {
   "cell_type": "code",
   "execution_count": 62,
   "metadata": {},
   "outputs": [
    {
     "data": {
      "text/plain": [
       "neutral     80\n",
       "negative    19\n",
       "positive     1\n",
       "Name: Sentiment, dtype: int64"
      ]
     },
     "execution_count": 62,
     "metadata": {},
     "output_type": "execute_result"
    }
   ],
   "source": [
    "results_de=tweets_de['Sentiment'].value_counts()\n",
    "results_de"
   ]
  },
  {
   "cell_type": "code",
   "execution_count": 63,
   "metadata": {},
   "outputs": [
    {
     "name": "stdout",
     "output_type": "stream",
     "text": [
      "Score: 2.64 / 5.0\n"
     ]
    }
   ],
   "source": [
    "average_de = (results_de['negative']*1 + results_de['neutral']*3 + results_de['positive']*5) / 100\n",
    "print(\"Score: \" + str(average_de)+\" / 5.0\")"
   ]
  },
  {
   "cell_type": "code",
   "execution_count": 72,
   "metadata": {
    "scrolled": true
   },
   "outputs": [
    {
     "data": {
      "text/plain": [
       "Username\n",
       "GRDecter           72183\n",
       "WatcherGuru        21673\n",
       "mccormick_ted      16856\n",
       "noor_siddiqui_     13290\n",
       "emollick            9946\n",
       "                   ...  \n",
       "Ed_FilmBooth         339\n",
       "MaxWinebach          334\n",
       "mukundabhinav        334\n",
       "DarrenJBeattie       327\n",
       "iansmithfitness      326\n",
       "Name: LikeCount, Length: 95, dtype: int64"
      ]
     },
     "execution_count": 72,
     "metadata": {},
     "output_type": "execute_result"
    }
   ],
   "source": [
    "tweets_en.groupby('Username')['LikeCount'].sum().sort_values(ascending=False)  #.idxmax()"
   ]
  },
  {
   "cell_type": "code",
   "execution_count": 85,
   "metadata": {},
   "outputs": [
    {
     "data": {
      "text/plain": [
       "positive    2\n",
       "neutral     1\n",
       "negative    0\n",
       "Name: Sentiment, dtype: int64"
      ]
     },
     "execution_count": 85,
     "metadata": {},
     "output_type": "execute_result"
    }
   ],
   "source": [
    "results=tweets_en[tweets_en['Username']=='GRDecter']['Sentiment'].value_counts()\n",
    "if 'negative' not in results:\n",
    "    results['negative']=0\n",
    "results"
   ]
  },
  {
   "cell_type": "code",
   "execution_count": 89,
   "metadata": {},
   "outputs": [
    {
     "name": "stdout",
     "output_type": "stream",
     "text": [
      "Score: 4.33 / 5.0\n"
     ]
    }
   ],
   "source": [
    "average = round((results['negative']*1 + results['neutral']*3 + results['positive']*5) / 3, 2)\n",
    "print(\"Score: \" + str(average)+\" / 5.0\")"
   ]
  }
 ],
 "metadata": {
  "colab": {
   "provenance": []
  },
  "kernelspec": {
   "display_name": "Python 3 (ipykernel)",
   "language": "python",
   "name": "python3"
  },
  "language_info": {
   "codemirror_mode": {
    "name": "ipython",
    "version": 3
   },
   "file_extension": ".py",
   "mimetype": "text/x-python",
   "name": "python",
   "nbconvert_exporter": "python",
   "pygments_lexer": "ipython3",
   "version": "3.9.13"
  }
 },
 "nbformat": 4,
 "nbformat_minor": 1
}
