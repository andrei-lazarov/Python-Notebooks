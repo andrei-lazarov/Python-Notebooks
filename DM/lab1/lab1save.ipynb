{
 "cells": [
  {
   "cell_type": "markdown",
   "metadata": {
    "id": "dzNng6vCL9eP"
   },
   "source": [
    "##Python Basics Revision"
   ]
  },
  {
   "cell_type": "markdown",
   "metadata": {
    "id": "0vJLt3JRL9eR"
   },
   "source": [
    "This tutorial was originally written by [Justin Johnson](https://web.eecs.umich.edu/~justincj/) for cs231n. It was adapted as a Jupyter notebook for cs228 by [Volodymyr Kuleshov](http://web.stanford.edu/~kuleshov/) and [Isaac Caswell](https://symsys.stanford.edu/viewing/symsysaffiliate/21335).\n",
    "\n",
    "This version has been adapted for Colab by Kevin Zakka for the Spring 2020 edition of [cs231n](https://cs231n.github.io/) and butchered by Andrei Bulzan in early 2022. It runs Python3 by default."
   ]
  },
  {
   "cell_type": "markdown",
   "metadata": {
    "id": "qVrTo-LhL9eS"
   },
   "source": [
    "##Introduction"
   ]
  },
  {
   "cell_type": "code",
   "execution_count": 1,
   "metadata": {
    "colab": {
     "base_uri": "https://localhost:8080/"
    },
    "id": "1L4Am0QATgOc",
    "outputId": "e69eb7db-6218-4e1c-ebad-8c31c5370dba"
   },
   "outputs": [
    {
     "name": "stdout",
     "output_type": "stream",
     "text": [
      "Python 3.8.8\n"
     ]
    }
   ],
   "source": [
    "!python --version"
   ]
  },
  {
   "cell_type": "markdown",
   "metadata": {
    "id": "JAFKYgrpL9eY"
   },
   "source": [
    "##Basics of Python"
   ]
  },
  {
   "cell_type": "markdown",
   "metadata": {
    "id": "RbFS6tdgL9ea"
   },
   "source": [
    "Python is a high-level, dynamically typed multiparadigm programming language. Python code is often said to be almost like pseudocode, since it allows you to express very powerful ideas in very few lines of code while being very readable. As an example, here is an implementation of the classic quicksort algorithm in Python:"
   ]
  },
  {
   "cell_type": "code",
   "execution_count": 2,
   "metadata": {
    "colab": {
     "base_uri": "https://localhost:8080/"
    },
    "id": "cYb0pjh1L9eb",
    "outputId": "7a31e272-cd99-401b-a9d0-ec02725cd2fb"
   },
   "outputs": [
    {
     "name": "stdout",
     "output_type": "stream",
     "text": [
      "[1, 1, 2, 3, 6, 8, 10]\n"
     ]
    }
   ],
   "source": [
    "def quicksort(arr):\n",
    "    if len(arr) <= 1:\n",
    "        return arr\n",
    "    pivot = arr[len(arr) // 2]\n",
    "    left = [x for x in arr if x < pivot]\n",
    "    middle = [x for x in arr if x == pivot]\n",
    "    right = [x for x in arr if x > pivot]\n",
    "    return quicksort(left) + middle + quicksort(right)\n",
    "\n",
    "print(quicksort([3,6,8,10,1,2,1]))"
   ]
  },
  {
   "cell_type": "markdown",
   "metadata": {
    "id": "NwS_hu4xL9eo"
   },
   "source": [
    "###Basic data types"
   ]
  },
  {
   "cell_type": "markdown",
   "metadata": {
    "id": "DL5sMSZ9L9eq"
   },
   "source": [
    "####Numbers"
   ]
  },
  {
   "cell_type": "markdown",
   "metadata": {
    "id": "MGS0XEWoL9er"
   },
   "source": [
    "Integers and floats work as you would expect from other languages:"
   ]
  },
  {
   "cell_type": "code",
   "execution_count": 3,
   "metadata": {
    "colab": {
     "base_uri": "https://localhost:8080/"
    },
    "id": "KheDr_zDL9es",
    "outputId": "0039cac9-3dc7-40d3-e1e5-07c3f6127ddd"
   },
   "outputs": [
    {
     "name": "stdout",
     "output_type": "stream",
     "text": [
      "3 <class 'int'>\n"
     ]
    }
   ],
   "source": [
    "x = 3\n",
    "print(x, type(x))"
   ]
  },
  {
   "cell_type": "code",
   "execution_count": 4,
   "metadata": {
    "colab": {
     "base_uri": "https://localhost:8080/"
    },
    "id": "sk_8DFcuL9ey",
    "outputId": "e156f1ca-db69-46a5-edac-d20e5771645d"
   },
   "outputs": [
    {
     "name": "stdout",
     "output_type": "stream",
     "text": [
      "4\n",
      "2\n",
      "6\n",
      "9\n"
     ]
    }
   ],
   "source": [
    "print(x + 1)   # Addition\n",
    "print(x - 1)   # Subtraction\n",
    "print(x * 2)   # Multiplication\n",
    "print(x ** 2)  # Exponentiation"
   ]
  },
  {
   "cell_type": "code",
   "execution_count": 5,
   "metadata": {
    "colab": {
     "base_uri": "https://localhost:8080/"
    },
    "id": "U4Jl8K0tL9e4",
    "outputId": "8923103e-7754-400e-90ed-963d7dd372a9"
   },
   "outputs": [
    {
     "name": "stdout",
     "output_type": "stream",
     "text": [
      "4\n",
      "8\n"
     ]
    }
   ],
   "source": [
    "x += 1\n",
    "print(x)\n",
    "x *= 2\n",
    "print(x)"
   ]
  },
  {
   "cell_type": "code",
   "execution_count": 6,
   "metadata": {
    "colab": {
     "base_uri": "https://localhost:8080/"
    },
    "id": "w-nZ0Sg_L9e9",
    "outputId": "58b00c6b-9c8d-4e19-fbc1-57bcabf97078"
   },
   "outputs": [
    {
     "name": "stdout",
     "output_type": "stream",
     "text": [
      "<class 'float'>\n",
      "2.5 3.5 5.0 6.25\n"
     ]
    }
   ],
   "source": [
    "y = 2.5\n",
    "print(type(y))\n",
    "print(y, y + 1, y * 2, y ** 2)"
   ]
  },
  {
   "cell_type": "markdown",
   "metadata": {
    "id": "r2A9ApyaL9fB"
   },
   "source": [
    "Note that unlike many languages, Python does not have unary increment (x++) or decrement (x--) operators.\n",
    "\n",
    "Python also has built-in types for long integers and complex numbers; you can find all of the details in the [documentation](https://docs.python.org/3.7/library/stdtypes.html#numeric-types-int-float-long-complex)."
   ]
  },
  {
   "cell_type": "markdown",
   "metadata": {
    "id": "EqRS7qhBL9fC"
   },
   "source": [
    "####Booleans"
   ]
  },
  {
   "cell_type": "markdown",
   "metadata": {
    "id": "Nv_LIVOJL9fD"
   },
   "source": [
    "Python implements all of the usual operators for Boolean logic, but uses English words rather than symbols (`&&`, `||`, etc.):"
   ]
  },
  {
   "cell_type": "code",
   "execution_count": 7,
   "metadata": {
    "colab": {
     "base_uri": "https://localhost:8080/"
    },
    "id": "RvoImwgGL9fE",
    "outputId": "d8fb7b06-5f62-42cb-e352-cf4ecfdaf812"
   },
   "outputs": [
    {
     "name": "stdout",
     "output_type": "stream",
     "text": [
      "<class 'bool'>\n"
     ]
    }
   ],
   "source": [
    "t, f = True, False\n",
    "print(type(t))"
   ]
  },
  {
   "cell_type": "markdown",
   "metadata": {
    "id": "YQgmQfOgL9fI"
   },
   "source": [
    "Now we let's look at the operations:"
   ]
  },
  {
   "cell_type": "code",
   "execution_count": 8,
   "metadata": {
    "colab": {
     "base_uri": "https://localhost:8080/"
    },
    "id": "6zYm7WzCL9fK",
    "outputId": "dd50844f-7a63-49f4-9b6c-bf87ca41ce86"
   },
   "outputs": [
    {
     "name": "stdout",
     "output_type": "stream",
     "text": [
      "False\n",
      "True\n",
      "False\n",
      "True\n"
     ]
    }
   ],
   "source": [
    "print(t and f) # Logical AND;\n",
    "print(t or f)  # Logical OR;\n",
    "print(not t)   # Logical NOT;\n",
    "print(t != f)  # Logical XOR;"
   ]
  },
  {
   "cell_type": "markdown",
   "metadata": {
    "id": "UQnQWFEyL9fP"
   },
   "source": [
    "####Strings"
   ]
  },
  {
   "cell_type": "code",
   "execution_count": 9,
   "metadata": {
    "colab": {
     "base_uri": "https://localhost:8080/"
    },
    "id": "AijEDtPFL9fP",
    "outputId": "63950f9e-e2cd-4b07-eaa0-213a48309c59"
   },
   "outputs": [
    {
     "name": "stdout",
     "output_type": "stream",
     "text": [
      "hello 5\n"
     ]
    }
   ],
   "source": [
    "hello = 'hello'   # String literals can use single quotes\n",
    "world = \"world\"   # or double quotes; it does not matter\n",
    "print(hello, len(hello))"
   ]
  },
  {
   "cell_type": "code",
   "execution_count": 10,
   "metadata": {
    "colab": {
     "base_uri": "https://localhost:8080/"
    },
    "id": "saDeaA7hL9fT",
    "outputId": "508fc306-806d-4a73-b56c-4ac5bb9ac1e8"
   },
   "outputs": [
    {
     "name": "stdout",
     "output_type": "stream",
     "text": [
      "hello world\n"
     ]
    }
   ],
   "source": [
    "hw = hello + ' ' + world  # String concatenation\n",
    "print(hw)"
   ]
  },
  {
   "cell_type": "code",
   "execution_count": 11,
   "metadata": {
    "colab": {
     "base_uri": "https://localhost:8080/"
    },
    "id": "Nji1_UjYL9fY",
    "outputId": "4301fc5d-4b5f-4893-80bb-fbd802d7c71e"
   },
   "outputs": [
    {
     "name": "stdout",
     "output_type": "stream",
     "text": [
      "hello world 12\n"
     ]
    }
   ],
   "source": [
    "hw12 = '{} {} {}'.format(hello, world, 12)  # string formatting\n",
    "print(hw12)"
   ]
  },
  {
   "cell_type": "markdown",
   "metadata": {
    "id": "bUpl35bIL9fc"
   },
   "source": [
    "String objects have a bunch of useful methods; for example:"
   ]
  },
  {
   "cell_type": "code",
   "execution_count": 12,
   "metadata": {
    "colab": {
     "base_uri": "https://localhost:8080/"
    },
    "id": "VOxGatlsL9fd",
    "outputId": "5e724b6b-f81f-438d-e021-76ae3f1ac8a5"
   },
   "outputs": [
    {
     "name": "stdout",
     "output_type": "stream",
     "text": [
      "Hello\n",
      "HELLO\n",
      "  hello\n",
      " hello \n",
      "he(ell)(ell)o\n",
      "world\n"
     ]
    }
   ],
   "source": [
    "s = \"hello\"\n",
    "print(s.capitalize())  # Capitalize a string\n",
    "print(s.upper())       # Convert a string to uppercase; prints \"HELLO\"\n",
    "print(s.rjust(7))      # Right-justify a string, padding with spaces\n",
    "print(s.center(7))     # Center a string, padding with spaces\n",
    "print(s.replace('l', '(ell)'))  # Replace all instances of one substring with another\n",
    "print('  world '.strip())  # Strip leading and trailing whitespace"
   ]
  },
  {
   "cell_type": "markdown",
   "metadata": {
    "id": "06cayXLtL9fi"
   },
   "source": [
    "You can find a list of all string methods in the [documentation](https://docs.python.org/3.7/library/stdtypes.html#string-methods)."
   ]
  },
  {
   "cell_type": "markdown",
   "metadata": {
    "id": "p-6hClFjL9fk"
   },
   "source": [
    "###Containers"
   ]
  },
  {
   "cell_type": "markdown",
   "metadata": {
    "id": "FD9H18eQL9fk"
   },
   "source": [
    "Python includes several built-in container types: lists, dictionaries, sets, and tuples."
   ]
  },
  {
   "cell_type": "markdown",
   "metadata": {
    "id": "UsIWOe0LL9fn"
   },
   "source": [
    "####Lists"
   ]
  },
  {
   "cell_type": "markdown",
   "metadata": {
    "id": "wzxX7rgWL9fn"
   },
   "source": [
    "A list is the Python equivalent of an array, but is resizeable and can contain elements of different types:"
   ]
  },
  {
   "cell_type": "code",
   "execution_count": 13,
   "metadata": {
    "colab": {
     "base_uri": "https://localhost:8080/"
    },
    "id": "hk3A8pPcL9fp",
    "outputId": "02c89d01-4eb0-41f4-f256-0de0a4dd6ae6"
   },
   "outputs": [
    {
     "name": "stdout",
     "output_type": "stream",
     "text": [
      "[3, 1, 2] 2\n",
      "2\n"
     ]
    }
   ],
   "source": [
    "xs = [3, 1, 2]   # Create a list\n",
    "print(xs, xs[2])\n",
    "print(xs[-1])     # Negative indices count from the end of the list; prints \"2\""
   ]
  },
  {
   "cell_type": "code",
   "execution_count": 14,
   "metadata": {
    "colab": {
     "base_uri": "https://localhost:8080/"
    },
    "id": "YCjCy_0_L9ft",
    "outputId": "008174e4-bc64-4dd7-aa98-1735b6b09085"
   },
   "outputs": [
    {
     "name": "stdout",
     "output_type": "stream",
     "text": [
      "[3, 1, 'foo']\n"
     ]
    }
   ],
   "source": [
    "xs[2] = 'foo'    # Lists can contain elements of different types\n",
    "print(xs)"
   ]
  },
  {
   "cell_type": "code",
   "execution_count": 15,
   "metadata": {
    "colab": {
     "base_uri": "https://localhost:8080/"
    },
    "id": "vJ0x5cF-L9fx",
    "outputId": "8220f2b9-4df5-4a90-ebf0-ff46ec400bea"
   },
   "outputs": [
    {
     "name": "stdout",
     "output_type": "stream",
     "text": [
      "[3, 1, 'foo', 'bar']\n"
     ]
    }
   ],
   "source": [
    "xs.append('bar') # Add a new element to the end of the list\n",
    "print(xs)  "
   ]
  },
  {
   "cell_type": "code",
   "execution_count": 16,
   "metadata": {
    "colab": {
     "base_uri": "https://localhost:8080/"
    },
    "id": "cxVCNRTNL9f1",
    "outputId": "97728517-c1fa-4c57-ef8c-94cb6e196a65"
   },
   "outputs": [
    {
     "name": "stdout",
     "output_type": "stream",
     "text": [
      "bar [3, 1, 'foo']\n"
     ]
    }
   ],
   "source": [
    "x = xs.pop()     # Remove and return the last element of the list\n",
    "print(x, xs)"
   ]
  },
  {
   "cell_type": "markdown",
   "metadata": {
    "id": "ilyoyO34L9f4"
   },
   "source": [
    "As usual, you can find all the gory details about lists in the [documentation](https://docs.python.org/3.7/tutorial/datastructures.html#more-on-lists)."
   ]
  },
  {
   "cell_type": "markdown",
   "metadata": {
    "id": "ovahhxd_L9f5"
   },
   "source": [
    "####Slicing"
   ]
  },
  {
   "cell_type": "markdown",
   "metadata": {
    "id": "YeSYKhv9L9f6"
   },
   "source": [
    "In addition to accessing list elements one at a time, Python provides concise syntax to access sublists; this is known as slicing:"
   ]
  },
  {
   "cell_type": "code",
   "execution_count": 17,
   "metadata": {
    "colab": {
     "base_uri": "https://localhost:8080/"
    },
    "id": "ninq666bL9f6",
    "outputId": "e90863ef-9875-46fa-a700-22214dbd0990"
   },
   "outputs": [
    {
     "name": "stdout",
     "output_type": "stream",
     "text": [
      "[0, 1, 2, 3, 4]\n",
      "[2, 3]\n",
      "[2, 3, 4]\n",
      "[0, 1]\n",
      "[0, 1, 2, 3, 4]\n",
      "[0, 1, 2, 3]\n",
      "[0, 1, 8, 9, 4]\n"
     ]
    }
   ],
   "source": [
    "nums = list(range(5))    # range is a built-in function that creates a list of integers\n",
    "print(nums)         # Prints \"[0, 1, 2, 3, 4]\"\n",
    "print(nums[2:4])    # Get a slice from index 2 to 4 (exclusive); prints \"[2, 3]\"\n",
    "print(nums[2:])     # Get a slice from index 2 to the end; prints \"[2, 3, 4]\"\n",
    "print(nums[:2])     # Get a slice from the start to index 2 (exclusive); prints \"[0, 1]\"\n",
    "print(nums[:])      # Get a slice of the whole list; prints [\"0, 1, 2, 3, 4]\"\n",
    "print(nums[:-1])    # Slice indices can be negative; prints [\"0, 1, 2, 3]\"\n",
    "nums[2:4] = [8, 9] # Assign a new sublist to a slice\n",
    "print(nums)         # Prints \"[0, 1, 8, 9, 4]\""
   ]
  },
  {
   "cell_type": "markdown",
   "metadata": {
    "id": "UONpMhF4L9f_"
   },
   "source": [
    "####Loops"
   ]
  },
  {
   "cell_type": "markdown",
   "metadata": {
    "id": "_DYz1j6QL9f_"
   },
   "source": [
    "You can loop over the elements of a list like this:"
   ]
  },
  {
   "cell_type": "code",
   "execution_count": 18,
   "metadata": {
    "colab": {
     "base_uri": "https://localhost:8080/"
    },
    "id": "4cCOysfWL9gA",
    "outputId": "f6cf70c6-604a-470b-d0ed-1967eaf9f7f8"
   },
   "outputs": [
    {
     "name": "stdout",
     "output_type": "stream",
     "text": [
      "cat\n",
      "dog\n",
      "monkey\n"
     ]
    }
   ],
   "source": [
    "animals = ['cat', 'dog', 'monkey']\n",
    "for animal in animals:\n",
    "    print(animal)"
   ]
  },
  {
   "cell_type": "markdown",
   "metadata": {
    "id": "KxIaQs7pL9gE"
   },
   "source": [
    "If you want access to the index of each element within the body of a loop, use the built-in `enumerate` function:"
   ]
  },
  {
   "cell_type": "code",
   "execution_count": 19,
   "metadata": {
    "colab": {
     "base_uri": "https://localhost:8080/"
    },
    "id": "JjGnDluWL9gF",
    "outputId": "45285f16-90b8-41fe-e8ad-f3855127dd26"
   },
   "outputs": [
    {
     "name": "stdout",
     "output_type": "stream",
     "text": [
      "#1: cat\n",
      "#2: dog\n",
      "#3: monkey\n"
     ]
    }
   ],
   "source": [
    "animals = ['cat', 'dog', 'monkey']\n",
    "for idx, animal in enumerate(animals):\n",
    "    print('#{}: {}'.format(idx + 1, animal))"
   ]
  },
  {
   "cell_type": "markdown",
   "metadata": {
    "id": "arrLCcMyL9gK"
   },
   "source": [
    "####List comprehensions:"
   ]
  },
  {
   "cell_type": "markdown",
   "metadata": {
    "id": "5Qn2jU_pL9gL"
   },
   "source": [
    "When programming, frequently we want to transform one type of data into another. As a simple example, consider the following code that computes square numbers:"
   ]
  },
  {
   "cell_type": "code",
   "execution_count": 20,
   "metadata": {
    "colab": {
     "base_uri": "https://localhost:8080/"
    },
    "id": "IVNEwoMXL9gL",
    "outputId": "d12fed51-2da6-4af0-83c6-aec920103dec"
   },
   "outputs": [
    {
     "name": "stdout",
     "output_type": "stream",
     "text": [
      "[0, 1, 4, 9, 16]\n"
     ]
    }
   ],
   "source": [
    "nums = [0, 1, 2, 3, 4]\n",
    "squares = []\n",
    "for x in nums:\n",
    "    squares.append(x ** 2)\n",
    "print(squares)"
   ]
  },
  {
   "cell_type": "markdown",
   "metadata": {
    "id": "7DmKVUFaL9gQ"
   },
   "source": [
    "You can make this code simpler using a list comprehension:"
   ]
  },
  {
   "cell_type": "code",
   "execution_count": 21,
   "metadata": {
    "colab": {
     "base_uri": "https://localhost:8080/"
    },
    "id": "kZxsUfV6L9gR",
    "outputId": "f36aa969-0966-41fb-a4d1-d9b95c142467"
   },
   "outputs": [
    {
     "name": "stdout",
     "output_type": "stream",
     "text": [
      "[0, 1, 4, 9, 16]\n"
     ]
    }
   ],
   "source": [
    "nums = [0, 1, 2, 3, 4]\n",
    "squares = [x ** 2 for x in nums]\n",
    "print(squares)"
   ]
  },
  {
   "cell_type": "markdown",
   "metadata": {
    "id": "-D8ARK7tL9gV"
   },
   "source": [
    "List comprehensions can also contain conditions:"
   ]
  },
  {
   "cell_type": "code",
   "execution_count": 22,
   "metadata": {
    "colab": {
     "base_uri": "https://localhost:8080/"
    },
    "id": "yUtgOyyYL9gV",
    "outputId": "d617cc62-4f66-4f42-f74f-8deb787c6910"
   },
   "outputs": [
    {
     "name": "stdout",
     "output_type": "stream",
     "text": [
      "[0, 4, 16]\n"
     ]
    }
   ],
   "source": [
    "nums = [0, 1, 2, 3, 4]\n",
    "even_squares = [x ** 2 for x in nums if x % 2 == 0]\n",
    "print(even_squares)"
   ]
  },
  {
   "cell_type": "markdown",
   "metadata": {
    "id": "H8xsUEFpL9gZ"
   },
   "source": [
    "####Dictionaries"
   ]
  },
  {
   "cell_type": "markdown",
   "metadata": {
    "id": "kkjAGMAJL9ga"
   },
   "source": [
    "A dictionary stores (key, value) pairs, similar to a `Map` in Java or an object in Javascript. You can use it like this:"
   ]
  },
  {
   "cell_type": "code",
   "execution_count": 23,
   "metadata": {
    "colab": {
     "base_uri": "https://localhost:8080/"
    },
    "id": "XBYI1MrYL9gb",
    "outputId": "6296f4a3-a26b-4ba2-dc1b-6f2803be301c"
   },
   "outputs": [
    {
     "name": "stdout",
     "output_type": "stream",
     "text": [
      "cute\n",
      "True\n"
     ]
    }
   ],
   "source": [
    "d = {'cat': 'cute', 'dog': 'furry'}  # Create a new dictionary with some data\n",
    "print(d['cat'])       # Get an entry from a dictionary; prints \"cute\"\n",
    "print('cat' in d)     # Check if a dictionary has a given key; prints \"True\""
   ]
  },
  {
   "cell_type": "code",
   "execution_count": 24,
   "metadata": {
    "colab": {
     "base_uri": "https://localhost:8080/"
    },
    "id": "pS7e-G-HL9gf",
    "outputId": "1d55bf48-221a-4d29-e49b-2d36debe3155"
   },
   "outputs": [
    {
     "name": "stdout",
     "output_type": "stream",
     "text": [
      "wet\n"
     ]
    }
   ],
   "source": [
    "d['fish'] = 'wet'    # Set an entry in a dictionary\n",
    "print(d['fish'])      # Prints \"wet\""
   ]
  },
  {
   "cell_type": "code",
   "execution_count": 25,
   "metadata": {
    "id": "tFY065ItL9gi"
   },
   "outputs": [],
   "source": [
    "# print(d['monkey'])  # KeyError: 'monkey' not a key of d\n",
    "# If you uncomment above code, this would give a key error"
   ]
  },
  {
   "cell_type": "code",
   "execution_count": 26,
   "metadata": {
    "colab": {
     "base_uri": "https://localhost:8080/"
    },
    "id": "8TjbEWqML9gl",
    "outputId": "002e9b5f-0cda-4d36-c986-699a59d7313a"
   },
   "outputs": [
    {
     "name": "stdout",
     "output_type": "stream",
     "text": [
      "N/A\n",
      "wet\n"
     ]
    }
   ],
   "source": [
    "print(d.get('monkey', 'N/A'))  # Get an element with a default; prints \"N/A\"\n",
    "print(d.get('fish', 'N/A'))    # Get an element with a default; prints \"wet\""
   ]
  },
  {
   "cell_type": "code",
   "execution_count": 27,
   "metadata": {
    "colab": {
     "base_uri": "https://localhost:8080/"
    },
    "id": "0EItdNBJL9go",
    "outputId": "9895713d-0f39-43bf-ab37-797d64a9181a"
   },
   "outputs": [
    {
     "name": "stdout",
     "output_type": "stream",
     "text": [
      "N/A\n"
     ]
    }
   ],
   "source": [
    "del d['fish']        # Remove an element from a dictionary\n",
    "print(d.get('fish', 'N/A')) # \"fish\" is no longer a key; prints \"N/A\""
   ]
  },
  {
   "cell_type": "markdown",
   "metadata": {
    "id": "wqm4dRZNL9gr"
   },
   "source": [
    "You can find all you need to know about dictionaries in the [documentation](https://docs.python.org/2/library/stdtypes.html#dict)."
   ]
  },
  {
   "cell_type": "markdown",
   "metadata": {
    "id": "IxwEqHlGL9gr"
   },
   "source": [
    "It is easy to iterate over the keys in a dictionary:"
   ]
  },
  {
   "cell_type": "code",
   "execution_count": 28,
   "metadata": {
    "colab": {
     "base_uri": "https://localhost:8080/"
    },
    "id": "rYfz7ZKNL9gs",
    "outputId": "050642c1-da39-4501-e855-b9839cf70471"
   },
   "outputs": [
    {
     "name": "stdout",
     "output_type": "stream",
     "text": [
      "A person has 2 legs\n",
      "A cat has 4 legs\n",
      "A spider has 8 legs\n"
     ]
    }
   ],
   "source": [
    "d = {'person': 2, 'cat': 4, 'spider': 8}\n",
    "for animal, legs in d.items():\n",
    "    print('A {} has {} legs'.format(animal, legs))"
   ]
  },
  {
   "cell_type": "markdown",
   "metadata": {
    "id": "17sxiOpzL9gz"
   },
   "source": [
    "Dictionary comprehensions: These are similar to list comprehensions, but allow you to easily construct dictionaries. For example:"
   ]
  },
  {
   "cell_type": "code",
   "execution_count": 29,
   "metadata": {
    "colab": {
     "base_uri": "https://localhost:8080/"
    },
    "id": "8PB07imLL9gz",
    "outputId": "7e2fb2b2-8766-4e48-d2ae-81ac5e44169e"
   },
   "outputs": [
    {
     "name": "stdout",
     "output_type": "stream",
     "text": [
      "{0: 0, 2: 4, 4: 16}\n"
     ]
    }
   ],
   "source": [
    "nums = [0, 1, 2, 3, 4]\n",
    "even_num_to_square = {x: x ** 2 for x in nums if x % 2 == 0}\n",
    "print(even_num_to_square)"
   ]
  },
  {
   "cell_type": "markdown",
   "metadata": {
    "id": "V9MHfUdvL9g2"
   },
   "source": [
    "####Sets"
   ]
  },
  {
   "cell_type": "markdown",
   "metadata": {
    "id": "Rpm4UtNpL9g2"
   },
   "source": [
    "A set is an unordered collection of distinct elements. As a simple example, consider the following:"
   ]
  },
  {
   "cell_type": "code",
   "execution_count": 30,
   "metadata": {
    "colab": {
     "base_uri": "https://localhost:8080/"
    },
    "id": "MmyaniLsL9g2",
    "outputId": "4338fd15-f0d6-43c7-c0e2-76db600b74ca"
   },
   "outputs": [
    {
     "name": "stdout",
     "output_type": "stream",
     "text": [
      "True\n",
      "False\n"
     ]
    }
   ],
   "source": [
    "animals = {'cat', 'dog'}\n",
    "print('cat' in animals)   # Check if an element is in a set; prints \"True\"\n",
    "print('fish' in animals)  # prints \"False\"\n"
   ]
  },
  {
   "cell_type": "code",
   "execution_count": 31,
   "metadata": {
    "colab": {
     "base_uri": "https://localhost:8080/"
    },
    "id": "ElJEyK86L9g6",
    "outputId": "e83472d2-c255-4be1-c59d-34945d8265fd"
   },
   "outputs": [
    {
     "name": "stdout",
     "output_type": "stream",
     "text": [
      "True\n",
      "3\n"
     ]
    }
   ],
   "source": [
    "animals.add('fish')      # Add an element to a set\n",
    "print('fish' in animals)\n",
    "print(len(animals))       # Number of elements in a set;"
   ]
  },
  {
   "cell_type": "code",
   "execution_count": 32,
   "metadata": {
    "colab": {
     "base_uri": "https://localhost:8080/"
    },
    "id": "5uGmrxdPL9g9",
    "outputId": "33ebadda-235e-4b1a-ba16-692d892d8171"
   },
   "outputs": [
    {
     "name": "stdout",
     "output_type": "stream",
     "text": [
      "3\n",
      "2\n"
     ]
    }
   ],
   "source": [
    "animals.add('cat')       # Adding an element that is already in the set does nothing\n",
    "print(len(animals))       \n",
    "animals.remove('cat')    # Remove an element from a set\n",
    "print(len(animals))       "
   ]
  },
  {
   "cell_type": "markdown",
   "metadata": {
    "id": "zk2DbvLKL9g_"
   },
   "source": [
    "_Loops_: Iterating over a set has the same syntax as iterating over a list; however since sets are unordered, you cannot make assumptions about the order in which you visit the elements of the set:"
   ]
  },
  {
   "cell_type": "code",
   "execution_count": 33,
   "metadata": {
    "colab": {
     "base_uri": "https://localhost:8080/"
    },
    "id": "K47KYNGyL9hA",
    "outputId": "33093331-ca0c-49b8-d01b-20a62cd99416"
   },
   "outputs": [
    {
     "name": "stdout",
     "output_type": "stream",
     "text": [
      "#1: dog\n",
      "#2: fish\n",
      "#3: cat\n"
     ]
    }
   ],
   "source": [
    "animals = {'cat', 'dog', 'fish'}\n",
    "for idx, animal in enumerate(animals):\n",
    "    print('#{}: {}'.format(idx + 1, animal))"
   ]
  },
  {
   "cell_type": "markdown",
   "metadata": {
    "id": "puq4S8buL9hC"
   },
   "source": [
    "Set comprehensions: Like lists and dictionaries, we can easily construct sets using set comprehensions:"
   ]
  },
  {
   "cell_type": "code",
   "execution_count": 34,
   "metadata": {
    "colab": {
     "base_uri": "https://localhost:8080/"
    },
    "id": "iw7k90k3L9hC",
    "outputId": "42373536-789c-4cee-dba3-750dc2d98541"
   },
   "outputs": [
    {
     "name": "stdout",
     "output_type": "stream",
     "text": [
      "{0, 1, 2, 3, 4, 5}\n"
     ]
    }
   ],
   "source": [
    "from math import sqrt\n",
    "print({int(sqrt(x)) for x in range(30)})"
   ]
  },
  {
   "cell_type": "markdown",
   "metadata": {
    "id": "qPsHSKB1L9hF"
   },
   "source": [
    "####Tuples"
   ]
  },
  {
   "cell_type": "markdown",
   "metadata": {
    "id": "kucc0LKVL9hG"
   },
   "source": [
    "A tuple is an **immutable** (meaning you can not change it) ordered list of values. A tuple is in many ways similar to a list; one of the most important differences is that tuples can be used as keys in dictionaries and as elements of sets, while lists cannot. Here is a trivial example:"
   ]
  },
  {
   "cell_type": "code",
   "execution_count": 35,
   "metadata": {
    "colab": {
     "base_uri": "https://localhost:8080/"
    },
    "id": "9wHUyTKxL9hH",
    "outputId": "88e1a1cc-0631-4e97-9c61-be85bf255695"
   },
   "outputs": [
    {
     "name": "stdout",
     "output_type": "stream",
     "text": [
      "<class 'tuple'>\n",
      "5\n",
      "1\n"
     ]
    }
   ],
   "source": [
    "d = {(x, x + 1): x for x in range(10)}  # Create a dictionary with tuple keys\n",
    "t = (5, 6)       # Create a tuple\n",
    "print(type(t))\n",
    "print(d[t])       \n",
    "print(d[(1, 2)])"
   ]
  },
  {
   "cell_type": "markdown",
   "metadata": {
    "id": "AXA4jrEOL9hM"
   },
   "source": [
    "###Functions"
   ]
  },
  {
   "cell_type": "markdown",
   "metadata": {
    "id": "WaRms-QfL9hN"
   },
   "source": [
    "Python functions are defined using the `def` keyword. For example:"
   ]
  },
  {
   "cell_type": "code",
   "execution_count": 36,
   "metadata": {
    "colab": {
     "base_uri": "https://localhost:8080/"
    },
    "id": "kiMDUr58L9hN",
    "outputId": "e3cd7b6c-fb35-4e0a-fef2-f7f45554c9b9"
   },
   "outputs": [
    {
     "name": "stdout",
     "output_type": "stream",
     "text": [
      "negative\n",
      "zero\n",
      "positive\n"
     ]
    }
   ],
   "source": [
    "def sign(x):\n",
    "    if x > 0:\n",
    "        return 'positive'\n",
    "    elif x < 0:\n",
    "        return 'negative'\n",
    "    else:\n",
    "        return 'zero'\n",
    "\n",
    "for x in [-1, 0, 1]:\n",
    "    print(sign(x))"
   ]
  },
  {
   "cell_type": "markdown",
   "metadata": {
    "id": "U-QJFt8TL9hR"
   },
   "source": [
    "We will often define functions to take optional keyword arguments, like this:"
   ]
  },
  {
   "cell_type": "code",
   "execution_count": 37,
   "metadata": {
    "colab": {
     "base_uri": "https://localhost:8080/"
    },
    "id": "PfsZ3DazL9hR",
    "outputId": "be001b2c-e6d9-45c6-95f4-e45145692696"
   },
   "outputs": [
    {
     "name": "stdout",
     "output_type": "stream",
     "text": [
      "Hello, Bob!\n",
      "HELLO, FRED\n"
     ]
    }
   ],
   "source": [
    "def hello(name, loud=False):\n",
    "    if loud:\n",
    "        print('HELLO, {}'.format(name.upper()))\n",
    "    else:\n",
    "        print('Hello, {}!'.format(name))\n",
    "\n",
    "hello('Bob')\n",
    "hello('Fred', loud=True)"
   ]
  },
  {
   "cell_type": "markdown",
   "metadata": {
    "id": "GLTFhBoMWVXJ"
   },
   "source": [
    "# Python Revision Exercises\n",
    "Add code cells below and write your code for exercises 1 through 9\n"
   ]
  },
  {
   "cell_type": "code",
   "execution_count": 1,
   "metadata": {
    "id": "muIkMufNV4Fu"
   },
   "outputs": [],
   "source": [
    "#Input for 1 & 2\n",
    "num_list = [-9, 185, -7, -10, -4, 34, -8, -16, -9, -5, 227, 6, 3, -3, 3, 2, 8, -60, -6, -6]"
   ]
  },
  {
   "cell_type": "markdown",
   "metadata": {
    "id": "CAHDjfglWSIS"
   },
   "source": [
    "1. Print all the positive odd numbers contained in **num_list**\n",
    "2. Calculate the sum of the last 10 elements **from num_list**"
   ]
  },
  {
   "cell_type": "code",
   "execution_count": 2,
   "metadata": {},
   "outputs": [
    {
     "name": "stdout",
     "output_type": "stream",
     "text": [
      "[185, 227, 3, 3]\n",
      "Sum is 174\n"
     ]
    }
   ],
   "source": [
    "new_list = []\n",
    "for number in num_list:\n",
    "    if number > 0 and number % 2 == 1:\n",
    "        new_list.append(number)\n",
    "\n",
    "print(new_list)        \n",
    "print(\"Sum is \" + str(sum(num_list[-10:])))"
   ]
  },
  {
   "cell_type": "code",
   "execution_count": 3,
   "metadata": {
    "id": "awR3e5m1beiI"
   },
   "outputs": [],
   "source": [
    "#Input for 3, 4\n",
    "countries_list = ['Argentina', 'Australia', 'Austria', 'Belgium', 'Bolivia', 'Brazil', 'Bulgaria', 'Canada', 'Chile', 'Colombia', 'Costa Rica', 'Croatia', 'Czechia', 'Denmark', 'Ecuador', 'Estonia', 'Finland', 'France', 'Germany', 'Gibraltar', 'Greece', 'Guatemala', 'Honduras', 'Hong Kong', 'Hungary', 'Iceland', 'India', 'Indonesia', 'Ireland', 'Israel', 'Italy', 'Japan', 'Latvia', 'Liechtenstein', 'Lithuania', 'Malaysia', 'Mexico', 'Moldova', 'Monaco', 'Netherlands', 'New Zealand', 'Norway', 'Paraguay', 'Peru', 'Philippines', 'Poland', 'Portugal', 'Romania', 'Russia', 'San Marino', 'Singapore', 'Slovakia', 'South Africa', 'South Korea', 'Spain', 'Sweden', 'Switzerland', 'Taiwan', 'Thailand', 'Turkey', 'Ukraine', 'United Kingdom', 'United States', 'Uruguay', 'Venezuela']"
   ]
  },
  {
   "cell_type": "markdown",
   "metadata": {
    "id": "uTryu_9EZrz1"
   },
   "source": [
    "3. Print out all of the countries that are composed out of a single word. \n",
    "\n",
    "    That means countries like Argentina, Czechia should appear in your list, while others like Hong Kong should not.\n",
    "4. Write a function that takes in a list of country names as input and returns a dictionary where each key is a letter of the alphabet and the value is a list of countries that start with that letter.\n",
    "e.g. \n",
    "\n",
    "    *input: ['Australia', 'Austria', 'Belgium']* -> \n",
    "    \n",
    "    *output: {'A' : ['Australia', 'Austria'], 'B' : ['Belgium']}*\n",
    "\n",
    "    Then **print out your_dictionary['S']**."
   ]
  },
  {
   "cell_type": "code",
   "execution_count": 4,
   "metadata": {},
   "outputs": [
    {
     "name": "stdout",
     "output_type": "stream",
     "text": [
      "['Argentina', 'Australia', 'Austria', 'Belgium', 'Bolivia', 'Brazil', 'Bulgaria', 'Canada', 'Chile', 'Colombia', 'Croatia', 'Czechia', 'Denmark', 'Ecuador', 'Estonia', 'Finland', 'France', 'Germany', 'Gibraltar', 'Greece', 'Guatemala', 'Honduras', 'Hungary', 'Iceland', 'India', 'Indonesia', 'Ireland', 'Israel', 'Italy', 'Japan', 'Latvia', 'Liechtenstein', 'Lithuania', 'Malaysia', 'Mexico', 'Moldova', 'Monaco', 'Netherlands', 'Norway', 'Paraguay', 'Peru', 'Philippines', 'Poland', 'Portugal', 'Romania', 'Russia', 'Singapore', 'Slovakia', 'Spain', 'Sweden', 'Switzerland', 'Taiwan', 'Thailand', 'Turkey', 'Ukraine', 'Uruguay', 'Venezuela']\n",
      " \n",
      "['Singapore', 'Slovakia', 'South Africa', 'South Korea', 'Spain', 'Sweden', 'Switzerland']\n"
     ]
    }
   ],
   "source": [
    "oneWordCountries = []\n",
    "for country in countries_list:\n",
    "    if \" \" not in country:\n",
    "        oneWordCountries.append (country)\n",
    "        \n",
    "print(oneWordCountries)\n",
    "print(\" \")\n",
    "\n",
    "#######################\n",
    "\n",
    "def countryAlphabet(someCountries):\n",
    "    \n",
    "    import string\n",
    "    alphabet = list(string.ascii_uppercase)\n",
    "\n",
    "    resultDict = {}\n",
    "\n",
    "    for letter in alphabet:\n",
    "        resultDict[letter]=''\n",
    "\n",
    "    helperList = []\n",
    "    for country in someCountries:\n",
    "        if (len(helperList) == 0) or (helperList[0][0] == country[0]):\n",
    "            helperList.append(country)\n",
    "        else:\n",
    "            resultDict[helperList[0][0]] = helperList\n",
    "            helperList = []\n",
    "\n",
    "    return resultDict\n",
    "\n",
    "print(countryAlphabet(countries_list)['S'])"
   ]
  },
  {
   "cell_type": "code",
   "execution_count": 5,
   "metadata": {
    "colab": {
     "base_uri": "https://localhost:8080/"
    },
    "id": "HVBVDpSAeigt",
    "outputId": "f73c48e4-1813-4a6d-b1bf-24da136e0c73"
   },
   "outputs": [
    {
     "name": "stdout",
     "output_type": "stream",
     "text": [
      "65 65\n"
     ]
    }
   ],
   "source": [
    "#Input for 5, 6, 7 and 8\n",
    "countries_list = ['Argentina', 'Australia', 'Austria', 'Belgium', 'Bolivia', 'Brazil', 'Bulgaria', 'Canada', 'Chile', 'Colombia', 'Costa Rica', 'Croatia', 'Czechia', 'Denmark', 'Ecuador', 'Estonia', 'Finland', 'France', 'Germany', 'Gibraltar', 'Greece', 'Guatemala', 'Honduras', 'Hong Kong', 'Hungary', 'Iceland', 'India', 'Indonesia', 'Ireland', 'Israel', 'Italy', 'Japan', 'Latvia', 'Liechtenstein', 'Lithuania', 'Malaysia', 'Mexico', 'Moldova', 'Monaco', 'Netherlands', 'New Zealand', 'Norway', 'Paraguay', 'Peru', 'Philippines', 'Poland', 'Portugal', 'Romania', 'Russia', 'San Marino', 'Singapore', 'Slovakia', 'South Africa', 'South Korea', 'Spain', 'Sweden', 'Switzerland', 'Taiwan', 'Thailand', 'Turkey', 'Ukraine', 'United Kingdom', 'United States', 'Uruguay', 'Venezuela']\n",
    "countries_subscription_prices = [9.26, 16.39, 20.32, 20.32, 13.99, 9.96, 13.54, 15.03, 12.74, 9.93, 15.99, 13.54, 14.15, 19.6, 13.99, 13.54, 18.06, 20.32, 20.32, 20.32, 15.8, 13.99, 13.99, 11.93, 13.78, 20.32, 8.6, 12.96, 20.32, 19.54, 20.32, 17.45, 13.54, 26.96, 13.54, 13.02, 14.24, 13.54, 18.06, 18.06, 16.94, 17.75, 14.69, 11.01, 10.93, 14.76, 18.06, 13.54, 13.56, 20.32, 16.11, 13.54, 12.58, 14.45, 20.32, 19.7, 26.96, 14.07, 12.52, 4.02, 11.29, 18.48, 17.99, 15.99, 13.99]\n",
    "print(len(countries_list), len(countries_subscription_prices))"
   ]
  },
  {
   "cell_type": "markdown",
   "metadata": {
    "id": "Q3O-zwADfy48"
   },
   "source": [
    "5. Write a program that takes a country as input and returns the subscription price for that country, rounded to two decimal places. If the country is not in the list, the program should return an error message."
   ]
  },
  {
   "cell_type": "code",
   "execution_count": 6,
   "metadata": {},
   "outputs": [
    {
     "name": "stdout",
     "output_type": "stream",
     "text": [
      "9.26\n",
      "Country not found\n"
     ]
    }
   ],
   "source": [
    "priceDict = {}\n",
    "for (name, price) in zip (countries_list,countries_subscription_prices):\n",
    "    priceDict[name] = price\n",
    "\n",
    "def my_function(someCountry):\n",
    "    result = priceDict.get(someCountry, 'Country not found')\n",
    "    if type(result) != type('aa'):\n",
    "        result = round(result,2)\n",
    "    return result\n",
    "\n",
    "print(my_function('Argentina'))\n",
    "print(my_function('Azeroth'))"
   ]
  },
  {
   "cell_type": "markdown",
   "metadata": {
    "id": "bg8jp5dljl9f"
   },
   "source": [
    "6. Write a program that calculates the average subscription price across all countries in the list."
   ]
  },
  {
   "cell_type": "code",
   "execution_count": 7,
   "metadata": {},
   "outputs": [
    {
     "name": "stdout",
     "output_type": "stream",
     "text": [
      "15.61\n"
     ]
    }
   ],
   "source": [
    "print(round(sum(countries_subscription_prices)/len(countries_subscription_prices),2))"
   ]
  },
  {
   "cell_type": "markdown",
   "metadata": {
    "id": "GR6obMR9jyW5"
   },
   "source": [
    "7. Write a program that creates a dictionary where the keys are the countries and the values are the subscription prices. Use a loop to iterate over the two lists and create the dictionary."
   ]
  },
  {
   "cell_type": "code",
   "execution_count": 8,
   "metadata": {},
   "outputs": [
    {
     "name": "stdout",
     "output_type": "stream",
     "text": [
      "{'Argentina': 9.26, 'Australia': 16.39, 'Austria': 20.32, 'Belgium': 20.32, 'Bolivia': 13.99, 'Brazil': 9.96, 'Bulgaria': 13.54, 'Canada': 15.03, 'Chile': 12.74, 'Colombia': 9.93, 'Costa Rica': 15.99, 'Croatia': 13.54, 'Czechia': 14.15, 'Denmark': 19.6, 'Ecuador': 13.99, 'Estonia': 13.54, 'Finland': 18.06, 'France': 20.32, 'Germany': 20.32, 'Gibraltar': 20.32, 'Greece': 15.8, 'Guatemala': 13.99, 'Honduras': 13.99, 'Hong Kong': 11.93, 'Hungary': 13.78, 'Iceland': 20.32, 'India': 8.6, 'Indonesia': 12.96, 'Ireland': 20.32, 'Israel': 19.54, 'Italy': 20.32, 'Japan': 17.45, 'Latvia': 13.54, 'Liechtenstein': 26.96, 'Lithuania': 13.54, 'Malaysia': 13.02, 'Mexico': 14.24, 'Moldova': 13.54, 'Monaco': 18.06, 'Netherlands': 18.06, 'New Zealand': 16.94, 'Norway': 17.75, 'Paraguay': 14.69, 'Peru': 11.01, 'Philippines': 10.93, 'Poland': 14.76, 'Portugal': 18.06, 'Romania': 13.54, 'Russia': 13.56, 'San Marino': 20.32, 'Singapore': 16.11, 'Slovakia': 13.54, 'South Africa': 12.58, 'South Korea': 14.45, 'Spain': 20.32, 'Sweden': 19.7, 'Switzerland': 26.96, 'Taiwan': 14.07, 'Thailand': 12.52, 'Turkey': 4.02, 'Ukraine': 11.29, 'United Kingdom': 18.48, 'United States': 17.99, 'Uruguay': 15.99, 'Venezuela': 13.99}\n"
     ]
    }
   ],
   "source": [
    "priceDict = {}\n",
    "for (name, price) in zip (countries_list,countries_subscription_prices):\n",
    "    priceDict[name] = price\n",
    "print (priceDict)"
   ]
  },
  {
   "cell_type": "markdown",
   "metadata": {
    "id": "JpWqJERhyHys"
   },
   "source": [
    "8. Write a program that takes a subscription price as input and returns a list of all countries with subscription prices lower than or equal to that price. The list should be sorted alphabetically. Use a loop to iterate over the two lists and create a dictionary. Then, use a loop to iterate over the dictionary and create a list of countries with subscription prices lower than or equal to the input price."
   ]
  },
  {
   "cell_type": "code",
   "execution_count": 9,
   "metadata": {},
   "outputs": [
    {
     "name": "stdout",
     "output_type": "stream",
     "text": [
      "['Argentina', 'Brazil', 'Colombia', 'India', 'Turkey']\n"
     ]
    }
   ],
   "source": [
    "def cheaperThan(somePrice):\n",
    "    result = []\n",
    "    for c in countries_list:\n",
    "        if(priceDict.get(c) <= somePrice):\n",
    "            result.append(c)\n",
    "    return result\n",
    "\n",
    "print(cheaperThan(10))"
   ]
  },
  {
   "cell_type": "markdown",
   "metadata": {
    "id": "fk0nyKir30sV"
   },
   "source": [
    "9. Write a Python program that reads in the text file **book.txt** and creates a dictionary of words found in the file along with their frequencies. \n",
    "    The input file can be found in the archive.\n",
    "\n",
    "    Make use of this dictionary to print out the most common 5 words."
   ]
  },
  {
   "cell_type": "code",
   "execution_count": 15,
   "metadata": {
    "id": "hBbXCpnF40CN"
   },
   "outputs": [
    {
     "name": "stdout",
     "output_type": "stream",
     "text": [
      "{'the': 5045, 'and': 2722, 'of': 2637, 'to': 2298, 'a': 1481, 'i': 1169, 'in': 1135, 'with': 764, 'was': 748, 'that': 701, 'at': 638, 'it': 572, 'on': 559, '': 556, 'his': 539, 'for': 520, 'my': 520, 'he': 517, 'which': 500, 'as': 489, 'is': 452, 'we': 450, 'by': 433, 'be': 404, 'had': 401, 'not': 396, 'this': 392, 'from': 385, 'but': 362, 'me': 332, 'have': 310, 'you': 306, 'him': 274, 'all': 270, 'an': 257, 'or': 253, 'were': 244, 'our': 239, 'very': 236, 'so': 235, 'they': 231, 'are': 210, 'general': 210, 'us': 193, 'no': 189, 'their': 177, 'sir': 174, 'been': 168, 'one': 165, 'would': 162, 'some': 161, 'who': 157, 'them': 155, 'when': 146, 'into': 144, 'if': 141, 'upon': 140, 'up': 140, 'more': 139, 'about': 139, 'could': 134, 'will': 130, 'much': 130, 'now': 128, 'has': 125, 'french': 124, 'army': 122, 'any': 120, 'most': 118, 'under': 116, 'other': 115, 'two': 113, 'what': 112, 'enemy': 112, 'great': 111, 'there': 109, 'after': 109, 'said': 109, 'before': 107, 'its': 106, 'than': 105, 'go': 103, 'time': 101, 'out': 99, 'made': 98, 'should': 98, 'then': 94, 'your': 94, 'do': 91, 'man': 90, 'these': 89, 'project': 88, 'get': 88, 'gutenberg': 87, 'john': 87, 'th': 87, 'might': 83, 'little': 83, 'being': 82, 'am': 82, 'having': 81, 'where': 80, 'see': 80, 'good': 77, 'well': 76, 'over': 76, 'left': 76, 'first': 75, 'make': 75, 'long': 75, 'may': 74, 'moore': 74, 'night': 74, 'can': 73, 'every': 73, 'here': 73, 'day': 72, 'town': 71, 'such': 70, 'way': 70, 'only': 69, 'find': 69, 'captain': 68, 'sea': 68, 'shall': 68, 'place': 68, 'road': 67, 'off': 66, 'board': 64, 'oclock': 64, 'must': 63, 'through': 62, 'come': 62, 'take': 62, 'soon': 62, 'did': 61, 'english': 59, 'hope': 59, 'her': 59, 'troops': 59, 'old': 58, 'colonel': 58, 'without': 57, 'boothby': 56, 'last': 56, 'ever': 56, 'like': 56, 'work': 56, 'morning': 55, 'however': 55, 'country': 54, 'part': 54, 'still': 54, 'again': 54, 'return': 53, 'towards': 53, 'myself': 53, 'house': 53, 'never': 52, 'think': 52, 'officer': 52, 'down': 51, 'while': 51, 'yet': 51, 'british': 51, 'himself': 51, 'though': 51, 'beautiful': 51, 'many': 50, 'know': 50, 'went': 50, 'people': 50, 'letter': 49, 'own': 49, 'lisbon': 49, 'right': 49, 'start': 48, 'thought': 48, 'three': 48, 'nothing': 48, 'officers': 47, 'regiment': 47, 'give': 46, 'found': 46, 'battle': 46, 'dearest': 46, 'how': 46, 'also': 46, 'immediately': 45, 'came': 45, 'taken': 45, 'each': 44, 'she': 44, 'seemed': 44, 'charles': 43, 'another': 43, 'whose': 43, 'just': 43, 'told': 43, 'horse': 43, 'fine': 42, 'men': 42, 'arrive': 42, 'position': 42, 'spanish': 41, 'fire': 41, 'works': 40, 'whom': 40, 'dinner': 40, 'fleet': 39, 'until': 39, 'sent': 39, 'going': 38, 'ship': 38, 'light': 38, 'say': 38, 'land': 38, 'side': 38, 'away': 37, 'put': 37, 'those': 37, 'both': 37, 'miles': 37, 'set': 37, 'shore': 37, 'july': 37, 'march': 37, 'same': 36, 'mind': 36, 'order': 36, 'took': 36, 'received': 36, 'etc': 36, 'nor': 35, 'england': 35, 'spain': 35, 'castle': 35, 'began': 35, 'days': 35, 'force': 35, 'because': 34, 'friend': 34, 'command': 34, 'better': 34, 'seen': 34, 'whole': 34, 'between': 34, 'rock': 34, 'arrived': 34, 'footnote': 34, 'write': 33, 'indeed': 33, 'messina': 33, 'gave': 33, 'too': 33, 'half': 33, 'full': 33, 'ground': 33, 'leagues': 33, 'corunna': 32, 'december': 32, 'things': 32, 'saw': 32, 'meet': 32, 'four': 31, 'hand': 31, 'near': 31, 'bernardo': 31, 'orders': 30, 'head': 30, 'military': 30, 'service': 30, 'back': 30, 'got': 30, 'mountains': 30, 'six': 30, 'admiral': 30, 'river': 30, 'hands': 29, 'letters': 29, 'home': 29, 'send': 29, 'tomorrow': 29, 'believe': 29, 'close': 29, 'view': 29, 'wounded': 29, 'even': 28, 'given': 28, 'st': 28, 'friends': 28, 'moment': 28, 'thing': 28, 'leave': 28, 'horses': 28, 'wind': 28, 'dear': 28, 'terms': 27, 'e': 27, 'therefore': 27, 'expedition': 27, 'action': 27, 'against': 27, 'knew': 27, 'sight': 27, 'present': 27, 'quite': 27, 'portuguese': 27, 'line': 27, 'spaniards': 27, 'electronic': 27, 'cannot': 26, 'far': 26, 'form': 26, 'ordered': 26, 'state': 26, 'war': 26, 'behind': 26, 'sail': 26, 'passed': 26, 'point': 26, 'water': 26, 'large': 26, 'round': 26, 'fort': 26, 'almost': 25, 'several': 25, 'london': 25, 'god': 25, 'heart': 25, 'above': 25, 'perhaps': 25, 'elvas': 25, 'best': 25, 'expected': 25, 'within': 25, 'evening': 25, 'november': 25, 'poor': 25, 'governor': 25, 'life': 24, 'object': 24, 'mountain': 24, 'brought': 24, 'front': 24, 'body': 24, 'called': 24, 'enough': 24, 'eyes': 24, 'bed': 24, 'september': 24, 'breakfast': 24, 'illustration': 23, 'let': 23, 'small': 23, 'hear': 23, 'tagus': 23, 'high': 23, 'gone': 23, 'looking': 23, 'august': 23, 'tell': 23, 'few': 23, 'foundation': 23, 'asked': 23, 'cavalry': 23, 'states': 22, 'felt': 22, 'itself': 22, 'bridge': 22, 'lord': 22, 'wait': 22, 'baggage': 22, 'party': 22, 'heard': 22, 'number': 22, 'embarkation': 22, 'next': 22, 'mr': 22, 'victory': 22, 'lost': 22, 'field': 22, 'charge': 22, 'october': 22, 'world': 21, 'since': 21, 'loss': 21, 'sort': 21, 'manner': 21, 'receive': 21, 'longer': 21, 'able': 21, 'account': 21, 'harbour': 21, 'street': 21, 'pass': 21, 'advanced': 21, 'ride': 21, 'killed': 21, 'soldiers': 20, 'black': 20, 'seven': 20, 'january': 20, 'father': 20, 'wish': 20, 'dark': 20, 'scene': 20, 'covered': 20, 'least': 20, 'lefebure': 20, 'pretty': 20, 'april': 20, 'attack': 20, 'forward': 20, 'corps': 20, 'always': 20, 'end': 20, 'interesting': 20, 'king': 20, 'use': 19, 'copy': 19, 'c': 19, 'family': 19, 'natural': 19, 'plan': 19, 'report': 19, 'proceed': 19, 'lay': 19, 'short': 19, 'finding': 19, 'met': 19, 'excellent': 19, 'ten': 19, 'five': 19, 'determined': 19, 'column': 19, 'situation': 19, 'course': 19, 'yesterday': 19, 'occupied': 19, 'information': 19, 'flank': 19, 'regiments': 19, 'copyright': 19, 'new': 18, 'portugal': 18, 'nature': 18, 'mother': 18, 'chief': 18, 'fellow': 18, 'complete': 18, 'giving': 18, 'possible': 18, 'pleased': 18, 'opportunity': 18, 'island': 18, 'air': 18, 'ready': 18, 'intelligence': 18, 'nearly': 18, 'blue': 18, 'quarters': 18, 'obliged': 18, 'operations': 18, 'houses': 18, 'de': 18, 'taking': 18, 'frenchman': 18, 'generals': 18, 'paget': 18, 'agreement': 18, 'license': 17, 'superior': 17, 'kind': 17, 'anxious': 17, 'wrote': 17, 'stuart': 17, 'scylla': 17, 'thus': 17, 'entered': 17, 'master': 17, 'rain': 17, 'open': 17, 'anything': 17, 'looked': 17, 'rest': 17, 'till': 17, 'fell': 17, 'makes': 17, 'hard': 17, 'coast': 17, 'boat': 17, 'weather': 17, 'stood': 17, 'hill': 17, 'less': 17, 'along': 17, 'interest': 17, 'strength': 17, 'remain': 17, 'city': 17, 'distance': 17, 'walk': 17, 'naples': 17, 'length': 17, 'show': 17, 'shot': 17, 'heights': 17, 'convent': 17, 'glad': 17, 'arrival': 17, 'camp': 17, 'commanded': 17, 'desired': 17, 'united': 16, 'during': 16, 'fair': 16, 'years': 16, 'keep': 16, 'neither': 16, 'does': 16, 'carried': 16, 'james': 16, 'gibraltar': 16, 'firing': 16, 'early': 16, 'bad': 16, 'rather': 16, 'certainly': 16, 'hour': 16, 'supposed': 16, 'face': 16, 'suppose': 16, 'streets': 16, 'despatches': 16, 'expect': 16, 'perfectly': 16, 'permission': 16, 'appearance': 16, 'beach': 16, 'others': 16, 'headquarters': 16, 'forth': 16, 'read': 16, 'noble': 16, 'thick': 16, 'italian': 16, 'eight': 16, 'coming': 16, 'defence': 16, 'certain': 16, 'advance': 16, 'probably': 16, 'heavy': 16, 'village': 16, 'nd': 16, 'although': 16, 'says': 16, 'ebook': 15, 'engineers': 15, 'young': 15, 'book': 15, 'strong': 15, 'spirit': 15, 'sicily': 15, 'corregidor': 15, 'consequence': 15, 'doubt': 15, 'sure': 15, 'commander': 15, 'door': 15, 'lady': 15, 'business': 15, 'together': 15, 'ships': 15, 'white': 15, 'particularly': 15, 'reach': 15, 'afterwards': 15, 'oh': 15, 'distant': 15, 'breeze': 15, 'respect': 15, 'late': 15, 'approach': 15, 'sky': 15, 'sleep': 15, 'vast': 15, 'power': 15, 'means': 15, 'extremely': 15, 'below': 15, 'desire': 15, 'wished': 15, 'done': 15, 'want': 15, 'honour': 15, 'room': 15, 'particular': 15, 'marched': 15, 'brigade': 15, 'f': 15, 'donations': 15, 'france': 14, 'b': 14, 'love': 14, 'carry': 14, 'whether': 14, 'something': 14, 'division': 14, 'campbell': 14, 'wife': 14, 'often': 14, 'midst': 14, 'making': 14, 'known': 14, 'once': 14, 'mail': 14, 'dead': 14, 'embarked': 14, 'pleasant': 14, 'artillery': 14, 'bay': 14, 'returned': 14, 'appears': 14, 'today': 14, 'grand': 14, 'case': 14, 'necessary': 14, 'hours': 14, 'beyond': 14, 'pleasure': 14, 'takes': 14, 'greater': 14, 'themselves': 14, 'affectionate': 14, 'formed': 14, 'superb': 14, 'halfpast': 14, 'guide': 14, 'join': 14, 'nine': 14, 'burgos': 14, 'various': 13, 'considerable': 13, 'kept': 13, 'times': 13, 'look': 13, 'sun': 13, 'orense': 13, 'attached': 13, 'guards': 13, 'infantry': 13, 'major': 13, 'arms': 13, 'already': 13, 'son': 13, 'person': 13, 'second': 13, 'difficult': 13, 'turned': 13, 'opened': 13, 'degree': 13, 'equal': 13, 'brig': 13, 'forces': 13, 'dont': 13, 'happy': 13, 'signal': 13, 'further': 13, 'immense': 13, 'foot': 13, 'guns': 13, 'curiosity': 13, 'appeared': 13, 'la': 13, 'cold': 13, 'anchor': 13, 'discovered': 13, 'walls': 13, 'bread': 13, 'fully': 13, 'cover': 13, 'seeing': 13, 'attention': 13, 'syracuse': 13, 'servant': 13, 'anxiety': 13, 'prisoners': 13, 'death': 13, 'cause': 13, 'trademark': 13, 'literary': 13, 'archive': 13, 'flag': 12, 'parts': 12, 'why': 12, 'care': 12, 'fear': 12, 'subject': 12, 'offered': 12, 'numbers': 12, 'character': 12, 'employed': 12, 'youth': 12, 'arriving': 12, 'commanding': 12, 'eye': 12, 'added': 12, 'getting': 12, 'run': 12, 'passage': 12, 'twenty': 12, 'ran': 12, 'escape': 12, 'turn': 12, 'ill': 12, 'prince': 12, 'clear': 12, 'plain': 12, 'attempt': 12, 'deal': 12, 'waters': 12, 'daylight': 12, 'rich': 12, 'impossible': 12, 'greatest': 12, 'june': 12, 'seems': 12, 'appear': 12, 'brother': 12, 'delighted': 12, 'leaving': 12, 'dress': 12, 'mouth': 12, 'feet': 12, 'hopes': 12, 'wild': 12, 'transport': 12, 'among': 12, 'wood': 12, 'sensible': 12, 'cut': 12, 'call': 12, 'effect': 12, 'englishman': 12, 'engineer': 12, 'saying': 12, 'retreat': 12, 'stay': 12, 'regnier': 12, 'possession': 12, 'support': 12, 'generally': 12, 'paragraph': 12, 'twelve': 12, 'billet': 12, 'alcalde': 12, 'vigo': 12, 'laws': 11, 'royal': 11, 'square': 11, 'quiet': 11, 'spite': 11, 'written': 11, 'craig': 11, 'departure': 11, 'frontier': 11, 'battery': 11, 'bottom': 11, 'placed': 11, 'soldier': 11, 'journey': 11, 'portsmouth': 11, 'memory': 11, 'table': 11, 'outside': 11, 'spirits': 11, 'standing': 11, 'wine': 11, 'important': 11, 'fresh': 11, 'transports': 11, 'convoy': 11, 'queen': 11, 'broken': 11, 'likely': 11, 'commandant': 11, 'south': 11, 'notice': 11, 'deep': 11, 'ourselves': 11, 'delight': 11, 'sometimes': 11, 'followed': 11, 'different': 11, 'across': 11, 'gives': 11, 'loud': 11, 'dine': 11, 'sound': 11, 'following': 11, 'main': 11, 'ones': 11, 'sicilian': 11, 'moved': 11, 'answer': 11, 'access': 11, 'spoke': 11, 'word': 11, 'circumstances': 11, 'enemys': 11, 'paid': 11, 'speak': 11, 'agreeable': 11, 'comes': 11, 'agree': 11, 'villa': 11, 'majorgeneral': 11, 'prisoner': 10, 'campaign': 10, 'containing': 10, 'bit': 10, 'kindness': 10, 're': 10, 'served': 10, 'writing': 10, 'words': 10, 'ceased': 10, 'comfort': 10, 'journal': 10, 'harry': 10, 'lieutenantgeneral': 10, 'baird': 10, 'destroyed': 10, 'individual': 10, 'duty': 10, 'name': 10, 'conversation': 10, 'beat': 10, 'picture': 10, 'bank': 10, 'hardly': 10, 'either': 10, 'top': 10, 'provide': 10, 'staff': 10, 'bless': 10, 'stand': 10, 'allowed': 10, 'thirty': 10, 'conceive': 10, 'shores': 10, 'broad': 10, 'heaven': 10, 'bold': 10, 'description': 10, 'joy': 10, 'brave': 10, 'learn': 10, 'capital': 10, 'everything': 10, 'north': 10, 'happened': 10, 'news': 10, 'clouds': 10, 'trees': 10, 'rapid': 10, 'satisfied': 10, 'embark': 10, 'importance': 10, 'advantage': 10, 'perfect': 10, 'augusta': 10, 'continued': 10, 'true': 10, 'arrangements': 10, 'believed': 10, 'thousand': 10, 'fighting': 10, 'matter': 10, 'fellows': 10, 'hills': 10, 'destroy': 10, 'conduct': 10, 'buonaparte': 10, 'pm': 10, 'distribution': 10, 'including': 10, 'tells': 10, 'badajoz': 10, 'colbourn': 10, 'beresford': 10, 'louis': 10, 'refund': 10, 'language': 9, 'note': 9, 'fact': 9, 'guard': 9, 'severe': 9, 'experience': 9, 'breast': 9, 'earth': 9, 'need': 9, 'otherwise': 9, 'maida': 9, 'arrives': 9, 'bird': 9, 'alcantara': 9, 'seek': 9, 'mine': 9, 'advantages': 9, 'extended': 9, 'compliance': 9, 'satisfaction': 9, 'thoughts': 9, 'features': 9, 'sad': 9, 'smile': 9, 'loved': 9, 'stores': 9, 'threw': 9, 'gentleman': 9, 'sat': 9, 'port': 9, 'eat': 9, 'voyage': 9, 'vessels': 9, 'eggs': 9, 'impression': 9, 'numerous': 9, 'deck': 9, 'sunday': 9, 'violent': 9, 'waves': 9, 'relieved': 9, 'romantic': 9, 'bring': 9, 'displayed': 9, 'gunboats': 9, 'showed': 9, 'moving': 9, 'magnificent': 9, 'fortress': 9, 'lies': 9, 'acquainted': 9, 'enter': 9, 'handsome': 9, 'situated': 9, 'surprise': 9, 'wonder': 9, 'visit': 9, 'beheld': 9, 'carriage': 9, 'talk': 9, 'used': 9, 'gallant': 9, 'remarkable': 9, 'thy': 9, 'fast': 9, 'beauties': 9, 'woods': 9, 'pushed': 9, 'animal': 9, 'idea': 9, 'spot': 9, 'hoped': 9, 'miserable': 9, 'voice': 9, 'event': 9, 'opposite': 9, 'follow': 9, 'greatly': 9, 'mount': 9, 'built': 9, 'yourself': 9, 'sidney': 9, 'reserve': 9, 'ross': 9, 'frenchmen': 9, 'endeavoured': 9, 'wet': 9, 'rendered': 9, 'ago': 9, 'money': 9, 'everybody': 9, 'help': 9, 'unless': 9, 'roads': 9, 'ask': 9, 'laid': 9, 'devil': 9, 'j': 9, 'services': 9, 'offer': 9, 'league': 9, 'bishop': 9, 'peasants': 9, 'salamanca': 9, 'ciudad': 9, 'rodrigo': 9, 'madrid': 9, 'produced': 8, 'knowledge': 8, 'occupation': 8, 'secure': 8, 'danger': 8, 'snow': 8, 'siege': 8, 'returns': 8, 'opinion': 8, 'companions': 8, 'established': 8, 'liberty': 8, 'dawn': 8, 'glory': 8, 'else': 8, 'whatever': 8, 'gain': 8, 'feelings': 8, 'direction': 8, 'fears': 8, 'acquaintance': 8, 'comfortable': 8, 'provided': 8, 'prepared': 8, 'amongst': 8, 'feeling': 8, 'malta': 8, 'cabin': 8, 'bright': 8, 'prospect': 8, 'boats': 8, 'size': 8, 'inhabitants': 8, 'blowing': 8, 'green': 8, 'sends': 8, 'dare': 8, 'afternoon': 8, 'dressed': 8, 'splendid': 8, 'steep': 8, 'around': 8, 'garrison': 8, 'approaching': 8, 'welcome': 8, 'formerly': 8, 'beauty': 8, 'range': 8, 'bond': 8, 'mean': 8, 'stone': 8, 'forms': 8, 'landed': 8, 'rise': 8, 'regular': 8, 'exposed': 8, 'hat': 8, 'palace': 8, 'narrow': 8, 'hot': 8, 'affairs': 8, 'assistance': 8, 'utmost': 8, 'ancient': 8, 'roman': 8, 'buried': 8, 'destruction': 8, 'red': 8, 'protect': 8, 'majesty': 8, 'rode': 8, 'mounted': 8, 'prevent': 8, 'human': 8, 'reason': 8, 'active': 8, 'napoleon': 8, 'trust': 8, 'calabria': 8, 'forming': 8, 'change': 8, 'vain': 8, 'fall': 8, 'wanted': 8, 'entirely': 8, 'except': 8, 'hundred': 8, 'despatch': 8, 'instead': 8, 'aidedecamp': 8, 'ours': 8, 'escaped': 8, 'efforts': 8, 'considered': 8, 'communication': 8, 'summons': 8, 'fifty': 8, 'mleod': 8, 'besides': 8, 'melancholy': 8, 'goes': 8, 'lieutenant': 8, 'starts': 8, 'judge': 8, 'gothenburg': 8, 'fog': 8, 'stewart': 8, 'keats': 8, 'wellesley': 8, 'obrien': 8, 'marches': 8, 'yes': 8, 'governors': 8, 'attacked': 8, 'fee': 8, 'englands': 7, 'located': 7, 'distributed': 7, 's': 7, 'portrait': 7, 'recommend': 7, 'company': 7, 'thee': 7, 'calculated': 7, 'spread': 7, 'became': 7, 'soul': 7, 'armies': 7, 'courage': 7, 'public': 7, 'design': 7, 'narrative': 7, 'page': 7, 'sweden': 7, 'david': 7, 'sketch': 7, 'bart': 7, 'dance': 7, 'strange': 7, 'benavente': 7, 'destined': 7, 'obtained': 7, 'labour': 7, 'fallen': 7, 'succeeded': 7, 'ardent': 7, 'feel': 7, 'boy': 7, 'actual': 7, 'fathers': 7, 'held': 7, 'mediterranean': 7, 'health': 7, 'avoid': 7, 'suddenly': 7, 'free': 7, 'rank': 7, 'destination': 7, 'charged': 7, 'accompanied': 7, 'warlike': 7, 'dad': 7, 'seize': 7, 'increased': 7, 'motion': 7, 'comply': 7, 'naked': 7, 'nelson': 7, 'commanderinchief': 7, 'batteries': 7, 'branches': 7, 'declared': 7, 'watch': 7, 'opposed': 7, 'wall': 7, 'fortunate': 7, 'uniform': 7, 'friendly': 7, 'objects': 7, 'behold': 7, 'theatre': 7, 'remembered': 7, 'learned': 7, 'brilliant': 7, 'sudden': 7, 'valetta': 7, 'stupendous': 7, 'native': 7, 'permitted': 7, 'gained': 7, 'lie': 7, 'divided': 7, 'lines': 7, 'parties': 7, 'effort': 7, 'church': 7, 'winter': 7, 'smoke': 7, 'fish': 7, 'countenance': 7, 'tongue': 7, 'ears': 7, 'former': 7, 'burnt': 7, 'golden': 7, 'elegant': 7, 'equally': 7, 'led': 7, 'russian': 7, 'ruins': 7, 'dined': 7, 'struck': 7, 'quartered': 7, 'committed': 7, 'promontory': 7, 'resolved': 7, 'contact': 7, 'whilst': 7, 'cliff': 7, 'civil': 7, 'move': 7, 'accordingly': 7, 'terror': 7, 'regret': 7, 'personal': 7, 'post': 7, 'alone': 7, 'gates': 7, 'afforded': 7, 'hotel': 7, 'observed': 7, 'abandoned': 7, 'comfortably': 7, 'peninsula': 7, 'purpose': 7, 'really': 7, 'laughing': 7, 'beginning': 7, 'looks': 7, 'commenced': 7, 'required': 7, 'completed': 7, 'movements': 7, 'colours': 7, 'strongly': 7, 'flying': 7, 'admit': 7, 'bayonets': 7, 'fight': 7, 'laugh': 7, 'joined': 7, 'islands': 7, 'wrong': 7, 'result': 7, 'packet': 7, 'papers': 7, 'wishes': 7, 'guineas': 7, 'gets': 7, 'immediate': 7, 'moores': 7, 'bound': 7, 'brooke': 7, 'inn': 7, 'banks': 7, 'murray': 7, 'messenger': 7, 'forced': 7, 'h': 7, 'd': 7, 'mules': 7, 'estremoz': 7, 'host': 7, 'albuquerque': 7, 'mayor': 7, 'aliseda': 7, 'withdrawn': 7, 'monterey': 7, 'austrian': 7, 'lieutenantcolonel': 7, 'law': 7, 'distributing': 7, 'copies': 7, 'ebooks': 7, 'associated': 7, 'section': 7, 'included': 6, 'check': 6, 'using': 6, 'crown': 6, 'illustrations': 6, 'unknown': 6, 'conceived': 6, 'milton': 6, 'sick': 6, 'increase': 6, 'brigades': 6, 'secretary': 6, 'penelope': 6, 'william': 6, 'di': 6, 'boys': 6, 'disappointment': 6, 'sword': 6, 'sides': 6, 'friendship': 6, 'eager': 6, 'extent': 6, 'spent': 6, 'foreign': 6, 'belonging': 6, 'lose': 6, 'absence': 6, 'legs': 6, 'nice': 6, 'thinking': 6, 'unpleasant': 6, 'comforts': 6, 'entering': 6, 'butter': 6, 'fatheri': 6, 'blow': 6, 'delightful': 6, 'silence': 6, 'midnight': 6, 'calm': 6, 'disagreeable': 6, 'inclined': 6, 'credit': 6, 'beastly': 6, 'waiting': 6, 'reconnoitre': 6, 'glass': 6, 'discover': 6, 'reports': 6, 'circle': 6, 'approached': 6, 'west': 6, 'admiration': 6, 'sublime': 6, 'moon': 6, 'points': 6, 'grandeur': 6, 'glorious': 6, 'rising': 6, 'presented': 6, 'kingdom': 6, 'foe': 6, 'quietly': 6, 'running': 6, 'passes': 6, 'easy': 6, 'entrance': 6, 'mess': 6, 'tired': 6, 'exceedingly': 6, 'swiftly': 6, 'liable': 6, 'rocky': 6, 'rose': 6, 'coat': 6, 'colour': 6, 'shipping': 6, 'touching': 6, 'turning': 6, 'shade': 6, 'height': 6, 'rocks': 6, 'whenever': 6, 'expectation': 6, 'sitting': 6, 'wound': 6, 'actually': 6, 'thrown': 6, 'worn': 6, 'exactly': 6, 'terrible': 6, 'summit': 6, 'understood': 6, 'intended': 6, 'bringing': 6, 'figure': 6, 'charger': 6, 'phrase': 6, 'removed': 6, 'neighbourhood': 6, 'woman': 6, 'stage': 6, 'talents': 6, 'rugged': 6, 'soil': 6, 'highly': 6, 'lofty': 6, 'filled': 6, 'sufficient': 6, 'dust': 6, 'travel': 6, 'principal': 6, 'knees': 6, 'disposition': 6, 'centre': 6, 'places': 6, 'forty': 6, 'straw': 6, 'walked': 6, 'astonished': 6, 'slept': 6, 'badly': 6, 'etna': 6, 'previous': 6, 'assured': 6, 'answered': 6, 'drive': 6, 'sweet': 6, 'aware': 6, 'meeting': 6, 'valuable': 6, 'women': 6, 'smith': 6, 'admirals': 6, 'drove': 6, 'notwithstanding': 6, 'future': 6, 'begin': 6, 'eufemia': 6, 'performed': 6, 'concerning': 6, 'excessive': 6, 'execution': 6, 'remained': 6, 'understand': 6, 'strike': 6, 'route': 6, 'masters': 6, 'fate': 6, 'battles': 6, 'success': 6, 'movement': 6, 'bare': 6, 'squire': 6, 'extraordinary': 6, 'surrender': 6, 'blown': 6, 'rampart': 6, 'capable': 6, 'silver': 6, 'retire': 6, 'completely': 6, 'ignorant': 6, 'misery': 6, 'paper': 6, 'towns': 6, 'wont': 6, 'sherbrooke': 6, 'seem': 6, 'try': 6, 'instructions': 6, 'latter': 6, 'press': 6, 'affair': 6, 'die': 6, 'burgoyne': 6, 'foul': 6, 'please': 6, 'throat': 6, 'dispute': 6, 'prepare': 6, 'row': 6, 'georges': 6, 'neck': 6, 'tack': 6, 'asking': 6, 'travelling': 6, 'overtake': 6, 'runs': 6, 'arch': 6, 'hearing': 6, 'burrard': 6, 'reached': 6, 'knows': 6, 'bear': 6, 'search': 6, 'convention': 6, 'hatred': 6, 'cook': 6, 'del': 6, 'mission': 6, 'retired': 6, 'fury': 6, 'respecting': 6, 'worth': 6, 'posted': 6, 'obtain': 6, 'brigaade': 6, 'limited': 6, 'distribute': 6, 'tax': 6, 'anyone': 5, 'cost': 5, 'online': 5, 'wwwgutenbergorg': 5, 'diary': 5, 'correspondence': 5, 'author': 5, 'date': 5, 'price': 5, 'died': 5, 'traveller': 5, 'events': 5, 'wonderful': 5, 'attended': 5, 'weight': 5, 'useful': 5, 'countrymen': 5, 'religion': 5, 'ample': 5, 'protection': 5, 'happiness': 5, 'forgotten': 5, 'ocean': 5, 'tranquillity': 5, 'firmness': 5, 'derived': 5, 'beam': 5, 'journals': 5, 'castlereagh': 5, 'kb': 5, 'tail': 5, 'youthful': 5, 'period': 5, 'enterprise': 5, 'year': 5, 'taste': 5, 'children': 5, 'peace': 5, 'serve': 5, 'parting': 5, 'sacred': 5, 'feared': 5, 'lest': 5, 'highest': 5, 'daring': 5, 'female': 5, 'pressure': 5, 'boiled': 5, 'agreed': 5, 'fly': 5, 'changed': 5, 'nobody': 5, 'neighbouring': 5, 'hoste': 5, 'appointed': 5, 'quantity': 5, 'soup': 5, 'brown': 5, 'damage': 5, 'shop': 5, 'weeks': 5, 'carrying': 5, 'companies': 5, 'yours': 5, 'isles': 5, 'sit': 5, 'consider': 5, 'buildings': 5, 'suite': 5, 'cadiz': 5, 'sending': 5, 'verdure': 5, 'imagination': 5, 'frigate': 5, 'junot': 5, 'terminated': 5, 'silent': 5, 'jumped': 5, 'none': 5, 'busy': 5, 'describe': 5, 'pursue': 5, 'east': 5, 'spectacle': 5, 'informed': 5, 'month': 5, 'whence': 5, 'subjects': 5, 'local': 5, 'private': 5, 'arrangement': 5, 'pay': 5, 'extreme': 5, 'belong': 5, 'picturesque': 5, 'exceed': 5, 'hold': 5, 'court': 5, 'heads': 5, 'cool': 5, 'curious': 5, 'patience': 5, 'ascent': 5, 'fixed': 5, 'angles': 5, 'society': 5, 'descended': 5, 'salt': 5, 'tower': 5, 'wide': 5, 'huge': 5, 'tidings': 5, 'superiority': 5, 'wretched': 5, 'burning': 5, 'arm': 5, 'dutiful': 5, 'fatal': 5, 'weak': 5, 'peaks': 5, 'neapolitan': 5, 'game': 5, 'distinguished': 5, 'shown': 5, 'crack': 5, 'infinite': 5, 'kitchen': 5, 'bore': 5, 'surface': 5, 'fiery': 5, 'environs': 5, 'enable': 5, 'cried': 5, 'graceful': 5, 'original': 5, 'praise': 5, 'displaying': 5, 'clothed': 5, 'equipage': 5, 'proud': 5, 'freely': 5, 'chiefly': 5, 'higher': 5, 'trusted': 5, 'honest': 5, 'prevailed': 5, 'acknowledge': 5, 'truly': 5, 'procured': 5, 'become': 5, 'palermo': 5, 'skill': 5, 'applied': 5, 'blood': 5, 'sailing': 5, 'magnificence': 5, 'sandy': 5, 'abrupt': 5, 'scenery': 5, 'palaces': 5, 'middle': 5, 'leaves': 5, 'vessel': 5, 'obliging': 5, 'defective': 5, 'minister': 5, 'skirts': 5, 'talked': 5, 'low': 5, 'shock': 5, 'hasty': 5, 'creature': 5, 'caused': 5, 'angry': 5, 'honourable': 5, 'zeal': 5, 'necessity': 5, 'pride': 5, 'domenico': 5, 'lighted': 5, 'ravine': 5, 'rises': 5, 'proposed': 5, 'taormina': 5, 'viewed': 5, 'enormous': 5, 'gate': 5, 'directed': 5, 'ascend': 5, 'cast': 5, 'returning': 5, 'fault': 5, 'promise': 5, 'catania': 5, 'replied': 5, 'engaged': 5, 'system': 5, 'circumstance': 5, 'cow': 5, 'dashing': 5, 'pretend': 5, 'powers': 5, 'difficulty': 5, 'slaughter': 5, 'wing': 5, 'rd': 5, 'collected': 5, 'intentions': 5, 'cannon': 5, 'announced': 5, 'bodies': 5, 'instant': 5, 'revenge': 5, 'assault': 5, 'rushed': 5, 'pas': 5, 'act': 5, 'totally': 5, 'severely': 5, 'gratifying': 5, 'eleven': 5, 'mile': 5, 'cloak': 5, 'ere': 5, 'preparing': 5, 'catanzaro': 5, 'monte': 5, 'leone': 5, 'disposed': 5, 'reduced': 5, 'peninsular': 5, 'isthmus': 5, 'defect': 5, 'musketry': 5, 'fancy': 5, 'mountainous': 5, 'straight': 5, 'pressed': 5, 'perceived': 5, 'beak': 5, 'contrary': 5, 'owing': 5, 'repose': 5, 'favourable': 5, 'ideas': 5, 'providing': 5, 'dirty': 5, 'talking': 5, 'beaten': 5, 'rear': 5, 'egypt': 5, 'according': 5, 'threatened': 5, 'mans': 5, 'lou': 5, 'message': 5, 'direct': 5, 'rage': 5, 'yarmouth': 5, 'modest': 5, 'belt': 5, 'dog': 5, 'begged': 5, 'merely': 5, 'richest': 5, 'r': 5, 'lordship': 5, 'plymouth': 5, 'jack': 5, 'tried': 5, 'refused': 5, 'barfleur': 5, 'henry': 5, 'pursuance': 5, 'são': 5, 'julião': 5, 'cintra': 5, 'cork': 5, 'fletcher': 5, 'honey': 5, 'started': 5, 'tent': 5, 'conducted': 5, 'dragoons': 5, 'excessively': 5, 'determine': 5, 'government': 5, 'chocolate': 5, 'marquis': 5, 'insult': 5, 'rey': 5, 'priest': 5, 'villages': 5, 'beasts': 5, 'don': 5, 'knocked': 5, 'beast': 5, 'enters': 5, 'carrion': 5, 'soult': 5, 'defend': 5, 'g': 5, 'verin': 5, 'cannonade': 5, 'display': 5, 'marked': 5, 'chevalier': 5, 'ha': 5, 'lieutgen': 5, 'gazette': 5, 'printed': 5, 'protected': 5, 'medium': 5, 'replacement': 5, 'volunteers': 5, 'enclosed': 4, 'penandink': 4, 'sketches': 4, 'charming': 4, 'm': 4, 'authors': 4, 'rights': 4, 'afford': 4, 'inquire': 4, 'fifteen': 4, 'serious': 4, 'style': 4, 'hundreds': 4, 'pope': 4, 'oppose': 4, 'worthy': 4, 'suffering': 4, 'faults': 4, 'sufferings': 4, 'cloud': 4, 'christian': 4, 'summer': 4, 'fruit': 4, 'farewell': 4, 'isle': 4, 'sproe': 4, 'reconnaissance': 4, 'appendix': 4, 'viscount': 4, 'facsimile': 4, 'monster': 4, 'yard': 4, 'deaf': 4, 'injury': 4, 'seldom': 4, 'sustained': 4, 'furnished': 4, 'chosen': 4, 'age': 4, 'hearts': 4, 'earnest': 4, 'activity': 4, 'preparation': 4, 'encounter': 4, 'draw': 4, 'hung': 4, 'hurried': 4, 'pointed': 4, 'haste': 4, 'venerable': 4, 'forget': 4, 'articles': 4, 'desirable': 4, 'clothes': 4, 'perpetual': 4, 'doing': 4, 'companion': 4, 'farther': 4, 'coach': 4, 'wheels': 4, 'feathers': 4, 'thanks': 4, 'amusement': 4, 'lewis': 4, 'junior': 4, 'task': 4, 'occur': 4, 'sheep': 4, 'ducks': 4, 'variety': 4, 'spend': 4, 'proper': 4, 'dragon': 4, 'chops': 4, 'channel': 4, 'ends': 4, 'gale': 4, 'entire': 4, 'violence': 4, 'lights': 4, 'cape': 4, 'usual': 4, 'commission': 4, 'winds': 4, 'quit': 4, 'strict': 4, 'express': 4, 'amused': 4, 'distinguish': 4, 'adieu': 4, 'moments': 4, 'meantime': 4, 'thirst': 4, 'trouble': 4, 'lying': 4, 'outline': 4, 'swift': 4, 'wings': 4, 'scarcely': 4, 'darkness': 4, 'ended': 4, 'horizon': 4, 'algeciras': 4, 'assembled': 4, 'african': 4, 'exhibited': 4, 'produce': 4, 'straits': 4, 'contemplate': 4, 'viz': 4, 'inexpressible': 4, 'alongside': 4, 'glance': 4, 'thoroughly': 4, 'spare': 4, 'library': 4, 'trifling': 4, 'gentlemanlike': 4, 'worse': 4, 'dispersed': 4, 'alarm': 4, 'splendour': 4, 'gozo': 4, 'living': 4, 'fame': 4, 'driven': 4, 'stretching': 4, 'security': 4, 'altogether': 4, 'clean': 4, 'masses': 4, 'gentlemen': 4, 'stairs': 4, 'previously': 4, 'daily': 4, 'heat': 4, 'remains': 4, 'space': 4, 'resources': 4, 'mounting': 4, 'ass': 4, 'o': 4, 'famous': 4, 'europe': 4, 'gratified': 4, 'virgil': 4, 'innumerable': 4, 'excursion': 4, 'content': 4, 'continent': 4, 'seized': 4, 'smooth': 4, 'buy': 4, 'foreigners': 4, 'gentle': 4, 'mark': 4, 'extremity': 4, 'excited': 4, 'adventures': 4, 'ladies': 4, 'rudely': 4, 'despatched': 4, 'described': 4, 'incredible': 4, 'recent': 4, 'question': 4, 'asks': 4, 'crowd': 4, 'belief': 4, 'corn': 4, 'modern': 4, 'stones': 4, 'grave': 4, 'visible': 4, 'gulf': 4, 'crater': 4, 'allies': 4, 'assume': 4, 'upper': 4, 'overwhelming': 4, 'castelàmare': 4, 'horseback': 4, 'presently': 4, 'descending': 4, 'ferdinand': 4, 'leading': 4, 'navy': 4, 'imposing': 4, 'richly': 4, 'drawn': 4, 'duties': 4, 'napolitanno': 4, 'presence': 4, 'delay': 4, 'loose': 4, 'painful': 4, 'consequently': 4, 'wounds': 4, 'interrupted': 4, 'erected': 4, 'passing': 4, 'real': 4, 'dense': 4, 'firm': 4, 'finished': 4, 'level': 4, 'enjoy': 4, 'defences': 4, 'sicilians': 4, 'windows': 4, 'goodnatured': 4, 'quarter': 4, 'shouts': 4, 'celebrated': 4, 'intention': 4, 'cries': 4, 'especially': 4, 'wherever': 4, 'surrounded': 4, 'lives': 4, 'child': 4, 'quality': 4, 'exertions': 4, 'donkey': 4, 'preceding': 4, 'pursued': 4, 'cleared': 4, 'impassable': 4, 'partly': 4, 'indifference': 4, 'smallest': 4, 'mentioned': 4, 'food': 4, 'art': 4, 'finely': 4, 'peasant': 4, 'approaches': 4, 'ferry': 4, 'waited': 4, 'soft': 4, 'lament': 4, 'lived': 4, 'tall': 4, 'milk': 4, 'tea': 4, 'imagine': 4, 'appetite': 4, 'provisions': 4, 'lands': 4, 'steps': 4, 'week': 4, 'due': 4, 'maintained': 4, 'gaeta': 4, 'assist': 4, 'copied': 4, 'acre': 4, 'simple': 4, 'defiance': 4, 'drew': 4, 'entrusted': 4, 'sense': 4, 'big': 4, 'frost': 4, 'entrenchment': 4, 'render': 4, 'expressed': 4, 'justice': 4, 'decided': 4, 'defeat': 4, 'agony': 4, 'sailors': 4, 'distinction': 4, 'gold': 4, 'closed': 4, 'bayonet': 4, 'preserve': 4, 'venture': 4, 'lineofbattle': 4, 'à': 4, 'fled': 4, 'precipitation': 4, 'reputation': 4, 'convenience': 4, 'delivered': 4, 'pocket': 4, 'season': 4, 'formidable': 4, 'wheat': 4, 'bearded': 4, 'sooner': 4, 'blew': 4, 'swords': 4, 'treated': 4, 'breach': 4, 'dangerous': 4, 'peak': 4, 'beating': 4, 'suffered': 4, 'annoyance': 4, 'turtle': 4, 'managed': 4, 'viva': 4, 'pounders': 4, 'explained': 4, 'intervals': 4, 'reminded': 4, 'alas': 4, 'fool': 4, 'fox': 4, 'possibly': 4, 'beg': 4, 'pray': 4, 'possessed': 4, 'throughout': 4, 'thinks': 4, 'save': 4, 'bentinck': 4, 'assure': 4, 'directly': 4, 'merits': 4, 'horrid': 4, 'enjoyed': 4, 'rate': 4, 'wise': 4, 'considering': 4, 'anecdotes': 4, 'lass': 4, 'reading': 4, 'allow': 4, 'sufficiently': 4, 'blenheim': 4, 'baltic': 4, 'entitled': 4, 'ball': 4, 'ah': 4, 'foster': 4, 'proof': 4, 'stockholm': 4, 'stated': 4, 'captains': 4, 'edge': 4, 'dollars': 4, 'warm': 4, 'bag': 4, 'civility': 4, 'duke': 4, 'favourite': 4, 'keeping': 4, 'toss': 4, 'chance': 4, 'leg': 4, 'induce': 4, 'ahead': 4, 'mondego': 4, 'favour': 4, 'cascaes': 4, 'dalrymple': 4, 'induced': 4, 'stop': 4, 'mulcaster': 4, 'coffee': 4, 'posts': 4, 'sceptic': 4, 'touch': 4, 'safe': 4, 'lodged': 4, 'brigadiergeneral': 4, 'mule': 4, 'lucia': 4, 'foolish': 4, 'passport': 4, 'zarza': 4, 'via': 4, 'corregidors': 4, 'converse': 4, 'zagala': 4, 'journeys': 4, 'tilford': 4, 'accepted': 4, 'shortest': 4, 'perales': 4, 'error': 4, 'larger': 4, 'billets': 4, 'sentence': 4, 'pitiegua': 4, 'curé': 4, 'promised': 4, 'imperial': 4, 'courier': 4, 'douro': 4, 'clearly': 4, 'marshal': 4, 'lutgins': 4, 'exchange': 4, 'sanabria': 4, 'corresponding': 4, 'confirmed': 4, 'minho': 4, 'deprived': 4, 'beneficial': 4, 'determination': 4, 'oporto': 4, 'story': 4, 'juez': 4, 'official': 4, 'majestys': 4, 'equipment': 4, 'additional': 4, 'paragraphs': 4, 'editions': 4, 'creating': 4, 'copying': 4, 'collection': 4, 'format': 4, 'status': 4, 'holder': 4, 'fees': 4, 'requirements': 4, 'website': 4, 'owner': 4, 'damages': 4, 'memoirs': 3, 'available': 3, 'signs': 3, 'vo': 3, 'frontispiece': 3, 'chronicle': 3, 'soho': 3, 'et': 3, 'introduction': 3, 'retrace': 3, 'material': 3, 'profession': 3, 'excuse': 3, 'consequences': 3, 'thou': 3, 'reflection': 3, 'deliberate': 3, 'secret': 3, 'throwing': 3, 'aside': 3, 'childish': 3, 'depression': 3, 'conscious': 3, 'enabled': 3, 'conflict': 3, 'speaking': 3, 'promises': 3, 'sickness': 3, 'remove': 3, 'learning': 3, 'signature': 3, 'vivid': 3, 'italy': 3, 'craigs': 3, 'survey': 3, 'rejoin': 3, 'joshua': 3, 'reynolds': 3, 'francisco': 3, 'paolo': 3, 'branch': 3, 'discipline': 3, 'hence': 3, 'shared': 3, 'spared': 3, 'eighteen': 3, 'flower': 3, 'request': 3, 'whither': 3, 'tenderness': 3, 'unhappy': 3, 'consent': 3, 'finest': 3, 'raw': 3, 'manly': 3, 'relief': 3, 'tears': 3, 'interval': 3, 'consciousness': 3, 'procure': 3, 'luxury': 3, 'reaching': 3, 'foggy': 3, 'mist': 3, 'wheel': 3, 'compact': 3, 'inside': 3, 'folks': 3, 'putting': 3, 'complained': 3, 'supper': 3, 'cheery': 3, 'farthest': 3, 'laying': 3, 'kindly': 3, 'stations': 3, 'accommodation': 3, 'addressed': 3, 'stock': 3, 'meat': 3, 'provender': 3, 'lard': 3, 'lively': 3, 'live': 3, 'doors': 3, 'incessantly': 3, 'succession': 3, 'accidents': 3, 'tended': 3, 'wear': 3, 'instance': 3, 'supply': 3, 'rough': 3, 'confusion': 3, 'astern': 3, 'finisterre': 3, 'employment': 3, 'murky': 3, 'constant': 3, 'tuesday': 3, 'novel': 3, 'prison': 3, 'frequently': 3, 'views': 3, 'brightness': 3, 'dazzling': 3, 'agent': 3, 'blessings': 3, 'groves': 3, 'plenty': 3, 'zest': 3, 'combined': 3, 'precaution': 3, 'bought': 3, 'triumph': 3, 'pursuing': 3, 'drawing': 3, 'breath': 3, 'desperate': 3, 'cannonading': 3, 'fortified': 3, 'thunder': 3, 'shut': 3, 'enemies': 3, 'exact': 3, 'caution': 3, 'archer': 3, 'strengthened': 3, 'involved': 3, 'confinement': 3, 'admirable': 3, 'stillness': 3, 'preparations': 3, 'obliges': 3, 'western': 3, 'delicious': 3, 'viewing': 3, 'observe': 3, 'memorable': 3, 'leisure': 3, 'spoken': 3, 'wonders': 3, 'shell': 3, 'fortifications': 3, 'fit': 3, 'growing': 3, 'painting': 3, 'nations': 3, 'lot': 3, 'descend': 3, 'breadth': 3, 'remember': 3, 'mixed': 3, 'begins': 3, 'furnish': 3, 'qualities': 3, 'edward': 3, 'fungus': 3, 'admire': 3, 'terrific': 3, 'sapphire': 3, 'bath': 3, 'sink': 3, 'solid': 3, 'describes': 3, 'leads': 3, 'humble': 3, 'brings': 3, 'accents': 3, 'cheering': 3, 'solitary': 3, 'grateful': 3, 'edwinstowe': 3, 'beside': 3, 'constitution': 3, 'struggle': 3, 'atmosphere': 3, 'resumed': 3, 'steady': 3, 'telescope': 3, 'hints': 3, 'vesuvius': 3, 'upwards': 3, 'wooded': 3, 'extravagance': 3, 'acceptable': 3, 'distinctly': 3, 'witness': 3, 'probability': 3, 'telegraph': 3, 'dimensions': 3, 'barracks': 3, 'antiquity': 3, 'pictures': 3, 'ruts': 3, 'loaf': 3, 'condition': 3, 'characters': 3, 'tools': 3, 'ruin': 3, 'building': 3, 'boots': 3, 'anglorussian': 3, 'progress': 3, 'cocked': 3, 'hair': 3, 'tied': 3, 'broke': 3, 'reviewing': 3, 'wave': 3, 'plates': 3, 'collision': 3, 'frequent': 3, 'beware': 3, 'smiles': 3, 'defensive': 3, 'acquired': 3, 'animation': 3, 'zealous': 3, 'practice': 3, 'communicate': 3, 'sailed': 3, 'sexes': 3, 'heels': 3, 'armed': 3, 'disfigured': 3, 'blaze': 3, 'sand': 3, 'faro': 3, 'somewhat': 3, 'aspect': 3, 'azure': 3, 'bosom': 3, 'harm': 3, 'substance': 3, 'showing': 3, 'footing': 3, 'luxuriant': 3, 'basin': 3, 'sickle': 3, 'defended': 3, 'sheltered': 3, 'anchored': 3, 'convents': 3, 'represented': 3, 'consists': 3, 'whereon': 3, 'monks': 3, 'apprehension': 3, 'judicious': 3, 'principle': 3, 'forts': 3, 'overlooking': 3, 'lovely': 3, 'reception': 3, 'fatigued': 3, 'borne': 3, 'balcony': 3, 'backwards': 3, 'begging': 3, 'bowed': 3, 'unexpected': 3, 'triumphal': 3, 'temple': 3, 'amid': 3, 'joining': 3, 'sally': 3, 'shake': 3, 'ceiling': 3, 'distress': 3, 'sex': 3, 'downstairs': 3, 'shelter': 3, 'urged': 3, 'dismay': 3, 'fat': 3, 'relation': 3, 'energetic': 3, 'prostrate': 3, 'frantic': 3, 'uplifted': 3, 'cry': 3, 'happily': 3, 'frightened': 3, 'knowing': 3, 'dreadful': 3, 'shaking': 3, 'published': 3, 'accordance': 3, 'directing': 3, 'victories': 3, 'respected': 3, 'sleek': 3, 'infinitely': 3, 'repeat': 3, 'sanguine': 3, 'seaside': 3, 'jaws': 3, 'ascends': 3, 'properly': 3, 'halting': 3, 'seated': 3, 'stopped': 3, 'capuchins': 3, 'pain': 3, 'oppressed': 3, 'bleak': 3, 'briefly': 3, 'rules': 3, 'refreshment': 3, 'tone': 3, 'cicerone': 3, 'weary': 3, 'forcibly': 3, 'proceeded': 3, 'leisurely': 3, 'ridiculous': 3, 'lasted': 3, 'compelled': 3, 'bow': 3, 'attributed': 3, 'stables': 3, 'admitted': 3, 'thank': 3, 'couch': 3, 'slowly': 3, 'load': 3, 'traversing': 3, 'consist': 3, 'vegetation': 3, 'structure': 3, 'compensation': 3, 'ascended': 3, 'sloping': 3, 'becomes': 3, 'rendezvous': 3, 'seas': 3, 'experienced': 3, 'necessarily': 3, 'objection': 3, 'liked': 3, 'tracked': 3, 'carriages': 3, 'vale': 3, 'stands': 3, 'mask': 3, 'articulate': 3, 'wondered': 3, 'absolutely': 3, 'raised': 3, 'plate': 3, 'incessant': 3, 'energy': 3, 'judgment': 3, 'intelligent': 3, 'slight': 3, 'fare': 3, 'yellow': 3, 'national': 3, 'ugly': 3, 'afloat': 3, 'created': 3, 'naval': 3, 'hero': 3, 'inferences': 3, 'resistance': 3, 'viceroy': 3, 'suitable': 3, 'fail': 3, 'guess': 3, 'pursuit': 3, 'operation': 3, 'effected': 3, 'brushwood': 3, 'retiring': 3, 'landing': 3, 'prudent': 3, 'disasters': 3, 'blows': 3, 'opposing': 3, 'praised': 3, 'directions': 3, 'compassion': 3, 'generous': 3, 'warriors': 3, 'flight': 3, 'bitterness': 3, 'ventured': 3, 'affections': 3, 'taught': 3, 'sister': 3, 'unable': 3, 'subsequent': 3, 'inconvenience': 3, 'flanks': 3, 'crossing': 3, 'advancing': 3, 'volleyed': 3, 'critical': 3, 'compared': 3, 'surely': 3, 'theirs': 3, 'brush': 3, 'worst': 3, 'dashed': 3, 'province': 3, 'victorious': 3, 'safety': 3, 'quartermastergeneral': 3, 'professional': 3, 'inconsiderable': 3, 'contempt': 3, 'meaning': 3, 'bounded': 3, 'shoved': 3, 'inaccessible': 3, 'admirably': 3, 'indispensable': 3, 'yards': 3, 'gradually': 3, 'occupy': 3, 'nearer': 3, 'elevated': 3, 'occasionally': 3, 'plunging': 3, 'examining': 3, 'cross': 3, 'honoured': 3, 'shirt': 3, 'rowing': 3, 'portion': 3, 'hitherto': 3, 'months': 3, 'settle': 3, 'address': 3, 'hms': 3, 'imprisonment': 3, 'positive': 3, 'unfortunate': 3, 'emperor': 3, 'receiving': 3, 'striking': 3, 'jolly': 3, 'savage': 3, 'afraid': 3, 'later': 3, 'adriatic': 3, 'manners': 3, 'hint': 3, 'unmolested': 3, 'wishing': 3, 'acknowledged': 3, 'robbed': 3, 'elsewhere': 3, 'firstrate': 3, 'dated': 3, 'reinforce': 3, 'alexandria': 3, 'herself': 3, 'precarious': 3, 'yield': 3, 'kindest': 3, 'offers': 3, 'thence': 3, 'fever': 3, 'irksome': 3, 'arranged': 3, 'divisions': 3, 'merry': 3, 'esteemed': 3, 'gould': 3, 'bustle': 3, 'residence': 3, 'history': 3, 'list': 3, 'fill': 3, 'louisai': 3, 'persuaded': 3, 'increasing': 3, 'oer': 3, 'tedious': 3, 'tossing': 3, 'homer': 3, 'promising': 3, 'flattering': 3, 'quick': 3, 'prospects': 3, 'friday': 3, 'aboard': 3, 'starboard': 3, 'mistake': 3, 'jutland': 3, 'wednesday': 3, 'quay': 3, 'swedish': 3, 'englishmen': 3, 'prettiest': 3, 'trollhättan': 3, 'precipice': 3, 'park': 3, 'caught': 3, 'prohibition': 3, 'saturday': 3, 'barrack': 3, 'pack': 3, 'apply': 3, 'begs': 3, 'cruel': 3, 'youngsters': 3, 'finish': 3, 'cutter': 3, 'bury': 3, 'refuse': 3, 'drink': 3, 'actively': 3, 'ystad': 3, 'passports': 3, 'grounds': 3, 'dusk': 3, 'rascal': 3, 'robe': 3, 'orion': 3, 'deliver': 3, 'invites': 3, 'dirt': 3, 'reclaim': 3, 'window': 3, 'catch': 3, 'edges': 3, 'gently': 3, 'knots': 3, 'douglas': 3, 'merit': 3, 'stored': 3, 'accounts': 3, 'dry': 3, 'pulling': 3, 'impatience': 3, 'filth': 3, 'pulled': 3, 'amazingly': 3, 'exhausted': 3, 'truce': 3, 'convinced': 3, 'ociras': 3, 'calls': 3, 'williams': 3, 'uninteresting': 3, 'excellently': 3, 'nuns': 3, 'sweetmeats': 3, 'walled': 3, 'citadel': 3, 'lippe': 3, 'step': 3, 'bon': 3, 'junta': 3, 'lodge': 3, 'explain': 3, 'minds': 3, 'permit': 3, 'settled': 3, 'laughter': 3, 'confidence': 3, 'perceive': 3, 'galazo': 3, 'thither': 3, 'novellard': 3, 'twentyfour': 3, 'approbation': 3, 'spaniard': 3, 'plans': 3, 'nation': 3, 'alike': 3, 'consisting': 3, 'gestures': 3, 'castanos': 3, 'mob': 3, 'murdered': 3, 'fingers': 3, 'hunt': 3, 'continue': 3, 'maps': 3, 'dancing': 3, 'playing': 3, 'biscuit': 3, 'aye': 3, 'lentiseves': 3, 'roar': 3, 'sixteen': 3, 'osamar': 3, 'squires': 3, 'single': 3, 'addition': 3, 'amount': 3, 'complaint': 3, 'stupid': 3, 'servants': 3, 'stream': 3, 'finelooking': 3, 'upstairs': 3, 'map': 3, 'doubtful': 3, 'shoulder': 3, 'alcaldes': 3, 'devils': 3, 'storm': 3, 'furious': 3, 'almeida': 3, 'commencement': 3, 'invaluable': 3, 'diligence': 3, 'relations': 3, 'pony': 3, 'pagets': 3, 'penaparda': 3, 'pedroso': 3, 'tarazona': 3, 'dragoon': 3, 'advise': 3, 'alton': 3, 'outposts': 3, 'tis': 3, 'reported': 3, 'duero': 3, 'saldana': 3, 'leon': 3, 'junction': 3, 'valour': 3, 'instances': 3, 'astorga': 3, 'guides': 3, 'castracontrigo': 3, 'endeavour': 3, 'puebla': 3, 'marching': 3, 'peacock': 3, 'sheet': 3, 'snatched': 3, 'jan': 3, 'obstinate': 3, 'galicia': 3, 'hood': 3, 'engaging': 3, 'defects': 3, 'explanation': 3, 'sharpshooting': 3, 'dreaded': 3, 'galloped': 3, 'whizzing': 3, 'group': 3, 'capture': 3, 'lesson': 3, 'deceived': 3, 'burst': 3, 'sorry': 3, 'affection': 3, 'louisa': 3, 'reviled': 3, 'disgust': 3, 'rumoured': 3, 'cheered': 3, 'shape': 3, 'precious': 3, 'clumsy': 3, 'splash': 3, 'card': 3, 'mortimer': 3, 'notpat': 3, 'packman': 3, 'similar': 3, 'respective': 3, 'goldfinch': 3, 'pages': 3, 'writingcase': 3, 'franca': 3, 'battalion': 3, 'lamego': 3, 'vastly': 3, 'sincerely': 3, 'harassing': 3, 'reggio': 3, 'rifle': 3, 'piquets': 3, 'obtaining': 3, 'wolfe': 3, 'references': 3, 'paying': 3, 'royalties': 3, 'complying': 3, 'derivative': 3, 'entity': 3, 'performing': 3, 'links': 3, 'user': 3, 'royalty': 3, 'applicable': 3, 'donate': 3, 'payments': 3, 'email': 3, 'disclaimer': 3, 'liability': 3, 'warranties': 3, 'limitation': 3, 'foundations': 3, 'anywhere': 2, 'restrictions': 2, 'whatsoever': 2, 'reuse': 2, 'title': 2, 'compiled': 2, 'survivors': 2, 'elizabeth': 2, 'team': 2, 'file': 2, 'transcribers': 2, 'text': 2, 'equals': 2, 'cordially': 2, 'autobiographydaily': 2, 'manual': 2, 'soldierly': 2, 'humanityvanity': 2, 'agents': 2, 'america': 2, 'avenue': 2, 'york': 2, 'born': 2, 'reserved': 2, 'quo': 2, 'class': 2, 'arduous': 2, 'reader': 2, 'consideration': 2, 'motive': 2, 'mention': 2, 'startled': 2, 'interested': 2, 'attracted': 2, 'conclusion': 2, 'becoming': 2, 'pressing': 2, 'lightly': 2, 'wars': 2, 'elements': 2, 'source': 2, 'nurse': 2, 'disquiet': 2, 'silently': 2, 'internal': 2, 'uneasiness': 2, 'apprehended': 2, 'melted': 2, 'seed': 2, 'incorporated': 2, 'members': 2, 'print': 2, 'drinkwaters': 2, 'ltgen': 2, 'rafela': 2, 'hoppner': 2, 'legend': 2, 'illustrating': 2, 'tomb': 2, 'requires': 2, 'peculiar': 2, 'respects': 2, 'dangers': 2, 'education': 2, 'disguise': 2, 'seventeen': 2, 'assumed': 2, 'contained': 2, 'peril': 2, 'station': 2, 'plunged': 2, 'agitation': 2, 'stirring': 2, 'dread': 2, 'accustomed': 2, 'unbounded': 2, 'separation': 2, 'incomparable': 2, 'genius': 2, 'serving': 2, 'vanity': 2, 'clever': 2, 'ascertain': 2, 'anticipated': 2, 'shaken': 2, 'hastened': 2, 'sofa': 2, 'chair': 2, 'acts': 2, 'value': 2, 'compass': 2, 'tardy': 2, 'buoyant': 2, 'overturned': 2, 'scratch': 2, 'lamps': 2, 'fracture': 2, 'novelty': 2, 'ease': 2, 'spied': 2, 'whirling': 2, 'velocity': 2, 'senses': 2, 'males': 2, 'asleep': 2, 'preserved': 2, 'inmates': 2, 'mighty': 2, 'neighbour': 2, 'recollect': 2, 'terribly': 2, 'hurt': 2, 'passengers': 2, 'lodging': 2, 'bravest': 2, 'everywhere': 2, 'inexperience': 2, 'fowls': 2, 'grain': 2, 'potatoes': 2, 'cheese': 2, 'porter': 2, 'embarking': 2, 'inanimate': 2, 'portions': 2, 'fun': 2, 'scarlet': 2, 'popping': 2, 'prodigal': 2, 'notes': 2, 'scilly': 2, 'biscay': 2, 'starlight': 2, 'noises': 2, 'ortegal': 2, 'cheerful': 2, 'pen': 2, 'add': 2, 'toulon': 2, 'orde': 2, 'bomb': 2, 'preceded': 2, 'shoal': 2, 'midday': 2, 'smart': 2, 'fishing': 2, 'element': 2, 'distinct': 2, 'seamanlike': 2, 'ordnance': 2, 'surround': 2, 'issued': 2, 'orange': 2, 'oranges': 2, 'freshness': 2, 'alert': 2, 'repel': 2, 'gut': 2, 'nelsons': 2, 'imagined': 2, 'blockading': 2, 'farfamed': 2, 'fleets': 2, 'sublimity': 2, 'unspeakable': 2, 'inviting': 2, 'speed': 2, 'push': 2, 'transparent': 2, 'relieve': 2, 'composed': 2, 'cursing': 2, 'saluting': 2, 'sights': 2, 'transfixed': 2, 'peopled': 2, 'ridge': 2, 'hang': 2, 'attractive': 2, 'personality': 2, 'rears': 2, 'sweep': 2, 'subjection': 2, 'circuit': 2, 'supreme': 2, 'ceases': 2, 'depot': 2, 'furnishes': 2, 'merchant': 2, 'impregnable': 2, 'contests': 2, 'fortresses': 2, 'gun': 2, 'constantly': 2, 'inhabitant': 2, 'honours': 2, 'subsequently': 2, 'practised': 2, 'resident': 2, 'detained': 2, 'balls': 2, 'share': 2, 'enviably': 2, 'disappointed': 2, 'ulterior': 2, 'hoping': 2, 'shipboard': 2, 'tracts': 2, 'rival': 2, 'cruise': 2, 'meditated': 2, 'suns': 2, 'becalmed': 2, 'mode': 2, 'notion': 2, 'sails': 2, 'unadorned': 2, 'wearing': 2, 'impatient': 2, 'satisfy': 2, 'divers': 2, 'costumes': 2, 'image': 2, 'uncovered': 2, 'silk': 2, 'touched': 2, 'undeniably': 2, 'abroad': 2, 'realise': 2, 'trial': 2, 'width': 2, 'merchandise': 2, 'despite': 2, 'nightly': 2, 'reflected': 2, 'decline': 2, 'fierce': 2, 'dart': 2, 'commanders': 2, 'stationed': 2, 'excursions': 2, 'baked': 2, 'exploring': 2, 'curiosities': 2, 'produces': 2, 'eminence': 2, 'unfathomable': 2, 'plunge': 2, 'sporting': 2, 'thrilling': 2, 'secessu': 2, 'longo': 2, 'locus': 2, 'hinc': 2, 'aequora': 2, 'tuta': 2, 'repair': 2, 'obstruction': 2, 'successively': 2, 'stately': 2, 'trim': 2, 'guided': 2, 'wellknown': 2, 'endearing': 2, 'partake': 2, 'pouring': 2, 'parents': 2, 'coincidence': 2, 'stretch': 2, 'meads': 2, 'pastures': 2, 'streams': 2, 'sullen': 2, 'stir': 2, 'bubbling': 2, 'urn': 2, 'steaming': 2, 'tend': 2, 'detain': 2, 'disease': 2, 'moderated': 2, 'classic': 2, 'degrees': 2, 'watched': 2, 'strained': 2, 'wearied': 2, 'beauteous': 2, 'surrounding': 2, 'brink': 2, 'cooped': 2, 'discussing': 2, 'gesture': 2, 'reasoning': 2, 'closely': 2, 'buttons': 2, 'shakes': 2, 'bottle': 2, 'repaired': 2, 'chiefs': 2, 'vineclad': 2, 'precipitous': 2, 'scarped': 2, 'proceeding': 2, 'bowels': 2, 'squares': 2, 'gray': 2, 'borders': 2, 'appropriate': 2, 'names': 2, 'ages': 2, 'inestimable': 2, 'knocking': 2, 'explore': 2, 'anticipation': 2, 'reality': 2, 'imposed': 2, 'museum': 2, 'portici': 2, 'imposture': 2, 'involuntarily': 2, 'pains': 2, 'commonest': 2, 'egg': 2, 'ashes': 2, 'confess': 2, 'wrought': 2, 'pompeii': 2, 'renewed': 2, 'artificial': 2, 'torrent': 2, 'shells': 2, 'expelled': 2, 'partaking': 2, 'religious': 2, 'plumb': 2, 'infernal': 2, 'pair': 2, 'crossed': 2, 'russians': 2, 'naturally': 2, 'austria': 2, 'russia': 2, 'austerlitz': 2, 'leopold': 2, 'queue': 2, 'avançons': 2, 'mon': 2, 'général': 2, 'addressing': 2, 'des': 2, 'dignes': 2, 'anglais': 2, 'parent': 2, 'lifted': 2, 'majestic': 2, 'wintry': 2, 'brass': 2, 'coleridge': 2, 'representing': 2, 'gilded': 2, 'visiting': 2, 'employees': 2, 'inquired': 2, 'perform': 2, 'younger': 2, 'poet': 2, 'nods': 2, 'pranks': 2, 'wanton': 2, 'princesses': 2, 'effeminate': 2, 'wondrous': 2, 'celestial': 2, 'ought': 2, 'redoubled': 2, 'spirited': 2, 'rejoined': 2, 'legions': 2, 'transfer': 2, 'avail': 2, 'purchased': 2, 'animals': 2, 'limbs': 2, 'flash': 2, 'lipari': 2, 'narrowing': 2, 'apparent': 2, 'border': 2, 'washed': 2, 'slope': 2, 'terminating': 2, 'charybdis': 2, 'surveying': 2, 'architecture': 2, 'concealed': 2, 'tier': 2, 'flowers': 2, 'glistening': 2, 'outward': 2, 'blade': 2, 'mast': 2, 'accommodations': 2, 'calabrian': 2, 'improving': 2, 'extending': 2, 'eddies': 2, 'charms': 2, 'commodious': 2, 'messinese': 2, 'melazzo': 2, 'advice': 2, 'loyal': 2, 'bareheaded': 2, 'faces': 2, 'exhibition': 2, 'passion': 2, 'salutations': 2, 'thronged': 2, 'concourse': 2, 'kisses': 2, 'misrule': 2, 'plainly': 2, 'evil': 2, 'deeply': 2, 'fronted': 2, 'shouting': 2, 'discharged': 2, 'animated': 2, 'volcano': 2, 'whirlpools': 2, 'stars': 2, 'kings': 2, 'costly': 2, 'climate': 2, 'expeditious': 2, 'earliest': 2, 'floor': 2, 'bits': 2, 'earthquake': 2, 'sprung': 2, 'signor': 2, 'grin': 2, 'baronessa': 2, 'voices': 2, 'importunity': 2, 'groan': 2, 'madre': 2, 'injured': 2, 'undissembled': 2, 'resign': 2, 'owed': 2, 'impaired': 2, 'painfully': 2, 'obvious': 2, 'ghastly': 2, 'rider': 2, 'rebel': 2, 'curse': 2, 'execrations': 2, 'brute': 2, 'invariably': 2, 'barely': 2, 'torrents': 2, 'opening': 2, 'observance': 2, 'constructed': 2, 'hut': 2, 'spiritless': 2, 'assented': 2, 'slow': 2, 'scowl': 2, 'indicating': 2, 'cell': 2, 'bind': 2, 'refectory': 2, 'ails': 2, 'tonight': 2, 'aid': 2, 'voluble': 2, 'placing': 2, 'remotest': 2, 'self': 2, 'lonely': 2, 'telling': 2, 'goodness': 2, 'assisted': 2, 'eloquent': 2, 'intensely': 2, 'gay': 2, 'gardens': 2, 'ensure': 2, 'brightest': 2, 'jaci': 2, 'waste': 2, 'traversed': 2, 'durable': 2, 'spires': 2, 'track': 2, 'civilised': 2, 'awful': 2, 'accept': 2, 'lion': 2, 'throws': 2, 'mantle': 2, 'pasture': 2, 'giarreta': 2, 'construct': 2, 'au': 2, 'indebted': 2, 'occupies': 2, 'anchorage': 2, 'augustines': 2, 'prior': 2, 'entertained': 2, 'credentials': 2, 'polite': 2, 'conversazione': 2, 'ascending': 2, 'bounds': 2, 'finds': 2, 'executed': 2, 'cathedral': 2, 'minerva': 2, 'box': 2, 'princes': 2, 'reply': 2, 'distressing': 2, 'represent': 2, 'stuff': 2, 'answers': 2, 'bravo': 2, 'exceeded': 2, 'chin': 2, 'mirth': 2, 'accomplished': 2, 'supplies': 2, 'acuteness': 2, 'application': 2, 'powerful': 2, 'population': 2, 'thread': 2, 'acted': 2, 'smoked': 2, 'ham': 2, 'household': 2, 'keen': 2, 'wholesome': 2, 'acquisition': 2, 'modesty': 2, 'approved': 2, 'hesse': 2, 'science': 2, 'comments': 2, 'summoned': 2, 'sincere': 2, 'capability': 2, 'calabrese': 2, 'desires': 2, 'invested': 2, 'territory': 2, 'excite': 2, 'strongest': 2, 'advocate': 2, 'jealousy': 2, 'appointment': 2, 'easily': 2, 'responsibility': 2, 'suspense': 2, 'adc': 2, 'barouche': 2, 'gaily': 2, 'rapidly': 2, 'attending': 2, 'uncertain': 2, 'vigour': 2, 'moves': 2, 'expecting': 2, 'wistfully': 2, 'toward': 2, 'bearing': 2, 'consisted': 2, 'sharpshooters': 2, 'scattered': 2, 'sport': 2, 'nicastro': 2, 'throw': 2, 'commence': 2, 'reinforcement': 2, 'eternal': 2, 'inundation': 2, 'rivulet': 2, 'fairness': 2, 'treats': 2, 'duly': 2, 'fischer': 2, 'columns': 2, 'recognise': 2, 'volleys': 2, 'sounds': 2, 'riding': 2, 'flew': 2, 'theso': 2, 'entrenchments': 2, 'dearly': 2, 'prompt': 2, 'victors': 2, 'humanity': 2, 'smoking': 2, 'bathed': 2, 'attitude': 2, 'chase': 2, 'lips': 2, 'impressed': 2, 'anger': 2, 'amato': 2, 'slaughtered': 2, 'headlong': 2, 'scenes': 2, 'softer': 2, 'bitterly': 2, 'expressions': 2, 'sake': 2, 'adèle': 2, 'daughter': 2, 'dreadfully': 2, 'inquiry': 2, 'trend': 2, 'frigates': 2, 'influence': 2, 'kempt': 2, 'ne': 2, 'tirez': 2, 'bayonnette': 2, 'horrible': 2, 'unprotected': 2, 'skilfully': 2, 'estimated': 2, 'total': 2, 'amounts': 2, 'shattered': 2, 'ranks': 2, 'menacing': 2, 'ma': 2, 'bivouacked': 2, 'fields': 2, 'proportion': 2, 'kettle': 2, 'blanket': 2, 'spurs': 2, 'spring': 2, 'scrape': 2, 'unhandy': 2, 'excellency': 2, 'pantaloons': 2, 'web': 2, 'insects': 2, 'awkward': 2, 'thumb': 2, 'cleft': 2, 'roofs': 2, 'retreated': 2, 'attempting': 2, 'lower': 2, 'garrisons': 2, 'adversary': 2, 'unassisted': 2, 'indication': 2, 'gallantry': 2, 'depend': 2, 'conquest': 2, 'counsels': 2, 'vigorous': 2, 'decision': 2, 'ports': 2, 'garrisoned': 2, 'devious': 2, 'fired': 2, 'multiplied': 2, 'echoes': 2, 'marine': 2, 'measures': 2, 'fortification': 2, 'glacis': 2, 'mound': 2, 'covers': 2, 'severed': 2, 'gradual': 2, 'gods': 2, 'brow': 2, 'spacious': 2, 'unfortunately': 2, 'district': 2, 'imperious': 2, 'slopes': 2, 'path': 2, 'embouchure': 2, 'frightful': 2, 'heavily': 2, 'laden': 2, 'irregular': 2, 'interfere': 2, 'carefully': 2, 'cannonball': 2, 'lowered': 2, 'speculation': 2, 'asses': 2, 'evacuate': 2, 'boatmen': 2, 'zitto': 2, 'whispered': 2, 'prow': 2, 'flat': 2, 'uncommon': 2, 'dexterity': 2, 'foremost': 2, 'gasping': 2, 'hawks': 2, 'depended': 2, 'create': 2, 'radiance': 2, 'gloomy': 2, 'silenced': 2, 'prettier': 2, 'warmth': 2, 'choose': 2, 'knock': 2, 'pieces': 2, 'surrendered': 2, 'amphion': 2, 'rescued': 2, 'palliate': 2, 'assemblage': 2, 'ways': 2, 'cooperate': 2, 'intercepted': 2, 'joseph': 2, 'patriot': 2, 'mountaineers': 2, 'tho': 2, 'tread': 2, 'harassed': 2, 'expression': 2, 'authorities': 2, 'laudable': 2, 'solicitude': 2, 'threats': 2, 'attain': 2, 'pitch': 2, 'recommended': 2, 'motheri': 2, 'tarentum': 2, 'imprudence': 2, 'exultation': 2, 'silly': 2, 'admitting': 2, 'exploits': 2, 'demand': 2, 'recollection': 2, 'blessing': 2, 'opportunities': 2, 'paris': 2, 'constantinople': 2, 'continental': 2, 'lead': 2, 'evacuation': 2, 'vexation': 2, 'bryce': 2, 'transcribe': 2, 'occurs': 2, 'hearty': 2, 'unremitted': 2, 'pleasantest': 2, 'egyptian': 2, 'faithfully': 2, 'sept': 2, 'happens': 2, 'occasion': 2, 'subsided': 2, 'races': 2, 'affect': 2, 'subscribe': 2, 'race': 2, 'excellence': 2, 'sorts': 2, 'cousin': 2, 'drank': 2, 'champagne': 2, 'consul': 2, 'corfu': 2, 'proposals': 2, 'pleasantly': 2, 'prevented': 2, 'residing': 2, 'beholding': 2, 'naturethe': 2, 'alarmed': 2, 'hereafter': 2, 'lucky': 2, 'huzza': 2, 'expedite': 2, 'prize': 2, 'gratitude': 2, 'miseries': 2, 'stinking': 2, 'undoubted': 2, 'measure': 2, 'unavailing': 2, 'compilation': 2, 'philosophy': 2, 'facility': 2, 'impress': 2, 'graces': 2, 'sugar': 2, 'lad': 2, 'finger': 2, 'fondly': 2, 'turns': 2, 'peaceful': 2, 'concluded': 2, 'pudding': 2, 'verses': 2, 'derive': 2, 'translation': 2, 'astonishingly': 2, 'paradise': 2, 'iliad': 2, 'johnson': 2, 'indissoluble': 2, 'westward': 2, 'sons': 2, 'mental': 2, 'virtues': 2, 'alter': 2, 'thirteen': 2, 'fix': 2, 'sudbury': 2, 'intimated': 2, 'fortunately': 2, 'despair': 2, 'arise': 2, 'indulge': 2, 'promote': 2, 'esteem': 2, 'dadi': 2, 'exceeds': 2, 'rejected': 2, 'convenient': 2, 'wanting': 2, 'mars': 2, 'audacious': 2, 'tigress': 2, 'commodore': 2, 'pilot': 2, 'tods': 2, 'shocking': 2, 'uncle': 2, 'appoint': 2, 'sair': 2, 'dat': 2, 'dances': 2, 'simpering': 2, 'pukk': 2, 'yaw': 2, 'wilmot': 2, 'astonishing': 2, 'cataract': 2, 'tremendous': 2, 'defined': 2, 'studied': 2, 'gotha': 2, 'enamelled': 2, 'embossed': 2, 'feathered': 2, 'foliage': 2, 'landscape': 2, 'masts': 2, 'eminent': 2, 'cultivated': 2, 'sawing': 2, 'timber': 2, 'thursday': 2, 'reflecting': 2, 'curricle': 2, 'legation': 2, 'couriers': 2, 'uninterrupted': 2, 'establish': 2, 'designed': 2, 'possess': 2, 'scale': 2, 'graves': 2, 'dines': 2, 'weigh': 2, 'johnny': 2, 'behaviour': 2, 'wardroom': 2, 'entreated': 2, 'odious': 2, 'species': 2, 'arising': 2, 'obstructed': 2, 'extensive': 2, 'mists': 2, 'holker': 2, 'glide': 2, 'deceptive': 2, 'disk': 2, 'zealand': 2, 'nobles': 2, 'blazes': 2, 'helsingborg': 2, 'vanguard': 2, 'calypso': 2, 'cronberg': 2, 'fenwick': 2, 'sup': 2, 'midshipman': 2, 'shoot': 2, 'cod': 2, 'skin': 2, 'unusual': 2, 'sank': 2, 'borrowed': 2, 'striding': 2, 'bradby': 2, 'parole': 2, 'office': 2, 'worked': 2, 'dislike': 2, 'swear': 2, 'hawkins': 2, 'refer': 2, 'exercise': 2, 'bestow': 2, 'chatham': 2, 'holy': 2, 'ps': 2, 'sw': 2, 'toes': 2, 'hes': 2, 'corvette': 2, 'engage': 2, 'cunning': 2, 'perched': 2, 'snapping': 2, 'plumage': 2, 'limb': 2, 'complied': 2, 'exceeding': 2, 'string': 2, 'walking': 2, 'gangway': 2, 'pinioned': 2, 'wash': 2, 'play': 2, 'enjoyment': 2, 'tame': 2, 'filthy': 2, 'pears': 2, 'apricots': 2, 'cotton': 2, 'plunder': 2, 'w': 2, 'raving': 2, 'despaired': 2, 'provoking': 2, 'capitulate': 2, 'treaty': 2, 'remote': 2, 'tarnished': 2, 'finally': 2, 'oppressors': 2, 'abhorrence': 2, 'moorebon': 2, 'crowned': 2, 'continuing': 2, 'lined': 2, 'adequate': 2, 'contrived': 2, 'torn': 2, 'false': 2, 'treasure': 2, 'montemor': 2, 'novo': 2, 'examine': 2, 'apparently': 2, 'farmhouse': 2, 'supplied': 2, 'retirement': 2, 'sumptuous': 2, 'cockburn': 2, 'trembling': 2, 'cœur': 2, 'tasted': 2, 'borba': 2, 'dignified': 2, 'confounded': 2, 'swallow': 2, 'communicated': 2, 'witnessed': 2, 'adjutantgeneral': 2, 'transferred': 2, 'frenchmans': 2, 'bursting': 2, 'twentyfive': 2, 'sanctity': 2, 'perish': 2, 'decamped': 2, 'treaties': 2, 'provoked': 2, 'posthorses': 2, 'refinement': 2, 'sets': 2, 'wills': 2, 'sore': 2, 'prepares': 2, 'melon': 2, 'couple': 2, 'qmg': 2, 'attendance': 2, 'provisore': 2, 'corner': 2, 'invited': 2, 'assassination': 2, 'santa': 2, 'stragglers': 2, 'sharing': 2, 'george': 2, 'bishops': 2, 'interference': 2, 'performance': 2, 'indisputable': 2, 'accused': 2, 'stick': 2, 'shook': 2, 'horror': 2, 'instructed': 2, 'unlimited': 2, 'shortly': 2, 'enthusiasm': 2, 'onwards': 2, 'occurred': 2, 'bitter': 2, 'accompany': 2, 'passable': 2, 'herreruela': 2, 'cartillano': 2, 'comb': 2, 'billeted': 2, 'girl': 2, 'singing': 2, 'gazed': 2, 'treat': 2, 'salvatierra': 2, 'priests': 2, 'partridge': 2, 'cabbage': 2, 'pork': 2, 'fried': 2, 'issues': 2, 'stable': 2, 'moorish': 2, 'niza': 2, 'portalegre': 2, 'beautifully': 2, 'bite': 2, 'campo': 2, 'ditto': 2, 'stamped': 2, 'judged': 2, 'muleteer': 2, 'complain': 2, 'authority': 2, 'luckily': 2, 'argument': 2, 'jose': 2, 'reasonable': 2, 'goodlooking': 2, 'nights': 2, 'breathed': 2, 'blushing': 2, 'dimly': 2, 'hall': 2, 'politeness': 2, 'nose': 2, 'conversable': 2, 'retrieve': 2, 'sins': 2, 'receives': 2, 'fidelity': 2, 'rub': 2, 'honesty': 2, 'interpreter': 2, 'arronches': 2, 'disputing': 2, 'astonishment': 2, 'bark': 2, 'noise': 2, 'brozas': 2, 'benedictine': 2, 'iv': 2, 'dismayed': 2, 'grapes': 2, 'working': 2, 'alternately': 2, 'suspected': 2, 'concerned': 2, 'dragging': 2, 'foresaw': 2, 'patrole': 2, 'losing': 2, 'backward': 2, 'parcel': 2, 'prighonera': 2, 'repeated': 2, 'pushing': 2, 'thrusting': 2, 'falls': 2, 'frown': 2, 'pervaded': 2, 'fairly': 2, 'offence': 2, 'arches': 2, 'declare': 2, 'exists': 2, 'simplicity': 2, 'alemtejo': 2, 'confident': 2, 'entertaining': 2, 'sancho': 2, 'sixty': 2, 'readily': 2, 'mamsey': 2, 'communicative': 2, 'watery': 2, 'postillion': 2, 'obscured': 2, 'resting': 2, 'rare': 2, 'falling': 2, 'brooks': 2, 'rivers': 2, 'impenetrable': 2, 'gainaldo': 2, 'halt': 2, 'conducts': 2, 'afflictions': 2, 'intend': 2, 'ford': 2, 'volunteer': 2, 'valladolid': 2, 'blake': 2, 'romano': 2, 'guareña': 2, 'mollorido': 2, 'segovia': 2, 'aranda': 2, 'pool': 2, 'swim': 2, 'shepherd': 2, 'cantalapiedra': 2, 'projects': 2, 'daughters': 2, 'inch': 2, 'surprised': 2, 'toro': 2, 'screaming': 2, 'cease': 2, 'enthusiastic': 2, 'details': 2, 'grajal': 2, 'cantonment': 2, 'conspicuous': 2, 'repeatedly': 2, 'sahagun': 2, 'frustrated': 2, 'wisely': 2, 'final': 2, 'successful': 2, 'dalmatia': 2, 'letting': 2, 'pickets': 2, 'disperse': 2, 'engagement': 2, 'baneza': 2, 'scotch': 2, 'gos': 2, 'correct': 2, 'detachment': 2, 'villafranca': 2, 'lugo': 2, 'freezes': 2, 'curés': 2, 'spies': 2, 'otero': 2, 'writes': 2, 'forbid': 2, 'machine': 2, 'invention': 2, 'villarviejo': 2, 'portilia': 2, 'lowest': 2, 'garden': 2, 'disturbed': 2, 'illness': 2, 'stomach': 2, 'manifold': 2, 'cottage': 2, 'alguacil': 2, 'mistress': 2, 'forlorn': 2, 'ensuring': 2, 'bordering': 2, 'stages': 2, 'charm': 2, 'unexpectedly': 2, 'supported': 2, 'sought': 2, 'fatigue': 2, 'mattress': 2, 'contract': 2, 'accurate': 2, 'disadvantages': 2, 'defy': 2, 'molested': 2, 'lefebures': 2, 'meant': 2, 'margin': 2, 'ramparts': 2, 'hallooed': 2, 'school': 2, 'overtook': 2, 'gunner': 2, 'instantly': 2, 'graham': 2, 'dying': 2, 'elegance': 2, 'impressive': 2, 'remaining': 2, 'admired': 2, 'courcy': 2, 'cowardice': 2, 'contented': 2, 'useless': 2, 'martial': 2, 'sorrow': 2, 'ardour': 2, 'consolation': 2, 'habits': 2, 'willing': 2, 'devoted': 2, 'speedy': 2, 'fatigues': 2, 'grief': 2, 'alacrity': 2, 'counter': 2, 'rejoice': 2, 'adding': 2, 'granted': 2, 'adopted': 2, 'gigantic': 2, 'richness': 2, 'current': 2, 'quays': 2, 'southern': 2, 'wealth': 2, 'surpassed': 2, 'equalled': 2, 'structures': 2, 'termination': 2, 'shops': 2, 'diminished': 2, 'beggars': 2, 'withheld': 2, 'withdraw': 2, 'control': 2, 'bearer': 2, 'gout': 2, 'particulars': 2, 'matters': 2, 'adversarys': 2, 'quizzing': 2, 'stretched': 2, 'despised': 2, 'mulette': 2, 'sum': 2, 'advised': 2, 'mare': 2, 'double': 2, 'chum': 2, 'abrantes': 2, 'embarrassed': 2, 'quitting': 2, 'arthur': 2, 'remarkably': 2, 'wholly': 2, 'sacavem': 2, 'fuéro': 2, 'perponcher': 2, 'av': 2, 'battalions': 2, 'drop': 2, 'assisting': 2, 'plague': 2, 'declined': 2, 'mixture': 2, 'intending': 2, 'amarante': 2, 'resisted': 2, 'revenged': 2, 'recite': 2, 'maintaining': 2, 'nestil': 2, 'defeated': 2, 'recover': 2, 'mamseys': 2, 'bravery': 2, 'lions': 2, 'strikingly': 2, 'highlander': 2, 'obstinately': 2, 'menon': 2, 'ability': 2, 'providence': 2, 'hon': 2, 'repelled': 2, 'successfully': 2, 'manningham': 2, 'leith': 2, 'bowen': 2, 'majorgenerals': 2, 'rearguard': 2, 'appearing': 2, 'amidst': 2, 'ably': 2, 'napier': 2, 'majors': 2, 'stanhope': 2, 'recently': 2, 'deckled': 2, 'opinions': 2, 'herald': 2, 'contains': 2, 'simmons': 2, 'record': 2, 'errors': 2, 'unbalanced': 2, 'owns': 2, 'concept': 2, 'registered': 2, 'research': 2, 'redistribution': 2, 'promoting': 2, 'redistributing': 2, 'intellectual': 2, 'property': 2, 'domain': 2, 'based': 2, 'prominently': 2, 'contain': 2, 'vanilla': 2, 'ascii': 2, 'specified': 2, 'receipt': 2, 'physical': 2, 'computer': 2, 'warranty': 2, 'costs': 2, 'expenses': 2, 'legal': 2, 'lieu': 2, 'electronically': 2, 'implied': 2, 'widest': 2, 'computers': 2, 'generations': 2, 'exempt': 2, 'federal': 2, 'contributions': 2, 'solicit': 2, 'wwwgutenbergorgdonate': 2, 'boothy': 1, 'famil': 1, 'compilers': 1, 'martha': 1, 'serena': 1, 'cecilia': 1, 'release': 1, 'february': 1, 'mws': 1, 'charlie': 1, 'howard': 1, 'proofreading': 1, 'httpswwwpgdpnet': 1, 'images': 1, 'generously': 1, 'internet': 1, 'archiveamerican': 1, 'libraries': 1, 'italic': 1, 'underscores': 1, 'boldface': 1, 'cloth': 1, 'macmillan': 1, 'fifth': 1, 'adam': 1, 'ubique': 1, 'fas': 1, 'gloria': 1, 'ducunt': 1, 'adventurous': 1, 'instruction': 1, 'impart': 1, 'humblest': 1, 'readers': 1, 'unobservant': 1, 'unintelligent': 1, 'exclusive': 1, 'obviate': 1, 'sterilising': 1, 'regions': 1, 'discoveries': 1, 'unfold': 1, 'reasons': 1, 'troubling': 1, 'mayest': 1, 'fourteen': 1, 'manuscripts': 1, 'desk': 1, 'publication': 1, 'contemporaneous': 1, 'undervalue': 1, 'undermine': 1, 'sneers': 1, 'insinuations': 1, 'compassionate': 1, 'airs': 1, 'illumination': 1, 'audacity': 1, 'assaults': 1, 'newton': 1, 'locke': 1, 'shield': 1, 'exigency': 1, 'sober': 1, 'scoffer': 1, 'troublesome': 1, 'unfashionable': 1, 'restraint': 1, 'indolently': 1, 'imperfectly': 1, 'remark': 1, 'unworthiness': 1, 'transgressions': 1, 'serenely': 1, 'storms': 1, 'excepting': 1, 'external': 1, 'removing': 1, 'disquieting': 1, 'recollected': 1, 'offences': 1, 'evils': 1, 'steadfast': 1, 'study': 1, 'contradict': 1, 'sneer': 1, 'mocker': 1, 'emancipate': 1, 'victim': 1, 'sutterton': 1, 'lincolnshire': 1, 'boothbys': 1, 'publishing': 1, 'lifetime': 1, 'sixandseventy': 1, 'reproduction': 1, 'gaps': 1, 'continuity': 1, 'contents': 1, 'sherbrookes': 1, 'buonapartes': 1, 'miniature': 1, 'viii': 1, 'representation': 1, 'fore': 1, 'topsail': 1, 'claw': 1, 'diagram': 1, 'ineffectual': 1, 'dedication': 1, 'studies': 1, 'favourably': 1, 'labours': 1, 'yoke': 1, 'redeeming': 1, 'pleasures': 1, 'fellowship': 1, 'selection': 1, 'accrue': 1, 'choice': 1, 'hereby': 1, 'permits': 1, 'truth': 1, 'shun': 1, 'sully': 1, 'emulous': 1, 'terminate': 1, 'importunate': 1, 'sparing': 1, 'nominated': 1, 'existence': 1, 'wherein': 1, 'conflicting': 1, 'emotion': 1, 'monotony': 1, 'routine': 1, 'exulted': 1, 'outfit': 1, 'suited': 1, 'propensity': 1, 'lurk': 1, 'proportionate': 1, 'commonness': 1, 'prized': 1, 'mourn': 1, 'approve': 1, 'flashing': 1, 'trained': 1, 'desirous': 1, 'trying': 1, 'roughest': 1, 'weeping': 1, 'pang': 1, 'dwelt': 1, 'mindfor': 1, 'cherished': 1, 'holiest': 1, 'retaini': 1, 'lightness': 1, 'lamentations': 1, 'collecting': 1, 'drawingroom': 1, 'cabinet': 1, 'linen': 1, 'hers': 1, 'marking': 1, 'angelic': 1, 'inseparable': 1, 'dearlyremembered': 1, 'laboured': 1, 'writingbox': 1, 'dressingcase': 1, 'combineda': 1, 'funds': 1, 'uneasy': 1, 'shant': 1, 'packed': 1, 'butler': 1, 'youthspirits': 1, 'elastic': 1, 'bruise': 1, 'slant': 1, 'misting': 1, 'penetrating': 1, 'rumps': 1, 'wheelers': 1, 'coachman': 1, 'waggon': 1, 'swaggering': 1, 'overturn': 1, 'unwieldy': 1, 'terminal': 1, 'bang': 1, 'descent': 1, 'shoulders': 1, 'pickled': 1, 'ghirkins': 1, 'jar': 1, 'stupefied': 1, 'bruises': 1, 'nipped': 1, 'loins': 1, 'kipperkin': 1, 'spice': 1, 'hasten': 1, 'gaiety': 1, 'reckoned': 1, 'earlier': 1, 'fitter': 1, 'allotted': 1, 'interchange': 1, 'pigs': 1, 'milch': 1, 'goat': 1, 'hay': 1, 'prodigious': 1, 'pickles': 1, 'sauces': 1, 'spices': 1, 'portable': 1, 'maccaroni': 1, 'vermicelli': 1, 'celery': 1, 'bottled': 1, 'barrel': 1, 'ale': 1, 'allowance': 1, 'procuring': 1, 'animate': 1, 'efficient': 1, 'colleague': 1, 'spithead': 1, 'breakage': 1, 'obligation': 1, 'provisioning': 1, 'rabbitwarren': 1, 'purchasers': 1, 'unpleasantly': 1, 'strangeness': 1, 'saila': 1, 'threedecker': 1, 'seventyfour': 1, 'louisaever': 1, 'chas': 1, 'landsmen': 1, 'squally': 1, 'mellowed': 1, 'feast': 1, 'stygian': 1, 'boiling': 1, 'willingly': 1, 'boot': 1, 'burgamy': 1, 'pear': 1, 'burer': 1, 'requisitions': 1, 'overcame': 1, 'topics': 1, 'roving': 1, 'seesaw': 1, 'hailed': 1, 'comradescaptain': 1, 'nicholas': 1, 'lisbona': 1, 'slender': 1, 'reinforced': 1, 'ferrol': 1, 'inadequate': 1, 'damper': 1, 'itonly': 1, 'springing': 1, 'porpoises': 1, 'westerly': 1, 'gambols': 1, 'appearances': 1, 'shoals': 1, 'seamonster': 1, 'surmounting': 1, 'forked': 1, 'jetty': 1, 'glimpses': 1, 'confirms': 1, 'twentyone': 1, 'strive': 1, 'impossibilities': 1, 'emergency': 1, 'tempt': 1, 'fragrance': 1, 'tickled': 1, 'heighten': 1, 'quench': 1, 'saltsea': 1, 'orpheus': 1, 'blockades': 1, 'blustered': 1, 'armament': 1, 'drilling': 1, 'indies': 1, 'moonlight': 1, 'barbary': 1, 'apes': 1, 'immeasurable': 1, 'silvering': 1, 'prominent': 1, 'newly': 1, 'keelploughed': 1, 'kindling': 1, 'diamonds': 1, 'firea': 1, 'blessed': 1, 'glided': 1, 'accelerate': 1, 'sparkling': 1, 'canvas': 1, 'peerless': 1, 'elapsed': 1, 'disturb': 1, 'birthday': 1, 'unfolded': 1, 'uprising': 1, 'tracing': 1, 'giant': 1, 'mortals': 1, 'bounding': 1, 'liquid': 1, 'diamond': 1, 'bathes': 1, 'shows': 1, 'pinnacle': 1, 'umbered': 1, 'uneven': 1, 'spectators': 1, 'shoulderblades': 1, 'variously': 1, 'inexperienced': 1, 'sedate': 1, 'irresistibly': 1, 'proudly': 1, 'unapproachably': 1, 'shadow': 1, 'retires': 1, 'acknowledgment': 1, 'continual': 1, 'swarms': 1, 'ceuta': 1, 'unfavourable': 1, 'infest': 1, 'prey': 1, 'parades': 1, 'vicissitude': 1, 'warning': 1, 'keeps': 1, 'inspection': 1, 'arrivalsall': 1, 'review': 1, 'counted': 1, 'gibraltarnorth': 1, 'invite': 1, 'educated': 1, 'playfellow': 1, 'rockwhere': 1, 'endangered': 1, 'labyrinth': 1, 'unravel': 1, 'subsists': 1, 'precautions': 1, 'entails': 1, 'diet': 1, 'amusements': 1, 'theatricals': 1, 'delectable': 1, 'apartment': 1, 'decorous': 1, 'auspicious': 1, 'encouraginga': 1, 'halfyearly': 1, 'contribution': 1, 'conferring': 1, 'bathing': 1, 'wellregulated': 1, 'expects': 1, 'statu': 1, 'rejoiced': 1, 'symptoms': 1, 'european': 1, 'tedium': 1, 'comparable': 1, 'spanishfew': 1, 'sunset': 1, 'perpetually': 1, 'elude': 1, 'spreadout': 1, 'disablement': 1, 'serene': 1, 'commences': 1, 'vanishes': 1, 'setting': 1, 'chanced': 1, 'chaise': 1, 'necks': 1, 'keel': 1, 'fardistant': 1, 'skirting': 1, 'girdles': 1, 'cities': 1, 'barren': 1, 'forbidding': 1, 'thirsted': 1, 'bastion': 1, 'frowning': 1, 'wafted': 1, 'comrades': 1, 'hatched': 1, 'induces': 1, 'brotherhood': 1, 'remarking': 1, 'spaciousness': 1, 'contributed': 1, 'imbue': 1, 'traits': 1, 'carthage': 1, 'sullied': 1, 'stain': 1, 'hue': 1, 'chiselled': 1, 'rockall': 1, 'stainless': 1, 'soignée': 1, 'venetian': 1, 'decks': 1, 'masquerade': 1, 'gondolas': 1, 'powdered': 1, 'umbrellas': 1, 'coats': 1, 'anticipations': 1, 'underwent': 1, 'regale': 1, 'imperceptible': 1, 'escalier': 1, 'continuous': 1, 'banisters': 1, 'carved': 1, 'safely': 1, 'mosquitoes': 1, 'intense': 1, 'reproduced': 1, 'glaring': 1, 'smote': 1, 'memorandum': 1, 'memorythe': 1, 'parallels': 1, 'otherwhen': 1, 'sunshinedown': 1, 'lounge': 1, 'sauntering': 1, 'pace': 1, 'crossings': 1, 'ray': 1, 'escaping': 1, 'married': 1, 'helped': 1, 'newfound': 1, 'brethren': 1, 'barb': 1, 'arabian': 1, 'scarce': 1, 'ker': 1, 'boyish': 1, 'broiled': 1, 'compensate': 1, 'styptic': 1, 'knights': 1, 'potentates': 1, 'basket': 1, 'sliding': 1, 'rope': 1, 'eyed': 1, 'mirror': 1, 'cooling': 1, 'consented': 1, 'swimmer': 1, 'cave': 1, 'est': 1, 'insula': 1, 'portum': 1, 'efficit': 1, 'objectu': 1, 'laterum': 1, 'quibus': 1, 'omnis': 1, 'ab': 1, 'alto': 1, 'frangitur': 1, 'inque': 1, 'sinus': 1, 'scindit': 1, 'sese': 1, 'unda': 1, 'reductos': 1, 'atque': 1, 'vastae': 1, 'rupes': 1, 'geminique': 1, 'minantur': 1, 'caelum': 1, 'scopuli': 1, 'quorum': 1, 'sub': 1, 'vertice': 1, 'silentaen': 1, 'placenay': 1, 'placewhose': 1, 'inviolable': 1, 'barriers': 1, 'divinely': 1, 'recur': 1, 'offing': 1, 'swelling': 1, 'wool': 1, 'comparisons': 1, 'steering': 1, 'plumed': 1, 'pennant': 1, 'checkered': 1, 'imprisons': 1, 'truant': 1, 'longsuspended': 1, 'infrequent': 1, 'glisten': 1, 'cheek': 1, 'flush': 1, 'unwonted': 1, 'inwardly': 1, 'brothers': 1, 'chapter': 1, 'dona': 1, 'rafelai': 1, 'betterlooking': 1, 'romanticity': 1, 'capacity': 1, 'flowery': 1, 'murmuring': 1, 'soothe': 1, 'charity': 1, 'groundhot': 1, 'skies': 1, 'objected': 1, 'countriesa': 1, 'fireside': 1, 'shutters': 1, 'hissing': 1, 'upsends': 1, 'budget': 1, 'ushered': 1, 'heartshaking': 1, 'musick': 1, 'summerhouse': 1, 'futurityrussia': 1, 'medal': 1, 'sling': 1, 'sigh': 1, 'motherwith': 1, 'neapolitans': 1, 'verging': 1, 'ashore': 1, 'choleraoften': 1, 'remedy': 1, 'languid': 1, 'exhaustion': 1, 'unpropitious': 1, 'precise': 1, 'cerulean': 1, 'moist': 1, 'shrouded': 1, 'abaft': 1, 'beautified': 1, 'gliding': 1, 'fairy': 1, 'ischia': 1, 'capri': 1, 'poising': 1, 'pry': 1, 'recesses': 1, 'spangled': 1, 'curtain': 1, 'veil': 1, 'gazing': 1, 'profoundly': 1, 'dayfor': 1, 'dreams': 1, 'realised': 1, 'solemnly': 1, 'breathing': 1, 'pillar': 1, 'plantations': 1, 'viny': 1, 'hillocks': 1, 'widely': 1, 'indistinctly': 1, 'discerned': 1, 'sell': 1, 'greedilybread': 1, 'parley': 1, 'flights': 1, 'grammar': 1, 'grotesque': 1, 'gesticulation': 1, 'dainties': 1, 'appetites': 1, 'pantomime': 1, 'movementsfar': 1, 'overhear': 1, 'minor': 1, 'statues': 1, 'italians': 1, 'observer': 1, 'orator': 1, 'concentering': 1, 'seizes': 1, 'collar': 1, 'arguments': 1, 'tremulation': 1, 'coaxes': 1, 'gooseberries': 1, 'retrogrades': 1, 'irreconcilable': 1, 'contradiction': 1, 'envy': 1, 'unruined': 1, 'theatres': 1, 'hoar': 1, 'plastering': 1, 'workmen': 1, 'painted': 1, 'dwellingrooms': 1, 'engraven': 1, 'pliny': 1, 'packing': 1, 'eruption': 1, 'unpacked': 1, 'unpacking': 1, 'remainder': 1, 'jump': 1, 'delicate': 1, 'unbidden': 1, 'chambers': 1, 'preservation': 1, 'infer': 1, 'occupancy': 1, 'beggared': 1, 'trance': 1, 'steals': 1, 'showman': 1, 'temptation': 1, 'fabricate': 1, 'everyday': 1, 'semblance': 1, 'selfevident': 1, 'realities': 1, 'yolk': 1, 'oozing': 1, 'cracked': 1, 'cinder': 1, 'shy': 1, 'heap': 1, 'rolls': 1, 'manuscript': 1, 'hayter': 1, 'unrolling': 1, 'ingenuity': 1, 'charred': 1, 'papyrus': 1, 'legible': 1, 'quantities': 1, 'utensils': 1, 'ornaments': 1, 'shapesin': 1, 'herculaneum': 1, 'visitation': 1, 'inexhaustible': 1, 'absorbed': 1, 'unutterable': 1, 'irresistible': 1, 'devastations': 1, 'destructive': 1, 'habitations': 1, 'subterraneous': 1, 'ejected': 1, 'monuments': 1, 'endure': 1, 'insufficient': 1, 'frighten': 1, 'inward': 1, 'groans': 1, 'threatens': 1, 'nevertheless': 1, 'hew': 1, 'vomit': 1, 'entrails': 1, 'build': 1, 'dwelling': 1, 'awe': 1, 'peep': 1, 'inferno': 1, 'shaft': 1, 'mysterious': 1, 'chimney': 1, 'foundry': 1, 'cracks': 1, 'hobys': 1, 'region': 1, 'sulphurous': 1, 'vapour': 1, 'stifled': 1, 'achieve': 1, 'uniting': 1, 'inapplicable': 1, 'conjunction': 1, 'sovereigns': 1, 'reviewed': 1, 'hereditary': 1, 'cardinal': 1, 'ruffo': 1, 'stockings': 1, 'glee': 1, 'bacchus': 1, 'monarch': 1, 'cest': 1, 'superbe': 1, 'magnifique': 1, 'ce': 1, 'sont': 1, 'soldats': 1, 'nos': 1, 'dieux': 1, 'tutélaires': 1, 'hazed': 1, 'erect': 1, 'mien': 1, 'princely': 1, 'juvenile': 1, 'fieldmarshal': 1, 'caparisoned': 1, 'saluted': 1, 'flaxen': 1, 'thicker': 1, 'grace': 1, 'measured': 1, 'blazed': 1, 'steely': 1, 'muskets': 1, 'accident': 1, 'poetic': 1, 'shabby': 1, 'ropes': 1, 'creamcoloured': 1, 'hanoverians': 1, 'trappings': 1, 'attach': 1, 'vehicle': 1, 'sovereign': 1, 'restriction': 1, 'confederates': 1, 'temporised': 1, 'paternal': 1, 'admonitions': 1, 'wellversed': 1, 'temptations': 1, 'becks': 1, 'wreathed': 1, 'quips': 1, 'wiles': 1, 'beckon': 1, 'duchesses': 1, 'unharmed': 1, 'carlos': 1, 'lobby': 1, 'imprisoned': 1, 'strain': 1, 'vocal': 1, 'potent': 1, 'silvery': 1, 'divine': 1, 'songster': 1, 'corresponded': 1, 'perplexity': 1, 'voicemost': 1, 'velluti': 1, 'triumphs': 1, 'unequalled': 1, 'londoners': 1, 'melody': 1, 'sepia': 1, 'wellfed': 1, 'fitted': 1, 'caparisons': 1, 'gentler': 1, 'steed': 1, 'comely': 1, 'delineate': 1, 'extinction': 1, 'bourbon': 1, 'alternative': 1, 'irritated': 1, 'purposes': 1, 'unwearied': 1, 'portrayed': 1, 'mapped': 1, 'fastnesses': 1, 'scientific': 1, 'proximity': 1, 'hurry': 1, 'lack': 1, 'enclosure': 1, 'dockyard': 1, 'disastrous': 1, 'iron': 1, 'disabled': 1, 'humane': 1, 'volcanic': 1, 'stromboli': 1, 'disclose': 1, 'fits': 1, 'unveiled': 1, 'trinacrian': 1, 'topped': 1, 'vine': 1, 'nought': 1, 'bays': 1, 'boatcovered': 1, 'flings': 1, 'primeval': 1, 'anxiously': 1, 'whirlpool': 1, 'whereof': 1, 'confines': 1, 'assumes': 1, 'bolder': 1, 'richer': 1, 'seat': 1, 'rivals': 1, 'grafts': 1, 'metropolitan': 1, 'riverlike': 1, 'painters': 1, 'façades': 1, 'elaborate': 1, 'castlecrowned': 1, 'background': 1, 'dwarf': 1, 'perennial': 1, 'heavenly': 1, 'curved': 1, 'jutting': 1, 'derives': 1, 'narrowness': 1, 'operose': 1, 'moored': 1, 'roadstead': 1, 'disembarked': 1, 'conveys': 1, 'tradition': 1, 'situations': 1, 'capôte': 1, 'walkingstaff': 1, 'miraculous': 1, 'abbot': 1, 'cherry': 1, 'brandy': 1, 'respectable': 1, 'existing': 1, 'devised': 1, 'incline': 1, 'adopt': 1, 'existed': 1, 'substituting': 1, 'occupying': 1, 'adjacent': 1, 'indelibly': 1, 'imprinted': 1, 'marchthis': 1, 'miserably': 1, 'revive': 1, 'midtide': 1, 'flood': 1, 'bowing': 1, 'concentered': 1, 'forwards': 1, 'facing': 1, 'loyalty': 1, 'kindlymannered': 1, 'brief': 1, 'gratify': 1, 'rent': 1, 'vivas': 1, 'bend': 1, 'devout': 1, 'reverent': 1, 'housings': 1, 'weakness': 1, 'tyranny': 1, 'reign': 1, 'neglect': 1, 'lawful': 1, 'misfortune': 1, 'weariness': 1, 'embraces': 1, 'benedictions': 1, 'genuflexions': 1, 'endeared': 1, 'fortune': 1, 'independence': 1, 'credibly': 1, 'façade': 1, 'scaffolding': 1, 'fireworks': 1, 'rocket': 1, 'wireconductor': 1, 'gorgeous': 1, 'quivering': 1, 'paint': 1, 'shapes': 1, 'finale': 1, 'concerts': 1, 'gems': 1, 'fountains': 1, 'spray': 1, 'refrain': 1, 'ecstasy': 1, 'processions': 1, 'procession': 1, 'anima': 1, 'virgin': 1, 'mary': 1, 'origin': 1, 'symbolical': 1, 'essential': 1, 'feeble': 1, 'buckling': 1, 'rattling': 1, 'plaister': 1, 'shower': 1, 'experiencing': 1, 'slumbers': 1, 'scouring': 1, 'passages': 1, 'issuing': 1, 'persons': 1, 'racing': 1, 'seemingly': 1, 'unconscious': 1, 'exposure': 1, 'scamporaccio': 1, 'padrone': 1, 'casa': 1, 'cat': 1, 'secured': 1, 'archway': 1, 'preposterous': 1, 'figures': 1, 'lodgers': 1, 'sportively': 1, 'howling': 1, 'trot': 1, 'ludicrous': 1, 'foreheads': 1, 'frenzied': 1, 'deprecation': 1, 'posture': 1, 'desisted': 1, 'rend': 1, 'spire': 1, 'chiesa': 1, 'materially': 1, 'mid': 1, 'strait': 1, 'slighter': 1, 'overseers': 1, 'superintendence': 1, 'fruits': 1, 'thousands': 1, 'sympathise': 1, 'tremulous': 1, 'reminds': 1, 'instability': 1, 'menaces': 1, 'vengeance': 1, 'vehement': 1, 'entreaties': 1, 'rod': 1, 'foxs': 1, 'administration': 1, 'flatteringly': 1, 'assuring': 1, 'witnessing': 1, 'resignation': 1, 'revered': 1, 'regretted': 1, 'brotherofficers': 1, 'goodnaturedly': 1, 'lent': 1, 'malle': 1, 'starting': 1, 'il': 1, 'bruto': 1, 'quenched': 1, 'drenching': 1, 'sprawling': 1, 'mire': 1, 'fracas': 1, 'longeared': 1, 'amenable': 1, 'somersault': 1, 'meditations': 1, 'fourlegged': 1, 'twolegged': 1, 'furthermore': 1, 'fertile': 1, 'reawakened': 1, 'depressed': 1, 'fiumara': 1, 'obstructs': 1, 'plants': 1, 'scaletta': 1, 'traverses': 1, 'gorge': 1, 'watchtower': 1, 'affording': 1, 'sentinel': 1, 'portmanteau': 1, 'toilsome': 1, 'mornings': 1, 'puerile': 1, 'sadness': 1, 'wearisome': 1, 'enveloped': 1, 'hairclothed': 1, 'pause': 1, 'courtesy': 1, 'subordinates': 1, 'vacant': 1, 'wretchedness': 1, 'extend': 1, 'stranger': 1, 'windowless': 1, 'bedless': 1, 'bedding': 1, 'palpable': 1, 'gloomunmanly': 1, 'grievance': 1, 'disquieted': 1, 'questions': 1, 'displeasure': 1, 'recovered': 1, 'hardy': 1, 'loungers': 1, 'fruiterer': 1, 'bespoke': 1, 'accommodate': 1, 'preferred': 1, 'summon': 1, 'antiquities': 1, 'ring': 1, 'auditory': 1, 'oration': 1, 'actor': 1, 'spectator': 1, 'reluctant': 1, 'interrupt': 1, 'spouting': 1, 'fancied': 1, 'roscius': 1, 'comparison': 1, 'excellencys': 1, 'friar': 1, 'luxurious': 1, 'heretics': 1, 'grinding': 1, 'handiwork': 1, 'hanging': 1, 'orchards': 1, 'refreshed': 1, 'forgetful': 1, 'yesterdays': 1, 'springs': 1, 'extends': 1, 'natives': 1, 'euphoniously': 1, 'monzebello': 1, 'dates': 1, 'lava': 1, 'scantily': 1, 'accumulating': 1, 'clothing': 1, 'contrast': 1, 'opulence': 1, 'unpromising': 1, 'wasting': 1, 'clustering': 1, 'domes': 1, 'prosperous': 1, 'temples': 1, 'sensitive': 1, 'whereas': 1, 'splendidall': 1, 'happier': 1, 'parlour': 1, 'wellcooked': 1, 'flask': 1, 'enjoys': 1, 'reste': 1, 'hartlepool': 1, 'skegness': 1, 'meanly': 1, 'affords': 1, 'watered': 1, 'nile': 1, 'enamoured': 1, 'urbanity': 1, 'comforting': 1, 'insisted': 1, 'stare': 1, 'giovane': 1, 'inglese': 1, 'lifeless': 1, 'deviously': 1, 'dell': 1, 'obverse': 1, 'dilated': 1, 'shelters': 1, 'blustering': 1, 'trafficked': 1, 'syracusans': 1, 'frequented': 1, 'divides': 1, 'compartments': 1, 'churches': 1, 'northern': 1, 'screen': 1, 'quarries': 1, 'excavations': 1, 'abruptly': 1, 'elaborately': 1, 'gateways': 1, 'unequal': 1, 'garish': 1, 'heathen': 1, 'proceedings': 1, 'overwhelms': 1, 'dodging': 1, 'tour': 1, 'mounts': 1, 'decorations': 1, 'symbols': 1, 'drives': 1, 'bewildered': 1, 'barons': 1, 'baronesses': 1, 'intelligible': 1, 'listen': 1, 'darkeyed': 1, 'principessas': 1, 'expose': 1, 'blundering': 1, 'solicitous': 1, 'charmed': 1, 'giovinetto': 1, 'dishes': 1, 'surfeit': 1, 'temperate': 1, 'relaxed': 1, 'girdle': 1, 'napkin': 1, 'applaud': 1, 'morsel': 1, 'dish': 1, 'unsparingly': 1, 'failed': 1, 'wail': 1, 'princess': 1, 'bewitching': 1, 'loaded': 1, 'goodhumour': 1, 'unpolished': 1, 'economy': 1, 'dispose': 1, 'copious': 1, 'vantage': 1, 'inconvenient': 1, 'farm': 1, 'ascendency': 1, 'tuscan': 1, 'dissonant': 1, 'jargon': 1, 'athletic': 1, 'ungraceful': 1, 'finelyfeatured': 1, 'representative': 1, 'predominance': 1, 'accusing': 1, 'resemblance': 1, 'hamilton': 1, 'stronger': 1, 'draws': 1, 'countryman': 1, 'anglosicilian': 1, 'hospitality': 1, 'noblehearted': 1, 'redolent': 1, 'studiously': 1, 'magic': 1, 'burnished': 1, 'fillet': 1, 'veal': 1, 'cauliflower': 1, 'barmraised': 1, 'slice': 1, 'freshchurned': 1, 'goats': 1, 'breathy': 1, 'loudhissing': 1, 'presiding': 1, 'breadandbutter': 1, 'genuine': 1, 'attempered': 1, 'cream': 1, 'untried': 1, 'robust': 1, 'ordinary': 1, 'simply': 1, 'retraced': 1, 'highlanders': 1, 'rumours': 1, 'interregnum': 1, 'sensation': 1, 'resolute': 1, 'philipstahl': 1, 'gilespie': 1, 'qualified': 1, 'constancy': 1, 'sagacious': 1, 'requested': 1, 'youve': 1, 'goodhumouredly': 1, 'indefensibleme': 1, 'barrierswho': 1, 'handful': 1, 'angle': 1, 'bid': 1, 'worldi': 1, 'bonaparte': 1, 'tallyho': 1, 'detected': 1, 'belie': 1, 'deeper': 1, 'justified': 1, 'duration': 1, 'infusing': 1, 'aims': 1, 'inordinate': 1, 'milazzo': 1, 'passaro': 1, 'viceregal': 1, 'persuasive': 1, 'chivalrous': 1, 'hazardous': 1, 'ambition': 1, 'floating': 1, 'adroitly': 1, 'disarmed': 1, 'disposal': 1, 'nicely': 1, 'remembering': 1, 'worship': 1, 'easier': 1, 'renowned': 1, 'successor': 1, 'justification': 1, 'hazard': 1, 'daunted': 1, 'heartstirring': 1, 'watching': 1, 'stepped': 1, 'personate': 1, 'nodding': 1, 'drolly': 1, 'significantly': 1, 'vivaing': 1, 'profoundest': 1, 'secrecy': 1, 'protracted': 1, 'toil': 1, 'thunderbolt': 1, 'imagining': 1, 'eventful': 1, 'contrasting': 1, 'refreshing': 1, 'noiseless': 1, 'dire': 1, 'principles': 1, 'condensing': 1, 'unflagging': 1, 'surf': 1, 'opposition': 1, 'receding': 1, 'bushfight': 1, 'polish': 1, 'foxhunters': 1, 'keenly': 1, 'unforeseen': 1, 'celerity': 1, 'gascon': 1, 'trifle': 1, 'plains': 1, 'rumour': 1, 'rated': 1, 'daybreak': 1, 'strengthen': 1, 'facilities': 1, 'entrust': 1, 'selected': 1, 'wattevilles': 1, 'debarkation': 1, 'completion': 1, 'veteran': 1, 'rapidity': 1, 'eyewitness': 1, 'raged': 1, 'runaways': 1, 'descried': 1, 'brotherofficer': 1, 'thesos': 1, 'almighty': 1, 'cantered': 1, 'harrowing': 1, 'mitigate': 1, 'gratification': 1, 'aided': 1, 'offices': 1, 'carnage': 1, 'distorted': 1, 'harnessed': 1, 'stained': 1, 'lifeblood': 1, 'gory': 1, 'joyous': 1, 'dryeyed': 1, 'mute': 1, 'motionless': 1, 'appalling': 1, 'fearful': 1, 'represents': 1, 'tumultuous': 1, 'chieftains': 1, 'shout': 1, 'mandate': 1, 'passions': 1, 'mortal': 1, 'painall': 1, 'thickly': 1, 'straggling': 1, 'shallow': 1, 'skeleton': 1, 'disfigurements': 1, 'powerfully': 1, 'pity': 1, 'unburied': 1, 'tender': 1, 'revolution': 1, 'intenseness': 1, 'grieved': 1, 'deplore': 1, 'bloodstained': 1, 'kindredmother': 1, 'unmoved': 1, 'paulet': 1, 'thigh': 1, 'observation': 1, 'impetus': 1, 'premier': 1, 'linfanterie': 1, 'légère': 1, 'napoleons': 1, 'exchanged': 1, 'welldirected': 1, 'exclaiming': 1, 'furiously': 1, 'shouted': 1, 'deed': 1, 'murderous': 1, 'volley': 1, 'steadfasthearted': 1, 'opponents': 1, 'inevitable': 1, 'routed': 1, 'availing': 1, 'rightabout': 1, 'galling': 1, 'credible': 1, 'smallness': 1, 'amounting': 1, 'privates': 1, 'compère': 1, 'acharnement': 1, 'hate': 1, 'swearing': 1, 'foi': 1, 'disparity': 1, 'slightingly': 1, 'exertion': 1, 'tents': 1, 'accommodated': 1, 'contribute': 1, 'gipsylike': 1, 'sticks': 1, 'valise': 1, 'pillow': 1, 'picketed': 1, 'shaving': 1, 'tackle': 1, 'lather': 1, 'uncomfortably': 1, 'huts': 1, 'beds': 1, 'newcut': 1, 'undertaken': 1, 'camera': 1, 'frondosa': 1, 'illarranged': 1, 'illsupported': 1, 'thatch': 1, 'flax': 1, 'generated': 1, 'malaria': 1, 'ear': 1, 'endued': 1, 'coolness': 1, 'discomfort': 1, 'occasioned': 1, 'changeful': 1, 'dominico': 1, 'canopy': 1, 'seaward': 1, 'drifting': 1, 'nocturnal': 1, 'chaffy': 1, 'locusts': 1, 'kicked': 1, 'illguided': 1, 'creatures': 1, 'underlip': 1, 'locust': 1, 'slap': 1, 'stung': 1, 'lip': 1, 'distraction': 1, 'deuce': 1, 'awaking': 1, 'sounded': 1, 'leafy': 1, 'reposed': 1, 'caring': 1, 'construction': 1, 'northwards': 1, 'defending': 1, 'minded': 1, 'prudence': 1, 'interests': 1, 'territorial': 1, 'acquirement': 1, 'influential': 1, 'reference': 1, 'emphatic': 1, 'conformity': 1, 'reoccupation': 1, 'southward': 1, 'regniers': 1, 'batter': 1, 'intricate': 1, 'lengthened': 1, 'tropea': 1, 'confirmedkeeping': 1, 'nearsounding': 1, 'muffled': 1, 'advertised': 1, 'paths': 1, 'stumble': 1, 'precipitate': 1, 'besieged': 1, 'investment': 1, 'tricolour': 1, 'ties': 1, 'scarp': 1, 'basement': 1, 'descends': 1, 'perpendicularly': 1, 'adapted': 1, 'precipitousness': 1, 'unlearned': 1, 'invulnerable': 1, 'radical': 1, 'smoothly': 1, 'conceals': 1, 'ditch': 1, 'screening': 1, 'heaviest': 1, 'swept': 1, 'hail': 1, 'cannonballs': 1, 'grape': 1, 'parapet': 1, 'unattainable': 1, 'reduction': 1, 'connection': 1, 'boldly': 1, 'unfurled': 1, 'threecoloured': 1, 'historical': 1, 'attaching': 1, 'associations': 1, 'consecrate': 1, 'subjected': 1, 'hoisted': 1, 'base': 1, 'overlooks': 1, 'steeps': 1, 'farms': 1, 'vineyards': 1, 'intersect': 1, 'headland': 1, 'suburb': 1, 'breaching': 1, 'esplanade': 1, 'cultivation': 1, 'steeply': 1, 'preeminently': 1, 'steeper': 1, 'besieging': 1, 'besiegers': 1, 'sumpter': 1, 'requisites': 1, 'allconquering': 1, 'tackling': 1, 'yoheeho': 1, 'hauled': 1, 'nearest': 1, 'observatory': 1, 'smiths': 1, 'shrewd': 1, 'oftener': 1, 'futile': 1, 'relied': 1, 'experiments': 1, 'remitted': 1, 'attentive': 1, 'tolerably': 1, 'wellbrave': 1, 'invincible': 1, 'eagle': 1, 'bent': 1, 'ruined': 1, 'superintend': 1, 'warders': 1, 'imitate': 1, 'pluto': 1, 'rogues': 1, 'cellenza': 1, 'motioned': 1, 'jacket': 1, 'depth': 1, 'contentedly': 1, 'lifting': 1, 'arrow': 1, 'dripping': 1, 'flapping': 1, 'oary': 1, 'treading': 1, 'panting': 1, 'exploit': 1, 'applauding': 1, 'helping': 1, 'bravissimo': 1, 'maestro': 1, 'da': 1, 'capo': 1, 'neater': 1, 'coin': 1, 'advisable': 1, 'erecting': 1, 'breastwork': 1, 'musketshot': 1, 'detect': 1, 'extort': 1, 'tolerable': 1, 'sacrificed': 1, 'avoided': 1, 'discovery': 1, 'favoured': 1, 'cautious': 1, 'faintly': 1, 'delineated': 1, 'brisk': 1, 'intermission': 1, 'partially': 1, 'howitzer': 1, 'ruddy': 1, 'evenings': 1, 'tranquil': 1, 'lieutcolonel': 1, 'eastern': 1, 'installed': 1, 'cruising': 1, 'resulting': 1, 'alarming': 1, 'considerably': 1, 'amended': 1, 'destitute': 1, 'usually': 1, 'cabins': 1, 'menofwara': 1, 'cassano': 1, 'afflicted': 1, 'nugatory': 1, 'troopsthat': 1, 'panicstruck': 1, 'uniformly': 1, 'convinces': 1, 'hnm': 1, 'leaders': 1, 'barbarouslooking': 1, 'augusti': 1, 'sheets': 1, 'revise': 1, 'elapse': 1, 'precision': 1, 'insomuch': 1, 'cotrone': 1, 'joyously': 1, 'nobility': 1, 'vied': 1, 'treating': 1, 'bigwig': 1, 'marina': 1, 'baron': 1, 'pensive': 1, 'pale': 1, 'quanto': 1, 'clung': 1, 'fearsfor': 1, 'depredations': 1, 'oppressive': 1, 'evident': 1, 'inquietude': 1, 'con': 1, 'voino': 1, 'softness': 1, 'ensured': 1, 'calmed': 1, 'shocked': 1, 'cotrona': 1, 'ticklish': 1, 'subscribed': 1, 'daysand': 1, 'obeyed': 1, 'trepidation': 1, 't': 1, 'coincide': 1, 'himever': 1, 'taranto': 1, 'gallipoli': 1, 'wizard': 1, 'fastsailing': 1, 'palmer': 1, 'mouthfrom': 1, 'twohe': 1, 'attempted': 1, 'downed': 1, 'captured': 1, 'colony': 1, 'justify': 1, 'josephs': 1, 'somebody': 1, 'doadieu': 1, 'ashamed': 1, 'carries': 1, 'fulness': 1, 'warrant': 1, 'slim': 1, 'shooting': 1, 'holes': 1, 'corners': 1, 'arrivals': 1, 'maidayour': 1, 'feb': 1, 'prevents': 1, 'vistula': 1, 'reverse': 1, 'incalculable': 1, 'likewise': 1, 'endeavouring': 1, 'ferment': 1, 'porte': 1, 'defied': 1, 'turkey': 1, 'india': 1, 'ally': 1, 'expedient': 1, 'anticipate': 1, 'dardanelles': 1, 'sturdy': 1, 'commotion': 1, 'fabric': 1, 'dearth': 1, 'political': 1, 'discern': 1, 'endever': 1, 'altho': 1, 'advices': 1, 'designs': 1, 'maintain': 1, 'superfluous': 1, 'fred': 1, 'minorca': 1, 'allever': 1, 'intrepid': 1, 'boothbyi': 1, 'oblige': 1, 'oakes': 1, 'eligible': 1, 'interesti': 1, 'regards': 1, 'fatherthe': 1, 'apprehensions': 1, 'hither': 1, 'epidemic': 1, 'plagued': 1, 'prickly': 1, 'heatif': 1, 'languor': 1, 'puts': 1, 'jollity': 1, 'breakfasted': 1, 'morningno': 1, 'roused': 1, 'pole': 1, 'quicksilver': 1, 'subscribers': 1, 'guinea': 1, 'subscriber': 1, 'pleases': 1, 'classes': 1, 'winner': 1, 'winners': 1, 'weighted': 1, 'handicaps': 1, 'won': 1, 'jockey': 1, 'club': 1, 'additionally': 1, 'regarded': 1, 'buon': 1, 'appetito': 1, 'lots': 1, 'iced': 1, 'robustness': 1, 'strictly': 1, 'blockaded': 1, 'cæsar': 1, 'berthier': 1, 'critically': 1, 'zanti': 1, 'behoves': 1, 'corfuthe': 1, 'fuss': 1, 'memoir': 1, 'reluctantly': 1, 'fearfully': 1, 'unwilling': 1, 'execute': 1, 'older': 1, 'sublimely': 1, 'pictured': 1, 'apprehensive': 1, 'reproach': 1, 'volcanoes': 1, 'suspended': 1, 'sine': 1, 'eruptiontremendous': 1, 'relate': 1, 'eve': 1, 'pagetthe': 1, 'ndin': 1, 'conjectured': 1, 'ireland': 1, 'excepted': 1, 'occasions': 1, 'outoftheway': 1, 'immovably': 1, 'frenchand': 1, 'auxiliaries': 1, 'turks': 1, 'hanged': 1, 'hole': 1, 'earthly': 1, 'goods': 1, 'piety': 1, 'piousi': 1, 'hankering': 1, 'itas': 1, 'encourages': 1, 'gladness': 1, 'recall': 1, 'efficacious': 1, 'restless': 1, 'allude': 1, 'minstrel': 1, 'regent': 1, 'brazil': 1, 'rivet': 1, 'colonya': 1, 'unattended': 1, 'complaints': 1, 'puzzled': 1, 'otherscolonel': 1, 'instancereceive': 1, 'copiously': 1, 'papersor': 1, 'heaps': 1, 'gossip': 1, 'incidents': 1, 'trivial': 1, 'domestic': 1, 'scruple': 1, 'surprises': 1, 'delightfulwhen': 1, 'breathes': 1, 'molly': 1, 'morley': 1, 'barley': 1, 'brookes': 1, 'productive': 1, 'badgers': 1, 'skinny': 1, 'grudge': 1, 'whereever': 1, 'goldsmith': 1, 'untravelled': 1, 'wanders': 1, 'drags': 1, 'lengthening': 1, 'chain': 1, 'noticed': 1, 'goingthere': 1, 'beloved': 1, 'canto': 1, 'ii': 1, 'lap': 1, 'fist': 1, 'neptune': 1, 'drydens': 1, 'popes': 1, 'conviction': 1, 'miltons': 1, 'surpasses': 1, 'reads': 1, 'cumbersome': 1, 'rhyme': 1, 'epic': 1, 'poem': 1, 'relaxes': 1, 'verse': 1, 'grander': 1, 'prefer': 1, 'odyssey': 1, 'georgics': 1, 'æneid': 1, 'servile': 1, 'imitation': 1, 'greek': 1, 'boswells': 1, 'entertainment': 1, 'biographer': 1, 'portrays': 1, 'inconceivable': 1, 'goose': 1, 'universal': 1, 'wisdom': 1, 'coward': 1, 'proved': 1, 'courtsand': 1, 'attachment': 1, 'rectitude': 1, 'thirtysix': 1, 'inst': 1, 'concert': 1, 'quashed': 1, 'epitaph': 1, 'professing': 1, 'sympathy': 1, 'tribute': 1, 'establishing': 1, 'register': 1, 'sunk': 1, 'oblivion': 1, 'decemberthe': 1, 'closes': 1, 'peruse': 1, 'anythingso': 1, 'isits': 1, 'talkyours': 1, 'wight': 1, 'helens': 1, 'fatherif': 1, 'morse': 1, 'adhere': 1, 'youa': 1, 'implicitly': 1, 'lengthen': 1, 'psthere': 1, 'inspire': 1, 'certainty': 1, 'forerun': 1, 'disappointmentadieu': 1, 'lieut': 1, 'siri': 1, 'breaking': 1, 'befriended': 1, 'independent': 1, 'suffer': 1, 'auspices': 1, 'vernon': 1, 'mei': 1, 'obedient': 1, 'hurts': 1, 'jog': 1, 'neighbours': 1, 'efficiency': 1, 'prescribe': 1, 'motions': 1, 'pervades': 1, 'suicides': 1, 'applications': 1, 'lately': 1, 'gladdened': 1, 'heartyour': 1, 'peremptorily': 1, 'remittance': 1, 'anythingever': 1, 'sheerness': 1, 'rambles': 1, 'amity': 1, 'unclouded': 1, 'menofwar': 1, 'piercer': 1, 'hazy': 1, 'moderate': 1, 'breezes': 1, 'fogso': 1, 'faint': 1, 'guidance': 1, 'larboardquarter': 1, 'fogs': 1, 'reef': 1, 'drums': 1, 'ringing': 1, 'bells': 1, 'unknowingly': 1, 'obscurity': 1, 'lee': 1, 'elfsborg': 1, 'contrastcoming': 1, 'seaweather': 1, 'lurch': 1, 'hindmarsh': 1, 'translating': 1, 'dialogues': 1, 'german': 1, 'wellbehaved': 1, 'contemplated': 1, 'twas': 1, 'livednot': 1, 'eryxons': 1, 'brigadiergenerals': 1, 'misgives': 1, 'achieving': 1, 'introduced': 1, 'wan': 1, 'wid': 1, 'tank': 1, 'plaisantess': 1, 'maam': 1, 'curtseyed': 1, 'uttered': 1, 'bakkelseg': 1, 'morgon': 1, 'vakka': 1, 'thikka': 1, 'sandham': 1, 'gigs': 1, 'fiftytwo': 1, 'stopping': 1, 'waterfall': 1, 'expectations': 1, 'invigorated': 1, 'tumbling': 1, 'canal': 1, 'ström': 1, 'trimness': 1, 'culture': 1, 'gleams': 1, 'exclaim': 1, 'exquisitely': 1, 'dwellings': 1, 'windings': 1, 'perspective': 1, 'colonnade': 1, 'trunks': 1, 'embowers': 1, 'calms': 1, 'attunes': 1, 'overpower': 1, 'coals': 1, 'bawlings': 1, 'canals': 1, 'horrors': 1, 'navigation': 1, 'glides': 1, 'dimples': 1, 'hereandthere': 1, 'cascade': 1, 'deserving': 1, 'enwrapping': 1, 'cataracts': 1, 'edet': 1, 'sledgehammer': 1, 'borer': 1, 'polisher': 1, 'whirled': 1, 'norway': 1, 'statement': 1, 'denied': 1, 'misunderstood': 1, 'accuses': 1, 'disrespectin': 1, 'pacify': 1, 'concedes': 1, 'apprises': 1, 'depart': 1, 'remonstrates': 1, 'detention': 1, 'repetition': 1, 'informs': 1, 'forestall': 1, 'storehouses': 1, 'instruments': 1, 'merchantmen': 1, 'implements': 1, 'enlarge': 1, 'edgar': 1, 'cruizer': 1, 'divil': 1, 'joey': 1, 'easterbrook': 1, 'prefers': 1, 'fitzclarence': 1, 'ye': 1, 'snuffs': 1, 'gather': 1, 'spinach': 1, 'newfoundland': 1, 'refuge': 1, 'neatly': 1, 'skinned': 1, 'benefit': 1, 'rascals': 1, 'prudential': 1, 'motives': 1, 'brunswick': 1, 'swan': 1, 'russell': 1, 'steadily': 1, 'jackson': 1, 'crowe': 1, 'marines': 1, 'strenuous': 1, 'bodily': 1, 'nasty': 1, 'superbs': 1, 'stern': 1, 'poop': 1, 'farewells': 1, 'fouler': 1, 'prettylooking': 1, 'parklike': 1, 'lucas': 1, 'strom': 1, 'clerk': 1, 'undertakes': 1, 'robbing': 1, 'dishonesty': 1, 'swedes': 1, 'diable': 1, 'pointing': 1, 'driver': 1, 'deception': 1, 'tract': 1, 'shining': 1, 'sketched': 1, 'harbours': 1, 'everslip': 1, 'dispatch': 1, 'oven': 1, 'manylegged': 1, 'reptile': 1, 'payment': 1, 'tanka': 1, 'arrivesrelieved': 1, 'robed': 1, 'bade': 1, 'fictitious': 1, 'reins': 1, 'crick': 1, 'click': 1, 'hie': 1, 'grass': 1, 'shrub': 1, 'gleamed': 1, 'orb': 1, 'exalted': 1, 'morn': 1, 'crimson': 1, 'chose': 1, 'translucent': 1, 'sheds': 1, 'glowing': 1, 'tints': 1, 'spreads': 1, 'refulgence': 1, 'regerberg': 1, 'roost': 1, 'glumslouf': 1, 'beautifulwooded': 1, 'copenhagen': 1, 'diverted': 1, 'hostler': 1, 'halfpence': 1, 'procures': 1, 'sweat': 1, 'delightedly': 1, 'lave': 1, 'afresh': 1, 'freed': 1, 'consuls': 1, 'bertie': 1, 'snuffbox': 1, 'fridayget': 1, 'calypsos': 1, 'fourdelightful': 1, 'swarming': 1, 'weighs': 1, 'mondayfall': 1, 'dutch': 1, 'fishingboat': 1, 'dozen': 1, 'mackerel': 1, 'breezebeautiful': 1, 'dyinggreen': 1, 'codfish': 1, 'ling': 1, 'dogfish': 1, 'cabinetmaker': 1, 'indigo': 1, 'tinged': 1, 'dipt': 1, 'tinctured': 1, 'fretted': 1, 'vapours': 1, 'blended': 1, 'wilder': 1, 'roseate': 1, 'glow': 1, 'glassy': 1, 'heaved': 1, 'refulgent': 1, 'shone': 1, 'underneath': 1, 'dim': 1, 'mingled': 1, 'rainimperceptible': 1, 'slip': 1, 'amfair': 1, 'per': 1, 'suspicious': 1, 'privateer': 1, 'greenland': 1, 'schooner': 1, 'norfolk': 1, 'amas': 1, 'relents': 1, 'envious': 1, 'obscures': 1, 'clears': 1, 'gig': 1, 'hourly': 1, 'fretful': 1, 'coarse': 1, 'jackets': 1, 'trousers': 1, 'compunction': 1, 'conscience': 1, 'undergone': 1, 'hardships': 1, 'smothered': 1, 'severity': 1, 'disapprobation': 1, 'milnes': 1, 'mrs': 1, 'meynell': 1, 'louisafirst': 1, 'tenterhooks': 1, 'motto': 1, 'discourse': 1, 'peregrinations': 1, 'travels': 1, 'circumstantial': 1, 'tenderhearted': 1, 'exist': 1, 'saumarcys': 1, 'threedeckers': 1, 'broadside': 1, 'meanwhile': 1, 'masterly': 1, 'clarence': 1, 'sham': 1, 'seafight': 1, 'lords': 1, 'enclose': 1, 'easterbrooke': 1, 'monkey': 1, 'lordships': 1, 'odd': 1, 'sly': 1, 'fling': 1, 'writesdear': 1, 'madam': 1, 'youngstersa': 1, 'prattle': 1, 'originals': 1, 'admiralty': 1, 'graciously': 1, 'acceded': 1, 'raptures': 1, 'fetter': 1, 'unfettered': 1, 'wretchedly': 1, 'fidgety': 1, 'delayed': 1, 'custom': 1, 'amstart': 1, 'louisahere': 1, 'officeever': 1, 'tuesdayne': 1, 'nw': 1, 'fortytwo': 1, 'wednesdayoff': 1, 'albans': 1, 'worktoss': 1, 'stercoraceous': 1, 'smells': 1, 'berth': 1, 'stains': 1, 'freshens': 1, 'tailor': 1, 'resist': 1, 'coaches': 1, 'dresses': 1, 'feasts': 1, 'veer': 1, 'ama': 1, 'drake': 1, 'sundayweigh': 1, 'bight': 1, 'sisterencountering': 1, 'rakish': 1, 'thickness': 1, 'bothering': 1, 'chickens': 1, 'waddle': 1, 'jacks': 1, 'tar': 1, 'coop': 1, 'sneeze': 1, 'quack': 1, 'speechless': 1, 'oclocksad': 1, 'lisbonever': 1, 'mondayfrench': 1, 'twentygun': 1, 'disguised': 1, 'outsailed': 1, 'crowded': 1, 'thirtyfive': 1, 'minutes': 1, 'fridaywind': 1, 'duck': 1, 'foretopsail': 1, 'peering': 1, 'flexible': 1, 'antonio': 1, 'aloft': 1, 'foolas': 1, 'aft': 1, 'foreside': 1, 'enraged': 1, 'goshawk': 1, 'slimmerbodied': 1, 'pinions': 1, 'hawk': 1, 'slightly': 1, 'deviating': 1, 'bulk': 1, 'hooked': 1, 'piercing': 1, 'triangular': 1, 'webs': 1, 'claws': 1, 'thoughtlessly': 1, 'antonios': 1, 'saturdayat': 1, 'larboard': 1, 'drops': 1, 'weathered': 1, 'refusing': 1, 'liberate': 1, 'chances': 1, 'namely': 1, 'earnestly': 1, 'stooped': 1, 'cutting': 1, 'rowed': 1, 'amazing': 1, 'swiftness': 1, 'seeming': 1, 'stealing': 1, 'hove': 1, 'swell': 1, 'dive': 1, 'clapping': 1, 'swallowed': 1, 'likes': 1, 'restore': 1, 'disgusted': 1, 'nastiness': 1, 'potluck': 1, 'scorning': 1, 'devotion': 1, 'cleansed': 1, 'landcape': 1, 'mondaythis': 1, 'leapt': 1, 'stuffed': 1, 'stayed': 1, 'amuse': 1, 'wednesdayfogs': 1, 'thursdaya': 1, 'fridaybreeze': 1, 'onions': 1, 'apples': 1, 'steer': 1, 'wsw': 1, 'wednesdayat': 1, 'burrards': 1, 'abreast': 1, 'maer': 1, 'wellesleys': 1, 'eurydice': 1, 'halifax': 1, 'tacking': 1, 'boardthe': 1, 'mayneprimrose': 1, 'sloop': 1, 'astray': 1, 'fridaysignal': 1, 'mafia': 1, 'stirling': 1, 'louisaafter': 1, 'noon': 1, 'named': 1, 'unaccountably': 1, 'rochefort': 1, 'await': 1, 'negotiations': 1, 'autocrat': 1, 'relatively': 1, 'kneel': 1, 'persisted': 1, 'hostilities': 1, 'capitulation': 1, 'humbled': 1, 'intent': 1, 'stout': 1, 'saturdaypenelopes': 1, 'blunt': 1, 'buffs': 1, 'orderly': 1, 'irishwoman': 1, 'sundaysee': 1, 'righted': 1, 'reputed': 1, 'corkcork': 1, 'damp': 1, 'hewn': 1, 'pebble': 1, 'drevil': 1, 'ws': 1, 'readiness': 1, 'artificer': 1, 'vendas': 1, 'novas': 1, 'kitchens': 1, 'staring': 1, 'wainscoting': 1, 'sterility': 1, 'camps': 1, 'ewers': 1, 'reexamine': 1, 'breakfasttea': 1, 'orangeslatter': 1, 'prioress': 1, 'domingothe': 1, 'cakes': 1, 'ravages': 1, 'arrayolos': 1, 'venda': 1, 'dogue': 1, 'farmer': 1, 'preferring': 1, 'industry': 1, 'starving': 1, 'gentility': 1, 'foura': 1, 'adjutant': 1, 'gaze': 1, 'propose': 1, 'encamp': 1, 'authenticate': 1, 'suspension': 1, 'townone': 1, 'supplying': 1, 'colonels': 1, 'dinnera': 1, 'rice': 1, 'sausages': 1, 'merrily': 1, 'fernando': 1, 'septimo': 1, 'roars': 1, 'replies': 1, 'thundering': 1, 'resounds': 1, 'doubts': 1, 'errand': 1, 'bids': 1, 'cavalrytrue': 1, 'vexed': 1, 'arbitrary': 1, 'enforce': 1, 'damning': 1, 'pomp': 1, 'bishopa': 1, 'surrendering': 1, 'hospitable': 1, 'cavalrymens': 1, 'rains': 1, 'batteriesfour': 1, 'gunsand': 1, 'poetry': 1, 'rs': 1, 'sundayseek': 1, 'coffeehouse': 1, 'nauseous': 1, 'gamed': 1, 'stank': 1, 'cavalrya': 1, 'starsundertook': 1, 'interpretation': 1, 'petrified': 1, 'roared': 1, 'cavalier': 1, 'colbourns': 1, 'difficultiesno': 1, 'admittance': 1, 'communicating': 1, 'consulting': 1, 'troubled': 1, 'ate': 1, 'overcome': 1, 'hydrophobia': 1, 'sinking': 1, 'smiling': 1, 'solemn': 1, 'gloom': 1, 'cup': 1, 'entreaty': 1, 'bersim': 1, 'voilà': 1, 'cheval': 1, 'encore': 1, 'demeanour': 1, 'contrasted': 1, 'jokes': 1, 'merriment': 1, 'florid': 1, 'em': 1, 'softly': 1, 'heartily': 1, 'goodfornothing': 1, 'suspect': 1, 'difference': 1, 'languages': 1, 'doubting': 1, 'settling': 1, 'probity': 1, 'recommence': 1, 'injure': 1, 'rancour': 1, 'unanswered': 1, 'messieurs': 1, 'assassinate': 1, 'spake': 1, 'reminding': 1, 'drift': 1, 'speech': 1, 'assent': 1, 'agitated': 1, 'throats': 1, 'enormities': 1, 'erasure': 1, 'crash': 1, 'denmark': 1, 'smiled': 1, 'apology': 1, 'noblest': 1, 'clothe': 1, 'utterly': 1, 'reprobated': 1, 'obriens': 1, 'welljudging': 1, 'extracts': 1, 'backs': 1, 'hereabouts': 1, 'insists': 1, 'crying': 1, 'embracing': 1, 'peaches': 1, 'angelica': 1, 'biscuits': 1, 'macaroons': 1, 'villavicosa': 1, 'bottles': 1, 'pink': 1, 'claret': 1, 'jeramenha': 1, 'disgorging': 1, 'villaboim': 1, 'chaste': 1, 'monseigneur': 1, 'frenzy': 1, 'manytongued': 1, 'wildlooking': 1, 'carthusian': 1, 'los': 1, 'nostras': 1, 'amicos': 1, 'ingleses': 1, 'cooked': 1, 'byron': 1, 'wade': 1, 'toasts': 1, 'filial': 1, 'narrowly': 1, 'asthmatic': 1, 'pastor': 1, 'understands': 1, 'voltaire': 1, 'racine': 1, 'molière': 1, 'books': 1, 'prose': 1, 'cela': 1, 'coutera': 1, 'cher': 1, 'mais': 1, 'le': 1, 'prendra': 1, 'irish': 1, 'prussia': 1, 'seville': 1, 'authorise': 1, 'obedience': 1, 'curdling': 1, 'freeing': 1, 'patriotic': 1, 'actuate': 1, 'quelled': 1, 'wayworn': 1, 'hedge': 1, 'corpse': 1, 'grayheaded': 1, 'interpreting': 1, 'favouring': 1, 'jestingly': 1, 'pensivelooking': 1, 'snuggle': 1, 'persuasively': 1, 'hated': 1, 'knives': 1, 'bleeding': 1, 'token': 1, 'dame': 1, 'wellnigh': 1, 'assassinated': 1, 'surgeon': 1, 'umbrage': 1, 'inspect': 1, 'virtuous': 1, 'diffidence': 1, 'profit': 1, 'jaunt': 1, 'preparatory': 1, 'moreyours': 1, 'merida': 1, 'congratulate': 1, 'darcy': 1, 'salorino': 1, 'keeper': 1, 'domains': 1, 'regal': 1, 'cantillano': 1, 'loses': 1, 'piedrabuena': 1, 'escort': 1, 'artisan': 1, 'spit': 1, 'abominable': 1, 'marvel': 1, 'toilette': 1, 'toothbrush': 1, 'nailbrush': 1, 'shavingbrush': 1, 'soap': 1, 'gulliver': 1, 'lilliput': 1, 'cam': 1, 'flows': 1, 'balloravery': 1, 'joins': 1, 'guitar': 1, 'illnatured': 1, 'halfi': 1, 'howbewitching': 1, 'sang': 1, 'lover': 1, 'fetch': 1, 'visited': 1, 'estremadura': 1, 'segura': 1, 'im': 1, 'eaten': 1, 'thimbleful': 1, 'plucked': 1, 'steaks': 1, 'acorns': 1, 'pulls': 1, 'rosmaninhal': 1, 'monforte': 1, 'grows': 1, 'declares': 1, 'hovel': 1, 'cot': 1, 'blazing': 1, 'bacon': 1, 'roast': 1, 'chicken': 1, 'chamber': 1, 'traverse': 1, 'tiresome': 1, 'velha': 1, 'curiously': 1, 'plaguing': 1, 'alpalhao': 1, 'parr': 1, 'commissary': 1, 'crawford': 1, 'commands': 1, 'ave': 1, 'marias': 1, 'visits': 1, 'speaks': 1, 'twentyeight': 1, 'sta': 1, 'olaya': 1, 'kintas': 1, 'woodchafers': 1, 'tumble': 1, 'upbraid': 1, 'bella': 1, 'cosa': 1, 'consumption': 1, 'danced': 1, 'toothless': 1, 'commit': 1, 'penalty': 1, 'inevitably': 1, 'dove': 1, 'dudate': 1, 'impeded': 1, 'central': 1, 'scope': 1, 'vehemence': 1, 'interpret': 1, 'alaughing': 1, 'shoe': 1, 'pinched': 1, 'disputes': 1, 'behindhand': 1, 'facilitate': 1, 'applauded': 1, 'moderation': 1, 'plot': 1, 'gonsalaz': 1, 'madrigal': 1, 'vociferated': 1, 'claims': 1, 'punish': 1, 'laughed': 1, 'restrain': 1, 'arroyo': 1, 'puerco': 1, 'thinly': 1, 'underspread': 1, 'insensibly': 1, 'casting': 1, 'upward': 1, 'etherealised': 1, 'chequered': 1, 'solemnity': 1, 'bothered': 1, 'subtilties': 1, 'soarings': 1, 'airy': 1, 'heavens': 1, 'feels': 1, 'converted': 1, 'analogy': 1, 'sordid': 1, 'crowning': 1, 'rockgnarled': 1, 'stag': 1, 'politely': 1, 'kissed': 1, 'handbeautiful': 1, 'mouldering': 1, 'thundered': 1, 'sounding': 1, 'hoarse': 1, 'demanded': 1, 'whos': 1, 'grating': 1, 'snug': 1, 'steward': 1, 'estate': 1, 'portachio': 1, 'cordiality': 1, 'comforted': 1, 'curtains': 1, 'cleanliness': 1, 'mantilla': 1, 'rolling': 1, 'jet': 1, 'curls': 1, 'administrator': 1, 'disputed': 1, 'popery': 1, 'wolf': 1, 'anteroom': 1, 'cleanlooking': 1, 'delightfully': 1, 'fearless': 1, 'wolves': 1, 'thieves': 1, 'borrow': 1, 'purchase': 1, 'fortythree': 1, 'cockades': 1, 'laughs': 1, 'mortifying': 1, 'fret': 1, 'entertains': 1, 'drollery': 1, 'remarks': 1, 'acute': 1, 'withal': 1, 'unobtrusive': 1, 'sulky': 1, 'cookery': 1, 'providonata': 1, 'velvet': 1, 'overalls': 1, 'gilmore': 1, 'kickery': 1, 'rogue': 1, 'boundary': 1, 'cockade': 1, 'insist': 1, 'arranges': 1, 'paymaster': 1, 'achieves': 1, 'inspected': 1, 'regimental': 1, 'nbthe': 1, 'ferret': 1, 'presque': 1, 'désespoir': 1, 'holloaing': 1, 'chaplain': 1, 'undertook': 1, 'tabletto': 1, 'pint': 1, 'beans': 1, 'goatexecrable': 1, 'fandango': 1, 'quickly': 1, 'vamos': 1, 'girls': 1, 'glorified': 1, 'dizened': 1, 'costume': 1, 'preserving': 1, 'gravity': 1, 'dignity': 1, 'awes': 1, 'boors': 1, 'hats': 1, 'raising': 1, 'quell': 1, 'disturbance': 1, 'officerstilford': 1, 'fallsin': 1, 'bayed': 1, 'mischief': 1, 'fright': 1, 'darted': 1, 'calling': 1, 'hell': 1, 'cuffing': 1, 'disorderly': 1, 'ungovernable': 1, 'heeded': 1, 'corporal': 1, 'daggers': 1, 'plenary': 1, 'bawled': 1, 'damned': 1, 'inflamed': 1, 'hemmed': 1, 'clashing': 1, 'stabs': 1, 'kill': 1, 'saved': 1, 'tumultuously': 1, 'blackly': 1, 'answerable': 1, 'madness': 1, 'unarmed': 1, 'murder': 1, 'settles': 1, 'conciliating': 1, 'clamoured': 1, 'grenadiers': 1, 'fray': 1, 'jostled': 1, 'apologies': 1, 'thankful': 1, 'cogent': 1, 'perniciously': 1, 'lyingly': 1, 'insulted': 1, 'toledo': 1, 'thrust': 1, 'complains': 1, 'beckwith': 1, 'gothic': 1, 'inscription': 1, 'trajan': 1, 'roundness': 1, 'rubbing': 1, 'catching': 1, 'sin': 1, 'chaos': 1, 'piers': 1, 'clamped': 1, 'relique': 1, 'involves': 1, 'antiquary': 1, 'historian': 1, 'rude': 1, 'mouldered': 1, 'joints': 1, 'dadthe': 1, 'entry': 1, 'rainy': 1, 'devoutly': 1, 'effects': 1, 'bands': 1, 'allied': 1, 'rambled': 1, 'quixote': 1, 'stud': 1, 'chargers': 1, 'establishment': 1, 'spurn': 1, 'cigar': 1, 'embarrassment': 1, 'redeem': 1, 'unfit': 1, 'id': 1, 'offend': 1, 'unaffected': 1, 'leckie': 1, 'hospitably': 1, 'creditably': 1, 'missionary': 1, 'happywith': 1, 'apologises': 1, 'tin': 1, 'washhand': 1, 'emerge': 1, 'ridges': 1, 'castles': 1, 'beings': 1, 'torch': 1, 'puerte': 1, 'desalto': 1, 'marvellously': 1, 'climbing': 1, 'lift': 1, 'reveal': 1, 'bunch': 1, 'sever': 1, 'amass': 1, 'ravines': 1, 'development': 1, 'stumps': 1, 'heath': 1, 'bordered': 1, 'chaotic': 1, 'oak': 1, 'continues': 1, 'guest': 1, 'betimes': 1, 'brats': 1, 'pot': 1, 'porridge': 1, 'apiece': 1, 'omelet': 1, 'restivissimo': 1, 'gallop': 1, 'docilely': 1, 'enclosures': 1, 'ollerton': 1, 'hollow': 1, 'threaten': 1, 'attacks': 1, 'ronch': 1, 'palaver': 1, 'dungeonroom': 1, 'malaga': 1, 'watchmaker': 1, 'fond': 1, 'detest': 1, 'apartments': 1, 'acquaintances': 1, 'doorfletcher': 1, 'agueda': 1, 'beneath': 1, 'hexagonal': 1, 'conception': 1, 'ravelin': 1, 'blacky': 1, 'attempts': 1, 'en': 1, 'cuba': 1, 'sundaybreakfast': 1, 'prevails': 1, 'offeney': 1, 'tormerellas': 1, 'sicklylooking': 1, 'confesses': 1, 'delivers': 1, 'papersa': 1, 'requisition': 1, 'rations': 1, 'forage': 1, 'besseares': 1, 'bulletin': 1, 'announcing': 1, 'palafax': 1, 'deemed': 1, 'penetrate': 1, 'stagnant': 1, 'fresno': 1, 'fuente': 1, 'hideous': 1, 'mill': 1, 'coimbra': 1, 'bourdeaux': 1, 'grandees': 1, 'hostages': 1, 'rout': 1, 'rosseda': 1, 'intelligencer': 1, 'sedgy': 1, 'poolly': 1, 'shuddering': 1, 'thereon': 1, 'whoever': 1, 'immersed': 1, 'sundaygeneral': 1, 'bahel': 1, 'fuenta': 1, 'ruella': 1, 'wander': 1, 'flock': 1, 'whistle': 1, 'upright': 1, 'curate': 1, 'birth': 1, 'parentage': 1, 'guarded': 1, 'dukes': 1, 'ambassador': 1, 'desists': 1, 'muscovite': 1, 'goraze': 1, 'intendente': 1, 'marchioness': 1, 'dungcart': 1, 'donkeys': 1, 'sunbright': 1, 'advances': 1, 'thickest': 1, 'grope': 1, 'indoors': 1, 'alba': 1, 'repulsed': 1, 'parisi': 1, 'throne': 1, 'plant': 1, 'eagles': 1, 'thirtyseven': 1, 'landlord': 1, 'bloody': 1, 'redress': 1, 'wrongs': 1, 'hears': 1, 'reciting': 1, 'grievances': 1, 'chide': 1, 'knockings': 1, 'humorous': 1, 'disturbances': 1, 'bayley': 1, 'tiedra': 1, 'villalpando': 1, 'exclamations': 1, 'confab': 1, 'valderas': 1, 'underrun': 1, 'cea': 1, 'benumbed': 1, 'pagetand': 1, 'omitted': 1, 'related': 1, 'chat': 1, 'refrained': 1, 'cursory': 1, 'asturias': 1, 'mutual': 1, 'patroles': 1, 'descriptions': 1, 'hussars': 1, 'picquet': 1, 'qui': 1, 'vive': 1, 'impetuosity': 1, 'singlehanded': 1, 'ensuing': 1, 'lieutenantcolonels': 1, 'nephew': 1, 'josephine': 1, 'proportionately': 1, 'latterly': 1, 'alive': 1, 'forgot': 1, 'allthat': 1, 'seriously': 1, 'evinced': 1, 'muff': 1, 'hussar': 1, 'cap': 1, 'nonresistance': 1, 'hacked': 1, 'casques': 1, 'ardently': 1, 'drummerat': 1, 'damnation': 1, 'bolted': 1, 'disinterestedgod': 1, 'sundaymarch': 1, 'mayorga': 1, 'kicks': 1, 'rows': 1, 'ammunition': 1, 'waggons': 1, 'tag': 1, 'rag': 1, 'bobtail': 1, 'executes': 1, 'mastery': 1, 'accomplishment': 1, 'rake': 1, 'perseveres': 1, 'v': 1, 'hooting': 1, 'shoving': 1, 'splashing': 1, 'sash': 1, 'mislaid': 1, 'olla': 1, 'sallying': 1, 'unoffending': 1, 'despoiled': 1, 'homes': 1, 'social': 1, 'tie': 1, 'jagged': 1, 'root': 1, 'desponding': 1, 'devilish': 1, 'numbing': 1, 'shots': 1, 'piles': 1, 'inclemency': 1, 'crackling': 1, 'glares': 1, 'sunlike': 1, 'promontories': 1, 'subcurrent': 1, 'teeth': 1, 'cursed': 1, 'saws': 1, 'woodwork': 1, 'shivered': 1, 'sharp': 1, 'ensues': 1, 'worsted': 1, 'reswim': 1, 'drowned': 1, 'eveleighs': 1, 'troop': 1, 'dispositions': 1, 'edging': 1, 'videttes': 1, 'carbines': 1, 'shrapnels': 1, 'explosion': 1, 'griffiths': 1, 'inroads': 1, 'fought': 1, 'mul': 1, 'tramp': 1, 'qmgs': 1, 'cgs': 1, 'franticated': 1, 'transmit': 1, 'impediment': 1, 'consumed': 1, 'geo': 1, 'saturdayvery': 1, 'infernally': 1, 'proposes': 1, 'secretly': 1, 'sentry': 1, 'sundaygo': 1, 'frank': 1, 'devoured': 1, 'seventytwo': 1, 'chabot': 1, 'aqmg': 1, 'hutchinson': 1, 'monbuey': 1, 'ensign': 1, 'endeavours': 1, 'p': 1, 'apprise': 1, 'com': 1, 'commissaries': 1, 'devilment': 1, 'departs': 1, 'conceiving': 1, 'encloses': 1, 'cadets': 1, 'alonzo': 1, 'gonzalis': 1, 'brazier': 1, 'principally': 1, 'theoretically': 1, 'wondering': 1, 'car': 1, 'shrapnel': 1, 'swears': 1, 'scouted': 1, 'fridaystart': 1, 'ice': 1, 'thaws': 1, 'undermined': 1, 'thaw': 1, 'rabbit': 1, 'warrens': 1, 'flounders': 1, 'stinks': 1, 'cooking': 1, 'pop': 1, 'rosary': 1, 'aloud': 1, 'maria': 1, 'dios': 1, 'chimed': 1, 'prayer': 1, 'whale': 1, 'adjoining': 1, 'drenched': 1, 'calculation': 1, 'valdi': 1, 'winding': 1, 'gardensthe': 1, 'eden': 1, 'consult': 1, 'apothecary': 1, 'soever': 1, 'voracious': 1, 'jumpers': 1, 'hopped': 1, 'feverish': 1, 'enticing': 1, 'parched': 1, 'palate': 1, 'prompts': 1, 'qualmish': 1, 'veto': 1, 'baboonfaced': 1, 'cure': 1, 'sopped': 1, 'scalding': 1, 'murrays': 1, 'resolve': 1, 'disfatigue': 1, 'labyrinthine': 1, 'thawed': 1, 'evitate': 1, 'descry': 1, 'persist': 1, 'deathlike': 1, 'galician': 1, 'torches': 1, 'dreary': 1, 'villadita': 1, 'smartlooking': 1, 'rail': 1, 'maid': 1, 'witch': 1, 'compliments': 1, 'mouldy': 1, 'faded': 1, 'nook': 1, 'mondayget': 1, 'malady': 1, 'quart': 1, 'bother': 1, 'headed': 1, 'betanzos': 1, 'assurance': 1, 'credulity': 1, 'spreading': 1, 'break': 1, 'tore': 1, 'attacking': 1, 'contenting': 1, 'operating': 1, 'expeditiously': 1, 'bas': 1, 'vouch': 1, 'shorter': 1, 'apprised': 1, 'detached': 1, 'turbid': 1, 'timbers': 1, 'fragments': 1, 'hurled': 1, 'tops': 1, 'blasts': 1, 'impending': 1, 'steepness': 1, 'lengthens': 1, 'teasingly': 1, 'uncertainty': 1, 'barbarous': 1, 'arrogant': 1, 'ungenerous': 1, 'enlightened': 1, 'exculpating': 1, 'scent': 1, 'insipid': 1, 'complexion': 1, 'confidently': 1, 'samuel': 1, 'needless': 1, 'exterior': 1, 'prepossessing': 1, 'strangers': 1, 'greeted': 1, 'risen': 1, 'reestablished': 1, 'undisturbed': 1, 'pyrenees': 1, 'effective': 1, 'hutted': 1, 'elevation': 1, 'smaller': 1, 'relinquish': 1, 'turnedⴲ': 1, 'intersected': 1, 'fences': 1, 'spiltportwine': 1, 'xxx': 1, 'improved': 1, 'fatally': 1, 'incurred': 1, 'pretending': 1, 'withstand': 1, 'barrier': 1, 'outer': 1, 'demonstration': 1, 'positions': 1, 'magazine': 1, 'elvina': 1, 'warfare': 1, 'groups': 1, 'individuals': 1, 'twice': 1, 'parade': 1, 'cautions': 1, 'eagerness': 1, 'securing': 1, 'skirmishing': 1, 'wore': 1, 'understanding': 1, 'embattled': 1, 'erection': 1, 'prevail': 1, 'shovel': 1, 'clock': 1, 'dial': 1, 'frisked': 1, 'loosed': 1, 'tattered': 1, 'halfdeadlooking': 1, 'trustworthy': 1, 'explanations': 1, 'aidesdecamp': 1, 'slackened': 1, 'saddle': 1, 'ho': 1, 'drivers': 1, 'saddled': 1, 'dangerously': 1, 'count': 1, 'overshots': 1, 'leaned': 1, 'clump': 1, 'attentively': 1, 'slacken': 1, 'instinctively': 1, 'potter': 1, 'hotter': 1, 'glorying': 1, 'obstinacy': 1, 'longcontinued': 1, 'unabated': 1, 'relieving': 1, 'assailed': 1, 'forgive': 1, 'indifferent': 1, 'volleying': 1, 'warmed': 1, 'huzzas': 1, 'whats': 1, 'chastely': 1, 'accuracy': 1, 'compatible': 1, 'smoothness': 1, 'entireness': 1, 'piece': 1, 'bleed': 1, 'satisfactory': 1, 'minute': 1, 'cowed': 1, 'completing': 1, 'protecting': 1, 'ditches': 1, 'unnecessary': 1, 'suspicion': 1, 'fires': 1, 'slinking': 1, 'acting': 1, 'magnitude': 1, 'banged': 1, 'pounder': 1, 'unacceptable': 1, 'cartridges': 1, 'wads': 1, 'jealous': 1, 'forbade': 1, 'scrupulous': 1, 'spontaneous': 1, 'checkedso': 1, 'spike': 1, 'lamented': 1, 'calamities': 1, 'candidly': 1, 'complement': 1, 'idiotic': 1, 'disobedience': 1, 'incompatible': 1, 'heed': 1, 'longing': 1, 'despise': 1, 'rascality': 1, 'victuals': 1, 'inner': 1, 'unlock': 1, 'tavern': 1, 'fieldpieces': 1, 'hurtful': 1, 'fleur': 1, 'deau': 1, 'hulled': 1, 'innocuously': 1, 'effectually': 1, 'cables': 1, 'adrift': 1, 'leeward': 1, 'trunk': 1, 'shove': 1, 'bilge': 1, 'sailor': 1, 'manofwars': 1, 'gladly': 1, 'completes': 1, 'proceedingsyour': 1, 'johannes': 1, 'exercitûs': 1, 'britannici': 1, 'dux': 1, 'præbio': 1, 'occisus': 1, 'burial': 1, 'drum': 1, 'funeral': 1, 'corse': 1, 'darkly': 1, 'sods': 1, 'struggling': 1, 'moonbeams': 1, 'misty': 1, 'lantern': 1, 'coffin': 1, 'shroud': 1, 'warrior': 1, 'prayers': 1, 'steadfastly': 1, 'morrow': 1, 'dock': 1, 'fatheryou': 1, 'penny': 1, 'cordial': 1, 'devoting': 1, 'blamed': 1, 'talkative': 1, 'catchpenny': 1, 'cools': 1, 'blindness': 1, 'selflove': 1, 'laborious': 1, 'diligently': 1, 'conscientiously': 1, 'latest': 1, 'expired': 1, 'youyour': 1, 'amply': 1, 'compensated': 1, 'admits': 1, 'motherthe': 1, 'slower': 1, 'rightthinkingest': 1, 'rusty': 1, 'welldressed': 1, 'beaux': 1, 'embrace': 1, 'thorough': 1, 'patron': 1, 'reward': 1, 'ungrateful': 1, 'crafty': 1, 'selfinterested': 1, 'politicians': 1, 'impalpable': 1, 'offending': 1, 'bilious': 1, 'medicine': 1, 'endearments': 1, 'drama': 1, 'familys': 1, 'shudder': 1, 'renewing': 1, 'delighting': 1, 'admission': 1, 'immensurate': 1, 'consonant': 1, 'masculine': 1, 'welltempered': 1, 'equality': 1, 'vainly': 1, 'smothering': 1, 'housemilnes': 1, 'lumley': 1, 'cleavers': 1, 'postbag': 1, 'mothers': 1, 'paled': 1, 'calmly': 1, 'anxieties': 1, 'professed': 1, 'safeguard': 1, 'unhealthy': 1, 'colonies': 1, 'vaguely': 1, 'éclat': 1, 'spunk': 1, 'regrets': 1, 'smother': 1, 'tastes': 1, 'kick': 1, 'consistency': 1, 'aching': 1, 'lumleys': 1, 'abandon': 1, 'grew': 1, 'glanced': 1, 'illumine': 1, 'benignant': 1, 'harmonious': 1, 'uproar': 1, 'rejoicing': 1, 'restrained': 1, 'welbeck': 1, 'sorrowful': 1, 'annulled': 1, 'holds': 1, 'newark': 1, 'rid': 1, 'kindred': 1, 'weep': 1, 'leavetaking': 1, 'boisterous': 1, 'sprang': 1, 'leak': 1, 'craddock': 1, 'reembark': 1, 'victor': 1, 'movable': 1, 'reembarkation': 1, 'iberian': 1, 'salutary': 1, 'louafter': 1, 'bet': 1, 'expiration': 1, 'intolerably': 1, 'inexpressibly': 1, 'captivating': 1, 'portal': 1, 'wildness': 1, 'feature': 1, 'grinning': 1, 'bar': 1, 'antique': 1, 'belim': 1, 'visitor': 1, 'perceiving': 1, 'loftiness': 1, 'presents': 1, 'embosomed': 1, 'fretwork': 1, 'rigging': 1, 'busily': 1, 'twine': 1, 'pliant': 1, 'commerce': 1, 'backed': 1, 'flora': 1, 'lavish': 1, 'umbrageous': 1, 'manycoloured': 1, 'thickets': 1, 'precipices': 1, 'theatric': 1, 'architectural': 1, 'slashes': 1, 'nested': 1, 'vegetable': 1, 'profusion': 1, 'imaginable': 1, 'snatch': 1, 'thrice': 1, 'exclaims': 1, 'thine': 1, 'towering': 1, 'mass': 1, 'housesellers': 1, 'pompous': 1, 'sceptre': 1, 'courteous': 1, 'excites': 1, 'marts': 1, 'riches': 1, 'pushes': 1, 'awaits': 1, 'serves': 1, 'reconducts': 1, 'rua': 1, 'aurta': 1, 'jewellers': 1, 'goldworkers': 1, 'handsomely': 1, 'colossal': 1, 'equestrian': 1, 'statue': 1, 'abounding': 1, 'metal': 1, 'jeweller': 1, 'sits': 1, 'displays': 1, 'glazed': 1, 'boxes': 1, 'commodities': 1, 'buyer': 1, 'commodity': 1, 'alluring': 1, 'passenger': 1, 'superbly': 1, 'formal': 1, 'performers': 1, 'provincial': 1, 'equipages': 1, 'barbarity': 1, 'leathern': 1, 'straps': 1, 'relics': 1, 'observing': 1, 'squalid': 1, 'rags': 1, 'disgusting': 1, 'cripples': 1, 'augment': 1, 'deformities': 1, 'arouse': 1, 'dormant': 1, 'laughable': 1, 'slides': 1, 'assails': 1, 'alla': 1, 'discharges': 1, 'inequality': 1, 'plagues': 1, 'offends': 1, 'diverts': 1, 'peevishness': 1, 'rewards': 1, 'hotels': 1, 'inns': 1, 'decent': 1, 'noticing': 1, 'aqueduct': 1, 'stretches': 1, 'valley': 1, 'accurately': 1, 'royals': 1, 'studdingsails': 1, 'stupefying': 1, 'illustrated': 1, 'involuntary': 1, 'teach': 1, 'stake': 1, 'popular': 1, 'demonstrated': 1, 'balance': 1, 'supporting': 1, 'firmly': 1, 'whitelock': 1, 'statesmenthat': 1, 'generalhad': 1, 'incapable': 1, 'offensive': 1, 'crisis': 1, 'erroneous': 1, 'indiscreet': 1, 'breathings': 1, 'conversed': 1, 'improbable': 1, 'bracing': 1, 'recommendation': 1, 'delegated': 1, 'department': 1, 'personage': 1, 'intimacy': 1, 'dispense': 1, 'ceremony': 1, 'invalid': 1, 'persuade': 1, 'inmate': 1, 'invitation': 1, 'reap': 1, 'slightest': 1, 'carrier': 1, 'mates': 1, 'trio': 1, 'union': 1, 'boyhood': 1, 'convivial': 1, 'festive': 1, 'bland': 1, 'offended': 1, 'reparation': 1, 'averse': 1, 'duelling': 1, 'peaceably': 1, 'mediator': 1, 'adjustment': 1, 'ruled': 1, 'unvarying': 1, 'resolution': 1, 'hostile': 1, 'fieldday': 1, 'ceremoniously': 1, 'teasing': 1, 'tangible': 1, 'asserted': 1, 'untruth': 1, 'accusation': 1, 'imperfections': 1, 'insignificance': 1, 'usage': 1, 'unfitting': 1, 'unskilled': 1, 'apt': 1, 'unprovoked': 1, 'assailant': 1, 'ensue': 1, 'flippancy': 1, 'happen': 1, 'bullet': 1, 'lasting': 1, 'enmity': 1, 'ghastliness': 1, 'weltering': 1, 'shed': 1, 'submits': 1, 'atonement': 1, 'magnanimity': 1, 'candour': 1, 'candid': 1, 'thanked': 1, 'routes': 1, 'craddocks': 1, 'train': 1, 'intimation': 1, 'liberation': 1, 'culdesac': 1, 'knocks': 1, 'behoved': 1, 'doublet': 1, 'buying': 1, 'wee': 1, 'sukey': 1, 'thompson': 1, 'redbrown': 1, 'stallion': 1, 'gait': 1, 'curvets': 1, 'manage': 1, 'courses': 1, 'mauler': 1, 'leather': 1, 'pounds': 1, 'owners': 1, 'option': 1, 'sold': 1, 'outright': 1, 'fetched': 1, 'baggager': 1, 'bones': 1, 'downright': 1, 'gambling': 1, 'sequel': 1, 'nottinghamshire': 1, 'campaigning': 1, 'intrigue': 1, 'changes': 1, 'du': 1, 'génie': 1, 'picked': 1, 'decayed': 1, 'assortment': 1, 'incongruous': 1, 'illadapted': 1, 'hessian': 1, 'eaves': 1, 'nankeen': 1, 'blackamoor': 1, 'warp': 1, 'woof': 1, 'spotted': 1, 'waistcoat': 1, 'disunited': 1, 'pockets': 1, 'brim': 1, 'meets': 1, 'lanky': 1, 'dishevelled': 1, 'brooch': 1, 'gage': 1, 'damour': 1, 'sentimental': 1, 'sodden': 1, 'visage': 1, 'sepulchral': 1, 'wit': 1, 'beau': 1, 'styled': 1, 'consulted': 1, 'infirmity': 1, 'mares': 1, 'swap': 1, 'rippish': 1, 'patch': 1, 'hiring': 1, 'mamseywe': 1, 'mistaking': 1, 'drub': 1, 'immoderately': 1, 'gossipy': 1, 'etcyours': 1, 'bearlead': 1, 'artificers': 1, 'intrenching': 1, 'désagréments': 1, 'pardon': 1, 'chafed': 1, 'difficulties': 1, 'villain': 1, 'busied': 1, 'predetermined': 1, 'curveted': 1, 'agility': 1, 'neigh': 1, 'ney': 1, 'nag': 1, 'diluted': 1, 'somehow': 1, 'strap': 1, 'resembled': 1, 'stolen': 1, 'locket': 1, 'giantess': 1, 'bruised': 1, 'tug': 1, 'bridle': 1, 'jade': 1, 'encouragement': 1, 'violate': 1, 'inclination': 1, 'doorway': 1, 'buffeted': 1, 'indignant': 1, 'housewife': 1, 'valet': 1, 'thingsmy': 1, 'banging': 1, 'awkwardness': 1, 'villainy': 1, 'beasti': 1, 'committing': 1, 'egregious': 1, 'assailing': 1, 'sergeant': 1, 'meditation': 1, 'inspired': 1, 'announce': 1, 'universally': 1, 'paved': 1, 'overhung': 1, 'vines': 1, 'tasteless': 1, 'diversified': 1, 'contrivances': 1, 'metropolis': 1, 'santarem': 1, 'fenny': 1, 'divide': 1, 'localities': 1, 'composedly': 1, 'landlearned': 1, 'exhaust': 1, 'dutchman': 1, 'dillons': 1, 'resume': 1, 'wat': 1, 'wo': 1, 'tol': 1, 'brigadiers': 1, 'foreignness': 1, 'wellinformed': 1, 'discouraged': 1, 'crustiness': 1, 'sr': 1, 'forbear': 1, 'subtlety': 1, 'illhumour': 1, 'vented': 1, 'sagesse': 1, 'discrimination': 1, 'spur': 1, 'pestilence': 1, 'famine': 1, 'breech': 1, 'lame': 1, 'lameness': 1, 'groom': 1, 'ailed': 1, 'fomentation': 1, 'hogs': 1, 'dung': 1, 'eagerly': 1, 'lied': 1, 'grieve': 1, 'thereof': 1, 'wealthy': 1, 'guests': 1, 'elderly': 1, 'cant': 1, 'firsta': 1, 'fooling': 1, 'lusty': 1, 'marshmallows': 1, 'repugnant': 1, 'management': 1, 'unfeeling': 1, 'unite': 1, 'meal': 1, 'predicament': 1, 'fasting': 1, 'grow': 1, 'hunger': 1, 'heaving': 1, 'manger': 1, 'voracity': 1, 'perponchers': 1, 'chagrin': 1, 'snuff': 1, 'followsyou': 1, 'volunteering': 1, 'determining': 1, 'noisome': 1, 'vexations': 1, 'implicating': 1, 'recruits': 1, 'striving': 1, 'organise': 1, 'mutinous': 1, 'rabble': 1, 'righteous': 1, 'swarths': 1, 'attendant': 1, 'differently': 1, 'disagreeably': 1, 'myrmidons': 1, 'sack': 1, 'peizo': 1, 'awaited': 1, 'aggravated': 1, 'sacked': 1, 'mansion': 1, 'habitation': 1, 'swells': 1, 'ruthless': 1, 'destroyers': 1, 'sylvesan': 1, 'loison': 1, 'inhuman': 1, 'harms': 1, 'finer': 1, 'vimiera': 1, 'vrai': 1, 'bien': 1, 'dit': 1, 'simile': 1, 'wolfes': 1, 'tilson': 1, 'chaves': 1, 'penetrated': 1, 'mortification': 1, 'notification': 1, 'successes': 1, 'leans': 1, 'wonderfully': 1, 'nobleness': 1, 'maimed': 1, 'politics': 1, 'overrun': 1, 'entertain': 1, 'disgraced': 1, 'shamefully': 1, 'rigid': 1, 'attribute': 1, 'disaster': 1, 'sanguinary': 1, 'cowardly': 1, 'indecisive': 1, 'disquiets': 1, 'pine': 1, 'comically': 1, 'darling': 1, 'guardian': 1, 'angels': 1, 'hover': 1, 'coria': 1, 'styes': 1, 'contracted': 1, 'scraping': 1, 'inarticulate': 1, 'compose': 1, 'gargling': 1, 'vinegar': 1, 'castilian': 1, 'burr': 1, 'patent': 1, 'silvermounted': 1, 'morocco': 1, 'letterpaper': 1, 'pens': 1, 'ink': 1, 'secrets': 1, 'ns': 1, 'series': 1, 'boxesall': 1, 'pedro': 1, 'bernardos': 1, 'temper': 1, 'unwell': 1, 'mostly': 1, 'plaçentia': 1, 'inhabited': 1, 'cranes': 1, 'perching': 1, 'housetops': 1, 'steeples': 1, 'cowering': 1, 'stalk': 1, 'weathercock': 1, 'spyglass': 1, 'fresher': 1, 'contrive': 1, 'dictate': 1, 'fluently': 1, 'decorum': 1, 'lop': 1, 'tobacconists': 1, 'condolence': 1, 'bridled': 1, 'entice': 1, 'unwary': 1, 'lunge': 1, 'innocently': 1, 'dawdling': 1, 'sleepy': 1, 'accomplishments': 1, 'mourns': 1, 'cheerly': 1, 'castel': 1, 'branco': 1, 'ebro': 1, 'placentia': 1, 'miss': 1, 'danube': 1, 'fallaciously': 1, 'fatherin': 1, 'solely': 1, 'fugitive': 1, 'calumniator': 1, 'invasion': 1, 'calabrians': 1, 'ferocious': 1, 'stuarts': 1, 'raise': 1, 'countryarm': 1, 'itand': 1, 'presumed': 1, 'uninhabitable': 1, 'scourge': 1, 'bushfighting': 1, 'poles': 1, 'wasabout': 1, 'englishmans': 1, 'imposes': 1, 'sportsmen': 1, 'pitied': 1, 'assistedin': 1, 'lamb': 1, 'wretch': 1, 'canteen': 1, 'amounted': 1, 'infantries': 1, 'watteville': 1, 'highland': 1, 'fatheryour': 1, 'morenot': 1, 'risk': 1, 'prejudgment': 1, 'manœuvring': 1, 'blind': 1, 'enemyan': 1, 'prejudice': 1, 'mislead': 1, 'invading': 1, 'deluded': 1, 'hares': 1, 'deservedly': 1, 'stray': 1, 'staying': 1, 'missed': 1, 'retrograde': 1, 'gleaned': 1, 'smelling': 1, 'rat': 1, 'squeezed': 1, 'personated': 1, 'disgrace': 1, 'pizzo': 1, 'somewhere': 1, 'betrays': 1, 'unreasonable': 1, 'acknowledges': 1, 'condemns': 1, 'unbroken': 1, 'assures': 1, 'motheryour': 1, 'unclewe': 1, 'suits': 1, 'seagerlinds': 1, 'unclethe': 1, 'fountain': 1, 'remonstrated': 1, 'remonstrance': 1, 'thornton': 1, 'christer': 1, 'creditable': 1, 'affectionately': 1, 'menquite': 1, 'johns': 1, 'monday': 1, 'unlikely': 1, 'contend': 1, 'decoy': 1, 'eastward': 1, 'impede': 1, 'stopt': 1, 'disposable': 1, 'escurial': 1, 'benaventa': 1, 'downing': 1, 'secretaries': 1, 'ville': 1, 'lordby': 1, 'muchlamented': 1, 'acquaint': 1, 'contested': 1, 'unconquerable': 1, 'repulse': 1, 'gordon': 1, 'delivering': 1, 'requiredi': 1, 'sirin': 1, 'detail': 1, 'occurrences': 1, 'reinforcements': 1, 'contest': 1, 'unacquainted': 1, 'irreparable': 1, 'originally': 1, 'foiled': 1, 'welltimed': 1, 'cantonments': 1, 'frasers': 1, 'relax': 1, 'nicholls': 1, 'confined': 1, 'reassembled': 1, 'warranted': 1, 'departing': 1, 'quitted': 1, 'unembarked': 1, 'prescribed': 1, 'curzon': 1, 'gosselin': 1, 'rainier': 1, 'serret': 1, 'digby': 1, 'carden': 1, 'mackenzie': 1, 'rearadmiral': 1, 'commissioner': 1, 'exception': 1, 'manifest': 1, 'withdrew': 1, 'britain': 1, 'clouded': 1, 'achieved': 1, 'advantageous': 1, 'reaped': 1, 'sweetest': 1, 'lustre': 1, 'disadvantageous': 1, 'fairest': 1, 'concentrating': 1, 'covering': 1, 'undaunted': 1, 'inherent': 1, 'vie': 1, 'select': 1, 'warde': 1, 'catlin': 1, 'crauford': 1, 'brunt': 1, 'clinton': 1, 'slade': 1, 'casualties': 1, 'estimate': 1, 'winch': 1, 'maxwell': 1, 'fane': 1, 'griffith': 1, 'miller': 1, 'expatiate': 1, 'conducting': 1, 'consummate': 1, 'career': 1, 'immortal': 1, 'acclamation': 1, 'speedily': 1, 'restored': 1, 'momentary': 1, 'handsi': 1, 'coruña': 1, 'othe': 1, 'directs': 1, 'convalescents': 1, 'ltcol': 1, 'qrmrgeneral': 1, 'appt': 1, 'decr': 1, 'capt': 1, 'extra': 1, 'mooresignature': 1, 'clark': 1, 'edinburgh': 1, 'footnotes': 1, 'westminster': 1, 'cospetto': 1, 'exclaimed': 1, 'unlike': 1, 'portland': 1, 'matagorda': 1, 'despatchescharles': 1, 'gustavus': 1, 'editor': 1, 'precisely': 1, 'sunrise': 1, 'scotland': 1, 'ochils': 1, 'crieff': 1, 'sanagun': 1, 'watchman': 1, 'intensified': 1, 'anguish': 1, 'proudest': 1, 'continuation': 1, 'messrs': 1, 'extract': 1, 'esq': 1, 'buckram': 1, 'reminiscences': 1, 'writer': 1, 'attractionstimes': 1, 'readdaily': 1, 'exceptionally': 1, 'treatedglasgow': 1, 'peninsulaspeaker': 1, 'interestscotsman': 1, 'liking': 1, 'gallantly': 1, 'captivitystandard': 1, 'cheerfulness': 1, 'singularly': 1, 'refreshingacademy': 1, 'surpassing': 1, 'biographical': 1, 'arises': 1, 'yearsbirmingham': 1, 'autobiographies': 1, 'editedwestminster': 1, 'waterloo': 1, 'vividly': 1, 'periods': 1, 'unintentional': 1, 'gentlemanthe': 1, 'standard': 1, 'heroism': 1, 'occasional': 1, 'exceptional': 1, 'excesses': 1, 'endurance': 1, 'soldierdaily': 1, 'riflemen': 1, 'belonged': 1, 'manthe': 1, 'volume': 1, 'contributing': 1, 'contemporary': 1, 'records': 1, 'observant': 1, 'worldmoulding': 1, 'strugglesglasgow': 1, 'realistic': 1, 'phases': 1, 'historic': 1, 'strugglespeaker': 1, 'nucleus': 1, 'craufurdpall': 1, 'mall': 1, 'documentacademy': 1, 'civilian': 1, 'rings': 1, 'inspiring': 1, 'characterdaily': 1, 'punctuation': 1, 'hyphenation': 1, 'spelling': 1, 'consistent': 1, 'predominant': 1, 'preference': 1, 'typographical': 1, 'corrected': 1, 'quotation': 1, 'marks': 1, 'remedied': 1, 'positioned': 1, 'quotations': 1, 'versions': 1, 'hyperlinks': 1, 'clearlydefined': 1, 'chapters': 1, 'symbol': 1, 'refers': 1, 'blank': 1, 'area': 1, 'uppermiddle': 1, 'updated': 1, 'replace': 1, 'onethe': 1, 'renamed': 1, 'special': 1, 'creation': 1, 'performances': 1, 'modified': 1, 'awayyou': 1, 'practically': 1, 'commercial': 1, 'wwwgutenbergorglicense': 1, 'indicate': 1, 'trademarkcopyright': 1, 'abide': 1, 'pglaf': 1, 'claim': 1, 'govern': 1, 'countries': 1, 'downloading': 1, 'representations': 1, 'accessed': 1, 'texts': 1, 'charges': 1, 'linked': 1, 'unlink': 1, 'detach': 1, 'files': 1, 'redistribute': 1, 'convert': 1, 'binary': 1, 'compressed': 1, 'nonproprietary': 1, 'proprietary': 1, 'processing': 1, 'hypertext': 1, 'version': 1, 'expense': 1, 'exporting': 1, 'alternate': 1, 'include': 1, 'gross': 1, 'profits': 1, 'method': 1, 'calculate': 1, 'taxes': 1, 'legally': 1, 'periodic': 1, 'notifies': 1, 'require': 1, 'discontinue': 1, 'manager': 1, 'expend': 1, 'identify': 1, 'proofread': 1, 'incomplete': 1, 'inaccurate': 1, 'corrupt': 1, 'data': 1, 'transcription': 1, 'infringement': 1, 'damaged': 1, 'virus': 1, 'codes': 1, 'disclaim': 1, 'remedies': 1, 'negligence': 1, 'distributor': 1, 'indirect': 1, 'consequential': 1, 'punitive': 1, 'incidental': 1, 'possibility': 1, 'elect': 1, 'problem': 1, 'asis': 1, 'merchantability': 1, 'fitness': 1, 'disclaimers': 1, 'exclusion': 1, 'types': 1, 'violates': 1, 'interpreted': 1, 'maximum': 1, 'invalidity': 1, 'unenforceability': 1, 'provision': 1, 'void': 1, 'indemnity': 1, 'indemnify': 1, 'employee': 1, 'production': 1, 'promotion': 1, 'harmless': 1, 'indirectly': 1, 'alteration': 1, 'modification': 1, 'additions': 1, 'deletions': 1, 'synonymous': 1, 'formats': 1, 'readable': 1, 'obsolete': 1, 'middleaged': 1, 'walks': 1, 'financial': 1, 'gutenbergs': 1, 'goals': 1, 'permanent': 1, 'sections': 1, 'nonprofit': 1, 'educational': 1, 'corporation': 1, 'organized': 1, 'mississippi': 1, 'revenue': 1, 'ein': 1, 'identification': 1, 'deductible': 1, 'lake': 1, 'ut': 1, 'wwwgutenbergorgcontact': 1, 'depends': 1, 'survive': 1, 'widespread': 1, 'licensed': 1, 'machinereadable': 1, 'accessible': 1, 'array': 1, 'outdated': 1, 'irs': 1, 'regulating': 1, 'charities': 1, 'charitable': 1, 'paperwork': 1, 'locations': 1, 'confirmation': 1, 'solicitation': 1, 'accepting': 1, 'unsolicited': 1, 'donors': 1, 'international': 1, 'gratefully': 1, 'statements': 1, 'treatment': 1, 'swamp': 1, 'donation': 1, 'methods': 1, 'addresses': 1, 'checks': 1, 'professor': 1, 'michael': 1, 'hart': 1, 'originator': 1, 'network': 1, 'edition': 1, 'pg': 1, 'includes': 1, 'newsletter': 1}\n"
     ]
    }
   ],
   "source": [
    "fileDict = {}\n",
    "\n",
    "\n",
    "with open (\"book.txt\", 'r', encoding='utf-8') as bookFile: \n",
    "     \n",
    "    for line in bookFile:     \n",
    "        for word in line.split():\n",
    "            word = word.lower()\n",
    "            actualword = ''.join(x for x in word if x.isalpha())\n",
    "            if actualword in fileDict:\n",
    "                fileDict[actualword] = fileDict[actualword]+1\n",
    "            else:\n",
    "                fileDict[actualword] = 1\n",
    " \n",
    "#print(fileDict)\n",
    "\n",
    "print(dict(sorted(fileDict.items(), key=lambda item: item[1], reverse=True),))"
   ]
  },
  {
   "cell_type": "code",
   "execution_count": null,
   "metadata": {},
   "outputs": [],
   "source": []
  }
 ],
 "metadata": {
  "colab": {
   "provenance": []
  },
  "kernelspec": {
   "display_name": "Python 3 (ipykernel)",
   "language": "python",
   "name": "python3"
  },
  "language_info": {
   "codemirror_mode": {
    "name": "ipython",
    "version": 3
   },
   "file_extension": ".py",
   "mimetype": "text/x-python",
   "name": "python",
   "nbconvert_exporter": "python",
   "pygments_lexer": "ipython3",
   "version": "3.9.13"
  }
 },
 "nbformat": 4,
 "nbformat_minor": 1
}
